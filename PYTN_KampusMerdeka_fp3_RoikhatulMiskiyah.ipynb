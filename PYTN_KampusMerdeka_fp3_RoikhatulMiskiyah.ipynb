{
  "nbformat": 4,
  "nbformat_minor": 0,
  "metadata": {
    "colab": {
      "name": "PYTN_KampusMerdeka_fp3__nama_.ipynb",
      "provenance": [],
      "collapsed_sections": [],
      "toc_visible": true
    },
    "kernelspec": {
      "name": "python3",
      "display_name": "Python 3"
    },
    "language_info": {
      "name": "python"
    }
  },
  "cells": [
    {
      "cell_type": "markdown",
      "source": [
        "# FINAL PROJECT 3"
      ],
      "metadata": {
        "id": "bHgHguaVdtjo"
      }
    },
    {
      "cell_type": "markdown",
      "source": [
        "**Kelompok 4**\n",
        "\n",
        "Anggota :\n",
        "\n",
        "\n",
        "1. Nuur Ainii Kartika Putri - (PYTN-KS05-006)\n",
        "2. Muhammad Rezky Hamesi Akhyar - (PYTN-KS05-007)\n",
        "3. Roikhatul Miskiyah - (PYTN-KS05-010)"
      ],
      "metadata": {
        "id": "aZpxZpNj2LIt"
      }
    },
    {
      "cell_type": "markdown",
      "source": [
        "# 1. Introduction"
      ],
      "metadata": {
        "id": "2TpZfyrI2D4t"
      }
    },
    {
      "cell_type": "markdown",
      "source": [
        "## a. Project Overview"
      ],
      "metadata": {
        "id": "5rDn79OX3bL4"
      }
    },
    {
      "cell_type": "markdown",
      "source": [
        "1. Latar belakang\n",
        "\n",
        "Penyakit kardiovaskular (CVDs) adalah penyebab kematian nomor 1 secara global, mengambil sekitar 17,9 juta jiwa setiap tahun, yang menyumbang 31% dari semua kematian di seluruh dunia.\n",
        "Gagal jantung adalah kejadian umum yang disebabkan oleh CVD dan kumpulan data ini berisi 13 fitur yang dapat digunakan untuk memprediksi kematian akibat gagal jantung.\n",
        "\n",
        "Sebagian besar penyakit kardiovaskular dapat dicegah dengan mengatasi faktor risiko perilaku seperti penggunaan tembakau, diet tidak sehat dan obesitas, kurangnya aktivitas fisik, dan penggunaan alkohol yang berbahaya menggunakan strategi di seluruh populasi.\n",
        "\n",
        "Orang dengan penyakit kardiovaskular atau yang berada pada risiko kardiovaskular tinggi (karena adanya satu atau lebih faktor risiko seperti hipertensi, diabetes, hiperlipidemia atau penyakit yang sudah ada) memerlukan deteksi dan manajemen dini di mana model pembelajaran mesin dapat sangat membantu.\n",
        "\n",
        "\n",
        "2. Data yang digunakan\n",
        "\n",
        "Dataset yang digunakan adalah database besar yang berisi 299 baris dan 13 kolom, di sini kita akan menggunakan dataset \"heart_failure_clinical_records_dataset.csv\" yang tersedia untuk digunakan https://www.kaggle.com/datasets/andrewmvd/heart-failure-clinical-data. Data tersebut berisi kumpulan fitur yang digunakan untuk memprediksi kematian akibat gagal jantung. Variabel independen  yang digunakan adalah fitur age, anaemia, creatinine_phosphokinase, diabetes, ejection_fraction, high_blood_pressure, platelets, serum_creatinine, serum_sodium, sex, smoking, dan time. Sedangkan untuk variabel dependennya menggunakan fitur DEATH_EVENT. \n",
        "\n",
        "3. Objective yang ingin dicapai\n",
        "\n",
        "Dalam penelitian ini kami memprediksi dari kumpulan data rekaman penyakit CVD untuk memprediksi kematian akibat penyakit gagal jantung. "
      ],
      "metadata": {
        "id": "Z1UGTnCzZ7nz"
      }
    },
    {
      "cell_type": "markdown",
      "source": [
        "Data ini memiliki 13 atribut. \n",
        "Attribute Information:\n",
        "1. age - umur pasien\n",
        "2. anaemia - apakah ada pengurangan haemoglobin\n",
        "3. creatinine_phosphokinase - level enzim CPK dalam mcg/L\n",
        "4. diabetes - apakah pasien punya riwayat diabetes\n",
        "5. ejection_fraction - persentase darah yang meninggalkan jantung dalam persentasi\n",
        "di setiap kontraksi jantung\n",
        "6. high_blood_pressure - apakah pasien punya darah tinggi\n",
        "7. platelets - jumlah platelet di darah dalam kiloplatelets/mL\n",
        "8. serum_creatinine - level serum creatinine di darah dalam mg/dL\n",
        "9. serum_sodium - level serum sodium di darah dalam mEq/L\n",
        "10. sex - apakah pasien pria atau wanita\n",
        "11. smoking - apakah pasien merokok\n",
        "12. time - waktu dalam hari untuk follow-up\n",
        "13. DEATH_EVENT - apakah pasien sudah meninggal saat waktu follow-up"
      ],
      "metadata": {
        "id": "sC0AmK8k3eil"
      }
    },
    {
      "cell_type": "markdown",
      "source": [
        "# 2. Import Library"
      ],
      "metadata": {
        "id": "vRMFUdNU3lCl"
      }
    },
    {
      "cell_type": "code",
      "source": [
        "from google.colab import drive\n",
        "drive.mount('/content/drive')"
      ],
      "metadata": {
        "id": "eHEX53CD3Pju",
        "colab": {
          "base_uri": "https://localhost:8080/"
        },
        "outputId": "0d89f7f8-b238-4ce4-d179-ee9be8113de5"
      },
      "execution_count": null,
      "outputs": [
        {
          "output_type": "stream",
          "name": "stdout",
          "text": [
            "Drive already mounted at /content/drive; to attempt to forcibly remount, call drive.mount(\"/content/drive\", force_remount=True).\n"
          ]
        }
      ]
    },
    {
      "cell_type": "code",
      "execution_count": null,
      "metadata": {
        "id": "hPQJyBNY0oJk"
      },
      "outputs": [],
      "source": [
        "import pandas as pd\n",
        "import numpy as np # linear algebra\n",
        "\n",
        "import missingno as msn\n",
        "\n",
        "# import libraries for plotting\n",
        "from matplotlib import pylab\n",
        "import matplotlib.pyplot as plt\n",
        "import seaborn as sns\n",
        "\n",
        "%matplotlib inline\n",
        "\n",
        "from sklearn.ensemble import RandomForestClassifier\n",
        "from sklearn.metrics import accuracy_score\n",
        "from sklearn.metrics import confusion_matrix\n",
        "from sklearn.metrics import classification_report\n",
        "from imblearn.over_sampling import SMOTE\n",
        "from imblearn.over_sampling import BorderlineSMOTE\n",
        "from imblearn.over_sampling import ADASYN\n",
        "\n",
        "from sklearn.utils import resample"
      ]
    },
    {
      "cell_type": "markdown",
      "source": [
        "# 3. Data Loading"
      ],
      "metadata": {
        "id": "ew0D30_831OM"
      }
    },
    {
      "cell_type": "code",
      "source": [
        "df = pd.read_csv('/content/drive/MyDrive/Final Project/heart_failure_clinical_records_dataset.csv')\n",
        "pd.set_option('display.max_columns',None)\n",
        "\n",
        "print ('Data read into a pandas dataframe!')"
      ],
      "metadata": {
        "id": "W5SSipNd356-",
        "colab": {
          "base_uri": "https://localhost:8080/"
        },
        "outputId": "72b65ec6-2517-4df5-9847-f73b95ce55b1"
      },
      "execution_count": null,
      "outputs": [
        {
          "output_type": "stream",
          "name": "stdout",
          "text": [
            "Data read into a pandas dataframe!\n"
          ]
        }
      ]
    },
    {
      "cell_type": "code",
      "source": [
        "df.head()"
      ],
      "metadata": {
        "id": "moKPu5GtVnlE",
        "colab": {
          "base_uri": "https://localhost:8080/",
          "height": 270
        },
        "outputId": "e4b31653-ac1b-4d13-b8e1-843758e10a69"
      },
      "execution_count": null,
      "outputs": [
        {
          "output_type": "execute_result",
          "data": {
            "text/plain": [
              "    age  anaemia  creatinine_phosphokinase  diabetes  ejection_fraction  \\\n",
              "0  75.0        0                       582         0                 20   \n",
              "1  55.0        0                      7861         0                 38   \n",
              "2  65.0        0                       146         0                 20   \n",
              "3  50.0        1                       111         0                 20   \n",
              "4  65.0        1                       160         1                 20   \n",
              "\n",
              "   high_blood_pressure  platelets  serum_creatinine  serum_sodium  sex  \\\n",
              "0                    1  265000.00               1.9           130    1   \n",
              "1                    0  263358.03               1.1           136    1   \n",
              "2                    0  162000.00               1.3           129    1   \n",
              "3                    0  210000.00               1.9           137    1   \n",
              "4                    0  327000.00               2.7           116    0   \n",
              "\n",
              "   smoking  time  DEATH_EVENT  \n",
              "0        0     4            1  \n",
              "1        0     6            1  \n",
              "2        1     7            1  \n",
              "3        0     7            1  \n",
              "4        0     8            1  "
            ],
            "text/html": [
              "\n",
              "  <div id=\"df-229c8ab8-1a25-485f-9dd6-72a27897108c\">\n",
              "    <div class=\"colab-df-container\">\n",
              "      <div>\n",
              "<style scoped>\n",
              "    .dataframe tbody tr th:only-of-type {\n",
              "        vertical-align: middle;\n",
              "    }\n",
              "\n",
              "    .dataframe tbody tr th {\n",
              "        vertical-align: top;\n",
              "    }\n",
              "\n",
              "    .dataframe thead th {\n",
              "        text-align: right;\n",
              "    }\n",
              "</style>\n",
              "<table border=\"1\" class=\"dataframe\">\n",
              "  <thead>\n",
              "    <tr style=\"text-align: right;\">\n",
              "      <th></th>\n",
              "      <th>age</th>\n",
              "      <th>anaemia</th>\n",
              "      <th>creatinine_phosphokinase</th>\n",
              "      <th>diabetes</th>\n",
              "      <th>ejection_fraction</th>\n",
              "      <th>high_blood_pressure</th>\n",
              "      <th>platelets</th>\n",
              "      <th>serum_creatinine</th>\n",
              "      <th>serum_sodium</th>\n",
              "      <th>sex</th>\n",
              "      <th>smoking</th>\n",
              "      <th>time</th>\n",
              "      <th>DEATH_EVENT</th>\n",
              "    </tr>\n",
              "  </thead>\n",
              "  <tbody>\n",
              "    <tr>\n",
              "      <th>0</th>\n",
              "      <td>75.0</td>\n",
              "      <td>0</td>\n",
              "      <td>582</td>\n",
              "      <td>0</td>\n",
              "      <td>20</td>\n",
              "      <td>1</td>\n",
              "      <td>265000.00</td>\n",
              "      <td>1.9</td>\n",
              "      <td>130</td>\n",
              "      <td>1</td>\n",
              "      <td>0</td>\n",
              "      <td>4</td>\n",
              "      <td>1</td>\n",
              "    </tr>\n",
              "    <tr>\n",
              "      <th>1</th>\n",
              "      <td>55.0</td>\n",
              "      <td>0</td>\n",
              "      <td>7861</td>\n",
              "      <td>0</td>\n",
              "      <td>38</td>\n",
              "      <td>0</td>\n",
              "      <td>263358.03</td>\n",
              "      <td>1.1</td>\n",
              "      <td>136</td>\n",
              "      <td>1</td>\n",
              "      <td>0</td>\n",
              "      <td>6</td>\n",
              "      <td>1</td>\n",
              "    </tr>\n",
              "    <tr>\n",
              "      <th>2</th>\n",
              "      <td>65.0</td>\n",
              "      <td>0</td>\n",
              "      <td>146</td>\n",
              "      <td>0</td>\n",
              "      <td>20</td>\n",
              "      <td>0</td>\n",
              "      <td>162000.00</td>\n",
              "      <td>1.3</td>\n",
              "      <td>129</td>\n",
              "      <td>1</td>\n",
              "      <td>1</td>\n",
              "      <td>7</td>\n",
              "      <td>1</td>\n",
              "    </tr>\n",
              "    <tr>\n",
              "      <th>3</th>\n",
              "      <td>50.0</td>\n",
              "      <td>1</td>\n",
              "      <td>111</td>\n",
              "      <td>0</td>\n",
              "      <td>20</td>\n",
              "      <td>0</td>\n",
              "      <td>210000.00</td>\n",
              "      <td>1.9</td>\n",
              "      <td>137</td>\n",
              "      <td>1</td>\n",
              "      <td>0</td>\n",
              "      <td>7</td>\n",
              "      <td>1</td>\n",
              "    </tr>\n",
              "    <tr>\n",
              "      <th>4</th>\n",
              "      <td>65.0</td>\n",
              "      <td>1</td>\n",
              "      <td>160</td>\n",
              "      <td>1</td>\n",
              "      <td>20</td>\n",
              "      <td>0</td>\n",
              "      <td>327000.00</td>\n",
              "      <td>2.7</td>\n",
              "      <td>116</td>\n",
              "      <td>0</td>\n",
              "      <td>0</td>\n",
              "      <td>8</td>\n",
              "      <td>1</td>\n",
              "    </tr>\n",
              "  </tbody>\n",
              "</table>\n",
              "</div>\n",
              "      <button class=\"colab-df-convert\" onclick=\"convertToInteractive('df-229c8ab8-1a25-485f-9dd6-72a27897108c')\"\n",
              "              title=\"Convert this dataframe to an interactive table.\"\n",
              "              style=\"display:none;\">\n",
              "        \n",
              "  <svg xmlns=\"http://www.w3.org/2000/svg\" height=\"24px\"viewBox=\"0 0 24 24\"\n",
              "       width=\"24px\">\n",
              "    <path d=\"M0 0h24v24H0V0z\" fill=\"none\"/>\n",
              "    <path d=\"M18.56 5.44l.94 2.06.94-2.06 2.06-.94-2.06-.94-.94-2.06-.94 2.06-2.06.94zm-11 1L8.5 8.5l.94-2.06 2.06-.94-2.06-.94L8.5 2.5l-.94 2.06-2.06.94zm10 10l.94 2.06.94-2.06 2.06-.94-2.06-.94-.94-2.06-.94 2.06-2.06.94z\"/><path d=\"M17.41 7.96l-1.37-1.37c-.4-.4-.92-.59-1.43-.59-.52 0-1.04.2-1.43.59L10.3 9.45l-7.72 7.72c-.78.78-.78 2.05 0 2.83L4 21.41c.39.39.9.59 1.41.59.51 0 1.02-.2 1.41-.59l7.78-7.78 2.81-2.81c.8-.78.8-2.07 0-2.86zM5.41 20L4 18.59l7.72-7.72 1.47 1.35L5.41 20z\"/>\n",
              "  </svg>\n",
              "      </button>\n",
              "      \n",
              "  <style>\n",
              "    .colab-df-container {\n",
              "      display:flex;\n",
              "      flex-wrap:wrap;\n",
              "      gap: 12px;\n",
              "    }\n",
              "\n",
              "    .colab-df-convert {\n",
              "      background-color: #E8F0FE;\n",
              "      border: none;\n",
              "      border-radius: 50%;\n",
              "      cursor: pointer;\n",
              "      display: none;\n",
              "      fill: #1967D2;\n",
              "      height: 32px;\n",
              "      padding: 0 0 0 0;\n",
              "      width: 32px;\n",
              "    }\n",
              "\n",
              "    .colab-df-convert:hover {\n",
              "      background-color: #E2EBFA;\n",
              "      box-shadow: 0px 1px 2px rgba(60, 64, 67, 0.3), 0px 1px 3px 1px rgba(60, 64, 67, 0.15);\n",
              "      fill: #174EA6;\n",
              "    }\n",
              "\n",
              "    [theme=dark] .colab-df-convert {\n",
              "      background-color: #3B4455;\n",
              "      fill: #D2E3FC;\n",
              "    }\n",
              "\n",
              "    [theme=dark] .colab-df-convert:hover {\n",
              "      background-color: #434B5C;\n",
              "      box-shadow: 0px 1px 3px 1px rgba(0, 0, 0, 0.15);\n",
              "      filter: drop-shadow(0px 1px 2px rgba(0, 0, 0, 0.3));\n",
              "      fill: #FFFFFF;\n",
              "    }\n",
              "  </style>\n",
              "\n",
              "      <script>\n",
              "        const buttonEl =\n",
              "          document.querySelector('#df-229c8ab8-1a25-485f-9dd6-72a27897108c button.colab-df-convert');\n",
              "        buttonEl.style.display =\n",
              "          google.colab.kernel.accessAllowed ? 'block' : 'none';\n",
              "\n",
              "        async function convertToInteractive(key) {\n",
              "          const element = document.querySelector('#df-229c8ab8-1a25-485f-9dd6-72a27897108c');\n",
              "          const dataTable =\n",
              "            await google.colab.kernel.invokeFunction('convertToInteractive',\n",
              "                                                     [key], {});\n",
              "          if (!dataTable) return;\n",
              "\n",
              "          const docLinkHtml = 'Like what you see? Visit the ' +\n",
              "            '<a target=\"_blank\" href=https://colab.research.google.com/notebooks/data_table.ipynb>data table notebook</a>'\n",
              "            + ' to learn more about interactive tables.';\n",
              "          element.innerHTML = '';\n",
              "          dataTable['output_type'] = 'display_data';\n",
              "          await google.colab.output.renderOutput(dataTable, element);\n",
              "          const docLink = document.createElement('div');\n",
              "          docLink.innerHTML = docLinkHtml;\n",
              "          element.appendChild(docLink);\n",
              "        }\n",
              "      </script>\n",
              "    </div>\n",
              "  </div>\n",
              "  "
            ]
          },
          "metadata": {},
          "execution_count": 85
        }
      ]
    },
    {
      "cell_type": "code",
      "source": [
        "df.shape"
      ],
      "metadata": {
        "id": "bo9LzvAMWFxa",
        "colab": {
          "base_uri": "https://localhost:8080/"
        },
        "outputId": "f992b930-1eb5-43e1-b0ce-676b7cc9cd95"
      },
      "execution_count": null,
      "outputs": [
        {
          "output_type": "execute_result",
          "data": {
            "text/plain": [
              "(299, 13)"
            ]
          },
          "metadata": {},
          "execution_count": 86
        }
      ]
    },
    {
      "cell_type": "markdown",
      "source": [
        "Baris: 299\n",
        "\n",
        "Kolom: 13"
      ],
      "metadata": {
        "id": "A6Bw-x13dPDV"
      }
    },
    {
      "cell_type": "code",
      "source": [
        "df.info()"
      ],
      "metadata": {
        "id": "clXuPBs9WIyI",
        "colab": {
          "base_uri": "https://localhost:8080/"
        },
        "outputId": "e9a0807e-d760-410f-e7fa-8c5c24819b7b"
      },
      "execution_count": null,
      "outputs": [
        {
          "output_type": "stream",
          "name": "stdout",
          "text": [
            "<class 'pandas.core.frame.DataFrame'>\n",
            "RangeIndex: 299 entries, 0 to 298\n",
            "Data columns (total 13 columns):\n",
            " #   Column                    Non-Null Count  Dtype  \n",
            "---  ------                    --------------  -----  \n",
            " 0   age                       299 non-null    float64\n",
            " 1   anaemia                   299 non-null    int64  \n",
            " 2   creatinine_phosphokinase  299 non-null    int64  \n",
            " 3   diabetes                  299 non-null    int64  \n",
            " 4   ejection_fraction         299 non-null    int64  \n",
            " 5   high_blood_pressure       299 non-null    int64  \n",
            " 6   platelets                 299 non-null    float64\n",
            " 7   serum_creatinine          299 non-null    float64\n",
            " 8   serum_sodium              299 non-null    int64  \n",
            " 9   sex                       299 non-null    int64  \n",
            " 10  smoking                   299 non-null    int64  \n",
            " 11  time                      299 non-null    int64  \n",
            " 12  DEATH_EVENT               299 non-null    int64  \n",
            "dtypes: float64(3), int64(10)\n",
            "memory usage: 30.5 KB\n"
          ]
        }
      ]
    },
    {
      "cell_type": "markdown",
      "source": [
        "Pada hasil di atas terlihat bahwa tipe data semua fitur kolom dataset adalah numeric yakni tipe int64 dan float64."
      ],
      "metadata": {
        "id": "rA1thWt36iLE"
      }
    },
    {
      "cell_type": "markdown",
      "source": [
        "# 4. Data Cleaning"
      ],
      "metadata": {
        "id": "Kb-k0bnU36pD"
      }
    },
    {
      "cell_type": "markdown",
      "source": [
        "## a. Missing Value"
      ],
      "metadata": {
        "id": "VE8HayMMWdGM"
      }
    },
    {
      "cell_type": "markdown",
      "source": [
        "Pada tahap ini dilakukan untuk melihat apakah terdapat missing value pada dataset."
      ],
      "metadata": {
        "id": "AD424QK9wBAS"
      }
    },
    {
      "cell_type": "code",
      "source": [
        "df.isnull()"
      ],
      "metadata": {
        "id": "4NYEHP_YvOL-",
        "colab": {
          "base_uri": "https://localhost:8080/",
          "height": 488
        },
        "outputId": "565b3ce5-b626-4c35-b18d-688b9116e5fa"
      },
      "execution_count": null,
      "outputs": [
        {
          "output_type": "execute_result",
          "data": {
            "text/plain": [
              "       age  anaemia  creatinine_phosphokinase  diabetes  ejection_fraction  \\\n",
              "0    False    False                     False     False              False   \n",
              "1    False    False                     False     False              False   \n",
              "2    False    False                     False     False              False   \n",
              "3    False    False                     False     False              False   \n",
              "4    False    False                     False     False              False   \n",
              "..     ...      ...                       ...       ...                ...   \n",
              "294  False    False                     False     False              False   \n",
              "295  False    False                     False     False              False   \n",
              "296  False    False                     False     False              False   \n",
              "297  False    False                     False     False              False   \n",
              "298  False    False                     False     False              False   \n",
              "\n",
              "     high_blood_pressure  platelets  serum_creatinine  serum_sodium    sex  \\\n",
              "0                  False      False             False         False  False   \n",
              "1                  False      False             False         False  False   \n",
              "2                  False      False             False         False  False   \n",
              "3                  False      False             False         False  False   \n",
              "4                  False      False             False         False  False   \n",
              "..                   ...        ...               ...           ...    ...   \n",
              "294                False      False             False         False  False   \n",
              "295                False      False             False         False  False   \n",
              "296                False      False             False         False  False   \n",
              "297                False      False             False         False  False   \n",
              "298                False      False             False         False  False   \n",
              "\n",
              "     smoking   time  DEATH_EVENT  \n",
              "0      False  False        False  \n",
              "1      False  False        False  \n",
              "2      False  False        False  \n",
              "3      False  False        False  \n",
              "4      False  False        False  \n",
              "..       ...    ...          ...  \n",
              "294    False  False        False  \n",
              "295    False  False        False  \n",
              "296    False  False        False  \n",
              "297    False  False        False  \n",
              "298    False  False        False  \n",
              "\n",
              "[299 rows x 13 columns]"
            ],
            "text/html": [
              "\n",
              "  <div id=\"df-35054882-a079-414e-aa05-ec468f0ff1b6\">\n",
              "    <div class=\"colab-df-container\">\n",
              "      <div>\n",
              "<style scoped>\n",
              "    .dataframe tbody tr th:only-of-type {\n",
              "        vertical-align: middle;\n",
              "    }\n",
              "\n",
              "    .dataframe tbody tr th {\n",
              "        vertical-align: top;\n",
              "    }\n",
              "\n",
              "    .dataframe thead th {\n",
              "        text-align: right;\n",
              "    }\n",
              "</style>\n",
              "<table border=\"1\" class=\"dataframe\">\n",
              "  <thead>\n",
              "    <tr style=\"text-align: right;\">\n",
              "      <th></th>\n",
              "      <th>age</th>\n",
              "      <th>anaemia</th>\n",
              "      <th>creatinine_phosphokinase</th>\n",
              "      <th>diabetes</th>\n",
              "      <th>ejection_fraction</th>\n",
              "      <th>high_blood_pressure</th>\n",
              "      <th>platelets</th>\n",
              "      <th>serum_creatinine</th>\n",
              "      <th>serum_sodium</th>\n",
              "      <th>sex</th>\n",
              "      <th>smoking</th>\n",
              "      <th>time</th>\n",
              "      <th>DEATH_EVENT</th>\n",
              "    </tr>\n",
              "  </thead>\n",
              "  <tbody>\n",
              "    <tr>\n",
              "      <th>0</th>\n",
              "      <td>False</td>\n",
              "      <td>False</td>\n",
              "      <td>False</td>\n",
              "      <td>False</td>\n",
              "      <td>False</td>\n",
              "      <td>False</td>\n",
              "      <td>False</td>\n",
              "      <td>False</td>\n",
              "      <td>False</td>\n",
              "      <td>False</td>\n",
              "      <td>False</td>\n",
              "      <td>False</td>\n",
              "      <td>False</td>\n",
              "    </tr>\n",
              "    <tr>\n",
              "      <th>1</th>\n",
              "      <td>False</td>\n",
              "      <td>False</td>\n",
              "      <td>False</td>\n",
              "      <td>False</td>\n",
              "      <td>False</td>\n",
              "      <td>False</td>\n",
              "      <td>False</td>\n",
              "      <td>False</td>\n",
              "      <td>False</td>\n",
              "      <td>False</td>\n",
              "      <td>False</td>\n",
              "      <td>False</td>\n",
              "      <td>False</td>\n",
              "    </tr>\n",
              "    <tr>\n",
              "      <th>2</th>\n",
              "      <td>False</td>\n",
              "      <td>False</td>\n",
              "      <td>False</td>\n",
              "      <td>False</td>\n",
              "      <td>False</td>\n",
              "      <td>False</td>\n",
              "      <td>False</td>\n",
              "      <td>False</td>\n",
              "      <td>False</td>\n",
              "      <td>False</td>\n",
              "      <td>False</td>\n",
              "      <td>False</td>\n",
              "      <td>False</td>\n",
              "    </tr>\n",
              "    <tr>\n",
              "      <th>3</th>\n",
              "      <td>False</td>\n",
              "      <td>False</td>\n",
              "      <td>False</td>\n",
              "      <td>False</td>\n",
              "      <td>False</td>\n",
              "      <td>False</td>\n",
              "      <td>False</td>\n",
              "      <td>False</td>\n",
              "      <td>False</td>\n",
              "      <td>False</td>\n",
              "      <td>False</td>\n",
              "      <td>False</td>\n",
              "      <td>False</td>\n",
              "    </tr>\n",
              "    <tr>\n",
              "      <th>4</th>\n",
              "      <td>False</td>\n",
              "      <td>False</td>\n",
              "      <td>False</td>\n",
              "      <td>False</td>\n",
              "      <td>False</td>\n",
              "      <td>False</td>\n",
              "      <td>False</td>\n",
              "      <td>False</td>\n",
              "      <td>False</td>\n",
              "      <td>False</td>\n",
              "      <td>False</td>\n",
              "      <td>False</td>\n",
              "      <td>False</td>\n",
              "    </tr>\n",
              "    <tr>\n",
              "      <th>...</th>\n",
              "      <td>...</td>\n",
              "      <td>...</td>\n",
              "      <td>...</td>\n",
              "      <td>...</td>\n",
              "      <td>...</td>\n",
              "      <td>...</td>\n",
              "      <td>...</td>\n",
              "      <td>...</td>\n",
              "      <td>...</td>\n",
              "      <td>...</td>\n",
              "      <td>...</td>\n",
              "      <td>...</td>\n",
              "      <td>...</td>\n",
              "    </tr>\n",
              "    <tr>\n",
              "      <th>294</th>\n",
              "      <td>False</td>\n",
              "      <td>False</td>\n",
              "      <td>False</td>\n",
              "      <td>False</td>\n",
              "      <td>False</td>\n",
              "      <td>False</td>\n",
              "      <td>False</td>\n",
              "      <td>False</td>\n",
              "      <td>False</td>\n",
              "      <td>False</td>\n",
              "      <td>False</td>\n",
              "      <td>False</td>\n",
              "      <td>False</td>\n",
              "    </tr>\n",
              "    <tr>\n",
              "      <th>295</th>\n",
              "      <td>False</td>\n",
              "      <td>False</td>\n",
              "      <td>False</td>\n",
              "      <td>False</td>\n",
              "      <td>False</td>\n",
              "      <td>False</td>\n",
              "      <td>False</td>\n",
              "      <td>False</td>\n",
              "      <td>False</td>\n",
              "      <td>False</td>\n",
              "      <td>False</td>\n",
              "      <td>False</td>\n",
              "      <td>False</td>\n",
              "    </tr>\n",
              "    <tr>\n",
              "      <th>296</th>\n",
              "      <td>False</td>\n",
              "      <td>False</td>\n",
              "      <td>False</td>\n",
              "      <td>False</td>\n",
              "      <td>False</td>\n",
              "      <td>False</td>\n",
              "      <td>False</td>\n",
              "      <td>False</td>\n",
              "      <td>False</td>\n",
              "      <td>False</td>\n",
              "      <td>False</td>\n",
              "      <td>False</td>\n",
              "      <td>False</td>\n",
              "    </tr>\n",
              "    <tr>\n",
              "      <th>297</th>\n",
              "      <td>False</td>\n",
              "      <td>False</td>\n",
              "      <td>False</td>\n",
              "      <td>False</td>\n",
              "      <td>False</td>\n",
              "      <td>False</td>\n",
              "      <td>False</td>\n",
              "      <td>False</td>\n",
              "      <td>False</td>\n",
              "      <td>False</td>\n",
              "      <td>False</td>\n",
              "      <td>False</td>\n",
              "      <td>False</td>\n",
              "    </tr>\n",
              "    <tr>\n",
              "      <th>298</th>\n",
              "      <td>False</td>\n",
              "      <td>False</td>\n",
              "      <td>False</td>\n",
              "      <td>False</td>\n",
              "      <td>False</td>\n",
              "      <td>False</td>\n",
              "      <td>False</td>\n",
              "      <td>False</td>\n",
              "      <td>False</td>\n",
              "      <td>False</td>\n",
              "      <td>False</td>\n",
              "      <td>False</td>\n",
              "      <td>False</td>\n",
              "    </tr>\n",
              "  </tbody>\n",
              "</table>\n",
              "<p>299 rows × 13 columns</p>\n",
              "</div>\n",
              "      <button class=\"colab-df-convert\" onclick=\"convertToInteractive('df-35054882-a079-414e-aa05-ec468f0ff1b6')\"\n",
              "              title=\"Convert this dataframe to an interactive table.\"\n",
              "              style=\"display:none;\">\n",
              "        \n",
              "  <svg xmlns=\"http://www.w3.org/2000/svg\" height=\"24px\"viewBox=\"0 0 24 24\"\n",
              "       width=\"24px\">\n",
              "    <path d=\"M0 0h24v24H0V0z\" fill=\"none\"/>\n",
              "    <path d=\"M18.56 5.44l.94 2.06.94-2.06 2.06-.94-2.06-.94-.94-2.06-.94 2.06-2.06.94zm-11 1L8.5 8.5l.94-2.06 2.06-.94-2.06-.94L8.5 2.5l-.94 2.06-2.06.94zm10 10l.94 2.06.94-2.06 2.06-.94-2.06-.94-.94-2.06-.94 2.06-2.06.94z\"/><path d=\"M17.41 7.96l-1.37-1.37c-.4-.4-.92-.59-1.43-.59-.52 0-1.04.2-1.43.59L10.3 9.45l-7.72 7.72c-.78.78-.78 2.05 0 2.83L4 21.41c.39.39.9.59 1.41.59.51 0 1.02-.2 1.41-.59l7.78-7.78 2.81-2.81c.8-.78.8-2.07 0-2.86zM5.41 20L4 18.59l7.72-7.72 1.47 1.35L5.41 20z\"/>\n",
              "  </svg>\n",
              "      </button>\n",
              "      \n",
              "  <style>\n",
              "    .colab-df-container {\n",
              "      display:flex;\n",
              "      flex-wrap:wrap;\n",
              "      gap: 12px;\n",
              "    }\n",
              "\n",
              "    .colab-df-convert {\n",
              "      background-color: #E8F0FE;\n",
              "      border: none;\n",
              "      border-radius: 50%;\n",
              "      cursor: pointer;\n",
              "      display: none;\n",
              "      fill: #1967D2;\n",
              "      height: 32px;\n",
              "      padding: 0 0 0 0;\n",
              "      width: 32px;\n",
              "    }\n",
              "\n",
              "    .colab-df-convert:hover {\n",
              "      background-color: #E2EBFA;\n",
              "      box-shadow: 0px 1px 2px rgba(60, 64, 67, 0.3), 0px 1px 3px 1px rgba(60, 64, 67, 0.15);\n",
              "      fill: #174EA6;\n",
              "    }\n",
              "\n",
              "    [theme=dark] .colab-df-convert {\n",
              "      background-color: #3B4455;\n",
              "      fill: #D2E3FC;\n",
              "    }\n",
              "\n",
              "    [theme=dark] .colab-df-convert:hover {\n",
              "      background-color: #434B5C;\n",
              "      box-shadow: 0px 1px 3px 1px rgba(0, 0, 0, 0.15);\n",
              "      filter: drop-shadow(0px 1px 2px rgba(0, 0, 0, 0.3));\n",
              "      fill: #FFFFFF;\n",
              "    }\n",
              "  </style>\n",
              "\n",
              "      <script>\n",
              "        const buttonEl =\n",
              "          document.querySelector('#df-35054882-a079-414e-aa05-ec468f0ff1b6 button.colab-df-convert');\n",
              "        buttonEl.style.display =\n",
              "          google.colab.kernel.accessAllowed ? 'block' : 'none';\n",
              "\n",
              "        async function convertToInteractive(key) {\n",
              "          const element = document.querySelector('#df-35054882-a079-414e-aa05-ec468f0ff1b6');\n",
              "          const dataTable =\n",
              "            await google.colab.kernel.invokeFunction('convertToInteractive',\n",
              "                                                     [key], {});\n",
              "          if (!dataTable) return;\n",
              "\n",
              "          const docLinkHtml = 'Like what you see? Visit the ' +\n",
              "            '<a target=\"_blank\" href=https://colab.research.google.com/notebooks/data_table.ipynb>data table notebook</a>'\n",
              "            + ' to learn more about interactive tables.';\n",
              "          element.innerHTML = '';\n",
              "          dataTable['output_type'] = 'display_data';\n",
              "          await google.colab.output.renderOutput(dataTable, element);\n",
              "          const docLink = document.createElement('div');\n",
              "          docLink.innerHTML = docLinkHtml;\n",
              "          element.appendChild(docLink);\n",
              "        }\n",
              "      </script>\n",
              "    </div>\n",
              "  </div>\n",
              "  "
            ]
          },
          "metadata": {},
          "execution_count": 88
        }
      ]
    },
    {
      "cell_type": "code",
      "source": [
        "df.isnull().sum()"
      ],
      "metadata": {
        "id": "zf2QdkJR38l7",
        "colab": {
          "base_uri": "https://localhost:8080/"
        },
        "outputId": "d5d8cd9e-12f9-4ae8-a4d0-d7465e96d5d2"
      },
      "execution_count": null,
      "outputs": [
        {
          "output_type": "execute_result",
          "data": {
            "text/plain": [
              "age                         0\n",
              "anaemia                     0\n",
              "creatinine_phosphokinase    0\n",
              "diabetes                    0\n",
              "ejection_fraction           0\n",
              "high_blood_pressure         0\n",
              "platelets                   0\n",
              "serum_creatinine            0\n",
              "serum_sodium                0\n",
              "sex                         0\n",
              "smoking                     0\n",
              "time                        0\n",
              "DEATH_EVENT                 0\n",
              "dtype: int64"
            ]
          },
          "metadata": {},
          "execution_count": 89
        }
      ]
    },
    {
      "cell_type": "markdown",
      "source": [
        "Dapat terlihat bahwa dataset yang digunakan tidak memiliki missing value, maka tidak perlu dilakukan filling pada kolom yang mengandung missing value."
      ],
      "metadata": {
        "id": "hAlCNxJQX8Og"
      }
    },
    {
      "cell_type": "markdown",
      "source": [
        "## b. Duplikasi data"
      ],
      "metadata": {
        "id": "kPjW8uL4vQvT"
      }
    },
    {
      "cell_type": "markdown",
      "source": [
        "Pada tahap ini dilakukan untuk melihat apakah terdapat duplikasi data dalam dataset."
      ],
      "metadata": {
        "id": "C_XgQpqkwINR"
      }
    },
    {
      "cell_type": "code",
      "source": [
        "df.duplicated()"
      ],
      "metadata": {
        "id": "rb-3gBCevKnh",
        "colab": {
          "base_uri": "https://localhost:8080/"
        },
        "outputId": "5373421d-118d-49dc-c40e-648cfd2ef6d0"
      },
      "execution_count": null,
      "outputs": [
        {
          "output_type": "execute_result",
          "data": {
            "text/plain": [
              "0      False\n",
              "1      False\n",
              "2      False\n",
              "3      False\n",
              "4      False\n",
              "       ...  \n",
              "294    False\n",
              "295    False\n",
              "296    False\n",
              "297    False\n",
              "298    False\n",
              "Length: 299, dtype: bool"
            ]
          },
          "metadata": {},
          "execution_count": 90
        }
      ]
    },
    {
      "cell_type": "code",
      "source": [
        "df.duplicated().sum()"
      ],
      "metadata": {
        "id": "bgXpgjcwwd5A",
        "colab": {
          "base_uri": "https://localhost:8080/"
        },
        "outputId": "c6f60a46-b196-4737-b7a4-106839f431f1"
      },
      "execution_count": null,
      "outputs": [
        {
          "output_type": "execute_result",
          "data": {
            "text/plain": [
              "0"
            ]
          },
          "metadata": {},
          "execution_count": 91
        }
      ]
    },
    {
      "cell_type": "markdown",
      "source": [
        "Dapat terlihat bahwa pada dataset yang digunakan tidak terdapat duplikasi data dalam dataset."
      ],
      "metadata": {
        "id": "mm62QMbqvWX-"
      }
    },
    {
      "cell_type": "markdown",
      "source": [
        "# 5. Explorasi Data"
      ],
      "metadata": {
        "id": "zWohMTeY39Gl"
      }
    },
    {
      "cell_type": "code",
      "source": [
        "df.describe()"
      ],
      "metadata": {
        "id": "U2pt-SKd4BSz",
        "colab": {
          "base_uri": "https://localhost:8080/",
          "height": 364
        },
        "outputId": "1d7e2397-654c-4494-d6d5-21847398a606"
      },
      "execution_count": null,
      "outputs": [
        {
          "output_type": "execute_result",
          "data": {
            "text/plain": [
              "              age     anaemia  creatinine_phosphokinase    diabetes  \\\n",
              "count  299.000000  299.000000                299.000000  299.000000   \n",
              "mean    60.833893    0.431438                581.839465    0.418060   \n",
              "std     11.894809    0.496107                970.287881    0.494067   \n",
              "min     40.000000    0.000000                 23.000000    0.000000   \n",
              "25%     51.000000    0.000000                116.500000    0.000000   \n",
              "50%     60.000000    0.000000                250.000000    0.000000   \n",
              "75%     70.000000    1.000000                582.000000    1.000000   \n",
              "max     95.000000    1.000000               7861.000000    1.000000   \n",
              "\n",
              "       ejection_fraction  high_blood_pressure      platelets  \\\n",
              "count         299.000000           299.000000     299.000000   \n",
              "mean           38.083612             0.351171  263358.029264   \n",
              "std            11.834841             0.478136   97804.236869   \n",
              "min            14.000000             0.000000   25100.000000   \n",
              "25%            30.000000             0.000000  212500.000000   \n",
              "50%            38.000000             0.000000  262000.000000   \n",
              "75%            45.000000             1.000000  303500.000000   \n",
              "max            80.000000             1.000000  850000.000000   \n",
              "\n",
              "       serum_creatinine  serum_sodium         sex    smoking        time  \\\n",
              "count         299.00000    299.000000  299.000000  299.00000  299.000000   \n",
              "mean            1.39388    136.625418    0.648829    0.32107  130.260870   \n",
              "std             1.03451      4.412477    0.478136    0.46767   77.614208   \n",
              "min             0.50000    113.000000    0.000000    0.00000    4.000000   \n",
              "25%             0.90000    134.000000    0.000000    0.00000   73.000000   \n",
              "50%             1.10000    137.000000    1.000000    0.00000  115.000000   \n",
              "75%             1.40000    140.000000    1.000000    1.00000  203.000000   \n",
              "max             9.40000    148.000000    1.000000    1.00000  285.000000   \n",
              "\n",
              "       DEATH_EVENT  \n",
              "count    299.00000  \n",
              "mean       0.32107  \n",
              "std        0.46767  \n",
              "min        0.00000  \n",
              "25%        0.00000  \n",
              "50%        0.00000  \n",
              "75%        1.00000  \n",
              "max        1.00000  "
            ],
            "text/html": [
              "\n",
              "  <div id=\"df-e8e5b611-eeb8-483f-b34b-bb13d62f79bc\">\n",
              "    <div class=\"colab-df-container\">\n",
              "      <div>\n",
              "<style scoped>\n",
              "    .dataframe tbody tr th:only-of-type {\n",
              "        vertical-align: middle;\n",
              "    }\n",
              "\n",
              "    .dataframe tbody tr th {\n",
              "        vertical-align: top;\n",
              "    }\n",
              "\n",
              "    .dataframe thead th {\n",
              "        text-align: right;\n",
              "    }\n",
              "</style>\n",
              "<table border=\"1\" class=\"dataframe\">\n",
              "  <thead>\n",
              "    <tr style=\"text-align: right;\">\n",
              "      <th></th>\n",
              "      <th>age</th>\n",
              "      <th>anaemia</th>\n",
              "      <th>creatinine_phosphokinase</th>\n",
              "      <th>diabetes</th>\n",
              "      <th>ejection_fraction</th>\n",
              "      <th>high_blood_pressure</th>\n",
              "      <th>platelets</th>\n",
              "      <th>serum_creatinine</th>\n",
              "      <th>serum_sodium</th>\n",
              "      <th>sex</th>\n",
              "      <th>smoking</th>\n",
              "      <th>time</th>\n",
              "      <th>DEATH_EVENT</th>\n",
              "    </tr>\n",
              "  </thead>\n",
              "  <tbody>\n",
              "    <tr>\n",
              "      <th>count</th>\n",
              "      <td>299.000000</td>\n",
              "      <td>299.000000</td>\n",
              "      <td>299.000000</td>\n",
              "      <td>299.000000</td>\n",
              "      <td>299.000000</td>\n",
              "      <td>299.000000</td>\n",
              "      <td>299.000000</td>\n",
              "      <td>299.00000</td>\n",
              "      <td>299.000000</td>\n",
              "      <td>299.000000</td>\n",
              "      <td>299.00000</td>\n",
              "      <td>299.000000</td>\n",
              "      <td>299.00000</td>\n",
              "    </tr>\n",
              "    <tr>\n",
              "      <th>mean</th>\n",
              "      <td>60.833893</td>\n",
              "      <td>0.431438</td>\n",
              "      <td>581.839465</td>\n",
              "      <td>0.418060</td>\n",
              "      <td>38.083612</td>\n",
              "      <td>0.351171</td>\n",
              "      <td>263358.029264</td>\n",
              "      <td>1.39388</td>\n",
              "      <td>136.625418</td>\n",
              "      <td>0.648829</td>\n",
              "      <td>0.32107</td>\n",
              "      <td>130.260870</td>\n",
              "      <td>0.32107</td>\n",
              "    </tr>\n",
              "    <tr>\n",
              "      <th>std</th>\n",
              "      <td>11.894809</td>\n",
              "      <td>0.496107</td>\n",
              "      <td>970.287881</td>\n",
              "      <td>0.494067</td>\n",
              "      <td>11.834841</td>\n",
              "      <td>0.478136</td>\n",
              "      <td>97804.236869</td>\n",
              "      <td>1.03451</td>\n",
              "      <td>4.412477</td>\n",
              "      <td>0.478136</td>\n",
              "      <td>0.46767</td>\n",
              "      <td>77.614208</td>\n",
              "      <td>0.46767</td>\n",
              "    </tr>\n",
              "    <tr>\n",
              "      <th>min</th>\n",
              "      <td>40.000000</td>\n",
              "      <td>0.000000</td>\n",
              "      <td>23.000000</td>\n",
              "      <td>0.000000</td>\n",
              "      <td>14.000000</td>\n",
              "      <td>0.000000</td>\n",
              "      <td>25100.000000</td>\n",
              "      <td>0.50000</td>\n",
              "      <td>113.000000</td>\n",
              "      <td>0.000000</td>\n",
              "      <td>0.00000</td>\n",
              "      <td>4.000000</td>\n",
              "      <td>0.00000</td>\n",
              "    </tr>\n",
              "    <tr>\n",
              "      <th>25%</th>\n",
              "      <td>51.000000</td>\n",
              "      <td>0.000000</td>\n",
              "      <td>116.500000</td>\n",
              "      <td>0.000000</td>\n",
              "      <td>30.000000</td>\n",
              "      <td>0.000000</td>\n",
              "      <td>212500.000000</td>\n",
              "      <td>0.90000</td>\n",
              "      <td>134.000000</td>\n",
              "      <td>0.000000</td>\n",
              "      <td>0.00000</td>\n",
              "      <td>73.000000</td>\n",
              "      <td>0.00000</td>\n",
              "    </tr>\n",
              "    <tr>\n",
              "      <th>50%</th>\n",
              "      <td>60.000000</td>\n",
              "      <td>0.000000</td>\n",
              "      <td>250.000000</td>\n",
              "      <td>0.000000</td>\n",
              "      <td>38.000000</td>\n",
              "      <td>0.000000</td>\n",
              "      <td>262000.000000</td>\n",
              "      <td>1.10000</td>\n",
              "      <td>137.000000</td>\n",
              "      <td>1.000000</td>\n",
              "      <td>0.00000</td>\n",
              "      <td>115.000000</td>\n",
              "      <td>0.00000</td>\n",
              "    </tr>\n",
              "    <tr>\n",
              "      <th>75%</th>\n",
              "      <td>70.000000</td>\n",
              "      <td>1.000000</td>\n",
              "      <td>582.000000</td>\n",
              "      <td>1.000000</td>\n",
              "      <td>45.000000</td>\n",
              "      <td>1.000000</td>\n",
              "      <td>303500.000000</td>\n",
              "      <td>1.40000</td>\n",
              "      <td>140.000000</td>\n",
              "      <td>1.000000</td>\n",
              "      <td>1.00000</td>\n",
              "      <td>203.000000</td>\n",
              "      <td>1.00000</td>\n",
              "    </tr>\n",
              "    <tr>\n",
              "      <th>max</th>\n",
              "      <td>95.000000</td>\n",
              "      <td>1.000000</td>\n",
              "      <td>7861.000000</td>\n",
              "      <td>1.000000</td>\n",
              "      <td>80.000000</td>\n",
              "      <td>1.000000</td>\n",
              "      <td>850000.000000</td>\n",
              "      <td>9.40000</td>\n",
              "      <td>148.000000</td>\n",
              "      <td>1.000000</td>\n",
              "      <td>1.00000</td>\n",
              "      <td>285.000000</td>\n",
              "      <td>1.00000</td>\n",
              "    </tr>\n",
              "  </tbody>\n",
              "</table>\n",
              "</div>\n",
              "      <button class=\"colab-df-convert\" onclick=\"convertToInteractive('df-e8e5b611-eeb8-483f-b34b-bb13d62f79bc')\"\n",
              "              title=\"Convert this dataframe to an interactive table.\"\n",
              "              style=\"display:none;\">\n",
              "        \n",
              "  <svg xmlns=\"http://www.w3.org/2000/svg\" height=\"24px\"viewBox=\"0 0 24 24\"\n",
              "       width=\"24px\">\n",
              "    <path d=\"M0 0h24v24H0V0z\" fill=\"none\"/>\n",
              "    <path d=\"M18.56 5.44l.94 2.06.94-2.06 2.06-.94-2.06-.94-.94-2.06-.94 2.06-2.06.94zm-11 1L8.5 8.5l.94-2.06 2.06-.94-2.06-.94L8.5 2.5l-.94 2.06-2.06.94zm10 10l.94 2.06.94-2.06 2.06-.94-2.06-.94-.94-2.06-.94 2.06-2.06.94z\"/><path d=\"M17.41 7.96l-1.37-1.37c-.4-.4-.92-.59-1.43-.59-.52 0-1.04.2-1.43.59L10.3 9.45l-7.72 7.72c-.78.78-.78 2.05 0 2.83L4 21.41c.39.39.9.59 1.41.59.51 0 1.02-.2 1.41-.59l7.78-7.78 2.81-2.81c.8-.78.8-2.07 0-2.86zM5.41 20L4 18.59l7.72-7.72 1.47 1.35L5.41 20z\"/>\n",
              "  </svg>\n",
              "      </button>\n",
              "      \n",
              "  <style>\n",
              "    .colab-df-container {\n",
              "      display:flex;\n",
              "      flex-wrap:wrap;\n",
              "      gap: 12px;\n",
              "    }\n",
              "\n",
              "    .colab-df-convert {\n",
              "      background-color: #E8F0FE;\n",
              "      border: none;\n",
              "      border-radius: 50%;\n",
              "      cursor: pointer;\n",
              "      display: none;\n",
              "      fill: #1967D2;\n",
              "      height: 32px;\n",
              "      padding: 0 0 0 0;\n",
              "      width: 32px;\n",
              "    }\n",
              "\n",
              "    .colab-df-convert:hover {\n",
              "      background-color: #E2EBFA;\n",
              "      box-shadow: 0px 1px 2px rgba(60, 64, 67, 0.3), 0px 1px 3px 1px rgba(60, 64, 67, 0.15);\n",
              "      fill: #174EA6;\n",
              "    }\n",
              "\n",
              "    [theme=dark] .colab-df-convert {\n",
              "      background-color: #3B4455;\n",
              "      fill: #D2E3FC;\n",
              "    }\n",
              "\n",
              "    [theme=dark] .colab-df-convert:hover {\n",
              "      background-color: #434B5C;\n",
              "      box-shadow: 0px 1px 3px 1px rgba(0, 0, 0, 0.15);\n",
              "      filter: drop-shadow(0px 1px 2px rgba(0, 0, 0, 0.3));\n",
              "      fill: #FFFFFF;\n",
              "    }\n",
              "  </style>\n",
              "\n",
              "      <script>\n",
              "        const buttonEl =\n",
              "          document.querySelector('#df-e8e5b611-eeb8-483f-b34b-bb13d62f79bc button.colab-df-convert');\n",
              "        buttonEl.style.display =\n",
              "          google.colab.kernel.accessAllowed ? 'block' : 'none';\n",
              "\n",
              "        async function convertToInteractive(key) {\n",
              "          const element = document.querySelector('#df-e8e5b611-eeb8-483f-b34b-bb13d62f79bc');\n",
              "          const dataTable =\n",
              "            await google.colab.kernel.invokeFunction('convertToInteractive',\n",
              "                                                     [key], {});\n",
              "          if (!dataTable) return;\n",
              "\n",
              "          const docLinkHtml = 'Like what you see? Visit the ' +\n",
              "            '<a target=\"_blank\" href=https://colab.research.google.com/notebooks/data_table.ipynb>data table notebook</a>'\n",
              "            + ' to learn more about interactive tables.';\n",
              "          element.innerHTML = '';\n",
              "          dataTable['output_type'] = 'display_data';\n",
              "          await google.colab.output.renderOutput(dataTable, element);\n",
              "          const docLink = document.createElement('div');\n",
              "          docLink.innerHTML = docLinkHtml;\n",
              "          element.appendChild(docLink);\n",
              "        }\n",
              "      </script>\n",
              "    </div>\n",
              "  </div>\n",
              "  "
            ]
          },
          "metadata": {},
          "execution_count": 92
        }
      ]
    },
    {
      "cell_type": "markdown",
      "source": [
        "## 1. Korelasi antar avariabel (Heatmap)"
      ],
      "metadata": {
        "id": "8fBwWtqtQIW7"
      }
    },
    {
      "cell_type": "code",
      "source": [
        "fig, ax = plt.subplots()\n",
        "plt.title('Correlation Heatmap of Heart Failure Prediction')\n",
        "fig.set_size_inches((16,16))\n",
        "sns.heatmap(df.corr(), square = True, annot = True)"
      ],
      "metadata": {
        "id": "TxyOI9h6NcK0",
        "colab": {
          "base_uri": "https://localhost:8080/",
          "height": 981
        },
        "outputId": "503216ae-0292-47ee-f428-f3920e243911"
      },
      "execution_count": null,
      "outputs": [
        {
          "output_type": "execute_result",
          "data": {
            "text/plain": [
              "<matplotlib.axes._subplots.AxesSubplot at 0x7f7d788bf4d0>"
            ]
          },
          "metadata": {},
          "execution_count": 93
        },
        {
          "output_type": "display_data",
          "data": {
            "text/plain": [
              "<Figure size 1152x1152 with 2 Axes>"
            ],
            "image/png": "[encoded data removed]"
          },
          "metadata": {
            "needs_background": "light"
          }
        }
      ]
    },
    {
      "cell_type": "code",
      "source": [
        "sns.heatmap(df.corr()[['DEATH_EVENT']].sort_values(by='DEATH_EVENT', ascending=False), annot = True)\n",
        "plt.title('Correlation Heatmap of Heart Failure Prediction')\n",
        "plt.show()"
      ],
      "metadata": {
        "id": "IGlNBd4-O7kM",
        "colab": {
          "base_uri": "https://localhost:8080/",
          "height": 282
        },
        "outputId": "2a670170-fdcf-4d43-e61e-2a6bc5c93550"
      },
      "execution_count": null,
      "outputs": [
        {
          "output_type": "display_data",
          "data": {
            "text/plain": [
              "<Figure size 432x288 with 2 Axes>"
            ],
            "image/png": "[encoded data removed]"
          },
          "metadata": {
            "needs_background": "light"
          }
        }
      ]
    },
    {
      "cell_type": "markdown",
      "source": [
        "Dapat terlihat pada tabel di atas, bahwa nilai korelasi masing-masing variabel terhadap variabel DEATH_EVENT menunjukan angka yang cukup kecil. Variabel yang memiliki korelasi cukup tinggi terhadap variabel DEATH_EVENT adalah serum_creatinine dan variabel yang memiliki korelasi sangat rendah terhadap variabel DEATH_EVENT adalah variabel time."
      ],
      "metadata": {
        "id": "aLApjwekPQGB"
      }
    },
    {
      "cell_type": "markdown",
      "source": [
        "## 2. Numerical Fitur"
      ],
      "metadata": {
        "id": "Z209UoKyQSzh"
      }
    },
    {
      "cell_type": "code",
      "source": [
        "num_col = [\"age\",\"creatinine_phosphokinase\",\"ejection_fraction\",\"platelets\",\"serum_creatinine\",\"serum_sodium\", \"time\"]\n",
        "\n",
        "for i in num_col:\n",
        "   \n",
        "    fig, axs = plt.subplots(1,2,figsize=(15, 3))\n",
        "\n",
        "    sns.histplot(df[i],bins=20, kde=True,ax=axs[0]);\n",
        "    sns.boxplot(df[i], ax = axs[1], color='#99befd', fliersize=1);"
      ],
      "metadata": {
        "id": "pLbZCDH7QsP6",
        "colab": {
          "base_uri": "https://localhost:8080/",
          "height": 1000
        },
        "outputId": "4c1e46e0-1f36-4510-a3e8-5ab56cf8e8fd"
      },
      "execution_count": null,
      "outputs": [
        {
          "output_type": "stream",
          "name": "stderr",
          "text": [
            "/usr/local/lib/python3.7/dist-packages/seaborn/_decorators.py:43: FutureWarning: Pass the following variable as a keyword arg: x. From version 0.12, the only valid positional argument will be `data`, and passing other arguments without an explicit keyword will result in an error or misinterpretation.\n",
            "  FutureWarning\n",
            "/usr/local/lib/python3.7/dist-packages/seaborn/_decorators.py:43: FutureWarning: Pass the following variable as a keyword arg: x. From version 0.12, the only valid positional argument will be `data`, and passing other arguments without an explicit keyword will result in an error or misinterpretation.\n",
            "  FutureWarning\n",
            "/usr/local/lib/python3.7/dist-packages/seaborn/_decorators.py:43: FutureWarning: Pass the following variable as a keyword arg: x. From version 0.12, the only valid positional argument will be `data`, and passing other arguments without an explicit keyword will result in an error or misinterpretation.\n",
            "  FutureWarning\n",
            "/usr/local/lib/python3.7/dist-packages/seaborn/_decorators.py:43: FutureWarning: Pass the following variable as a keyword arg: x. From version 0.12, the only valid positional argument will be `data`, and passing other arguments without an explicit keyword will result in an error or misinterpretation.\n",
            "  FutureWarning\n",
            "/usr/local/lib/python3.7/dist-packages/seaborn/_decorators.py:43: FutureWarning: Pass the following variable as a keyword arg: x. From version 0.12, the only valid positional argument will be `data`, and passing other arguments without an explicit keyword will result in an error or misinterpretation.\n",
            "  FutureWarning\n",
            "/usr/local/lib/python3.7/dist-packages/seaborn/_decorators.py:43: FutureWarning: Pass the following variable as a keyword arg: x. From version 0.12, the only valid positional argument will be `data`, and passing other arguments without an explicit keyword will result in an error or misinterpretation.\n",
            "  FutureWarning\n",
            "/usr/local/lib/python3.7/dist-packages/seaborn/_decorators.py:43: FutureWarning: Pass the following variable as a keyword arg: x. From version 0.12, the only valid positional argument will be `data`, and passing other arguments without an explicit keyword will result in an error or misinterpretation.\n",
            "  FutureWarning\n"
          ]
        },
        {
          "output_type": "display_data",
          "data": {
            "text/plain": [
              "<Figure size 1080x216 with 2 Axes>"
            ],
            "image/png": "[encoded data removed]"
          },
          "metadata": {
            "needs_background": "light"
          }
        },
        {
          "output_type": "display_data",
          "data": {
            "text/plain": [
              "<Figure size 1080x216 with 2 Axes>"
            ],
            "image/png": "[encoded data removed]"
          },
          "metadata": {
            "needs_background": "light"
          }
        },
        {
          "output_type": "display_data",
          "data": {
            "text/plain": [
              "<Figure size 1080x216 with 2 Axes>"
            ],
            "image/png": "[encoded data removed]"
          },
          "metadata": {
            "needs_background": "light"
          }
        },
        {
          "output_type": "display_data",
          "data": {
            "text/plain": [
              "<Figure size 1080x216 with 2 Axes>"
            ],
            "image/png": "[encoded data removed]"
          },
          "metadata": {
            "needs_background": "light"
          }
        },
        {
          "output_type": "display_data",
          "data": {
            "text/plain": [
              "<Figure size 1080x216 with 2 Axes>"
            ],
            "image/png": "[encoded data removed]"
          },
          "metadata": {
            "needs_background": "light"
          }
        },
        {
          "output_type": "display_data",
          "data": {
            "text/plain": [
              "<Figure size 1080x216 with 2 Axes>"
            ],
            "image/png": "[encoded data removed]"
          },
          "metadata": {
            "needs_background": "light"
          }
        },
        {
          "output_type": "display_data",
          "data": {
            "text/plain": [
              "<Figure size 1080x216 with 2 Axes>"
            ],
            "image/png": "[encoded data removed]"
          },
          "metadata": {
            "needs_background": "light"
          }
        }
      ]
    },
    {
      "cell_type": "markdown",
      "source": [
        "Berdasarkan visualisasi di atas dapat diketahui bahwa hampir semua variabel memiliki outliers. Untuk itu kami akan melakukan penanganan pada fitur-fitur yang memiliki outliers."
      ],
      "metadata": {
        "id": "xk8qQqAFRNGQ"
      }
    },
    {
      "cell_type": "markdown",
      "source": [
        "## 3. Boolean Fitur"
      ],
      "metadata": {
        "id": "y1WPzHPiL9ij"
      }
    },
    {
      "cell_type": "markdown",
      "source": [
        "Boolean merupakan tipe data yang hanya memiliki dua nilai. Dalam kasus ini, beberapa fitur hanya memiliki dua nilai yaitu 0 dan 1, fitur-fitur trsebut diantaranya adalah anemia, diabetes, high_blood_preassure, sex, smooking, dan DEATH_EVENT"
      ],
      "metadata": {
        "id": "DLILRM_0Sv0F"
      }
    },
    {
      "cell_type": "markdown",
      "source": [
        "### a. Kolom anaemia"
      ],
      "metadata": {
        "id": "ipzTdB20kvIv"
      }
    },
    {
      "cell_type": "code",
      "source": [
        "sns.countplot(x ='DEATH_EVENT', hue = \"anaemia\", data = df, palette = \"Set2\")\n",
        "plt.title('Frecquency values of anaemia')\n",
        "plt.show()"
      ],
      "metadata": {
        "id": "QuKSDx_2k93z",
        "colab": {
          "base_uri": "https://localhost:8080/",
          "height": 296
        },
        "outputId": "1922b4c4-b6e6-49db-d8d3-b07bcca849c2"
      },
      "execution_count": null,
      "outputs": [
        {
          "output_type": "display_data",
          "data": {
            "text/plain": [
              "<Figure size 432x288 with 1 Axes>"
            ],
            "image/png": "[encoded data removed]"
          },
          "metadata": {
            "needs_background": "light"
          }
        }
      ]
    },
    {
      "cell_type": "markdown",
      "source": [
        "Pada visualisasi di atas, secara keseluruhan diketahui bahwa perbandingan antara seseorang baik yang mengalami pengurangan hemoglobin (anemia) atau tidak cenderung lebih banyak yang tidak meninggal dibandingkan dengan   yang meninggal. Sedangkan untuk frekuensi seseorang yang meninggal lebih banyak yang tidak mengalami penurunan hemoglobin (anemia), begitupun untuk frekuensi seseorang yang tidak meninggal lebih banyak yang tidak mengalamai penurunan hemoglobin (anemia)"
      ],
      "metadata": {
        "id": "7Ctv3c2SqGof"
      }
    },
    {
      "cell_type": "markdown",
      "source": [
        "### b. Kolom diabetes"
      ],
      "metadata": {
        "id": "dEvyfIPvk0NY"
      }
    },
    {
      "cell_type": "code",
      "source": [
        "sns.countplot(x ='DEATH_EVENT', hue = \"diabetes\", data = df, palette = \"Set2\")\n",
        "plt.title('Frecquency values of diabetes')\n",
        "plt.show()"
      ],
      "metadata": {
        "id": "gcaSSW94nY3a",
        "colab": {
          "base_uri": "https://localhost:8080/",
          "height": 296
        },
        "outputId": "ac29b9aa-376a-4908-b675-f04488ba6d47"
      },
      "execution_count": null,
      "outputs": [
        {
          "output_type": "display_data",
          "data": {
            "text/plain": [
              "<Figure size 432x288 with 1 Axes>"
            ],
            "image/png": "[encoded data removed]"
          },
          "metadata": {
            "needs_background": "light"
          }
        }
      ]
    },
    {
      "cell_type": "markdown",
      "source": [
        "Pada visualisasi di atas, secara keseluruhan diketahui bahwa perbandingan antara seseorang baik yang mengidap diabetes atau tidak cenderung lebih banyak yang tidak meninggal dibandingkan dengan yang meninggal. Sedangkan untuk frekuensi seseorang yang meninggal lebih banyak yang tidak mengidap diabetes, begitupun untuk frekuensi seseorang yang tidak meninggal lebih banyak yang tidak mengidap diabetes."
      ],
      "metadata": {
        "id": "qVGc-PP7sBbN"
      }
    },
    {
      "cell_type": "markdown",
      "source": [
        "### c. Kolom high_blood_pressure"
      ],
      "metadata": {
        "id": "Pappy4nGof4h"
      }
    },
    {
      "cell_type": "code",
      "source": [
        "sns.countplot(x ='DEATH_EVENT', hue = \"high_blood_pressure\", data = df, palette = \"Set2\")\n",
        "plt.title('Frecquency values of high_blood_pressure')\n",
        "plt.show()"
      ],
      "metadata": {
        "id": "EGnqhgXIonF1",
        "colab": {
          "base_uri": "https://localhost:8080/",
          "height": 296
        },
        "outputId": "ecb72f8c-b577-4efc-9444-5bc251faa8e2"
      },
      "execution_count": null,
      "outputs": [
        {
          "output_type": "display_data",
          "data": {
            "text/plain": [
              "<Figure size 432x288 with 1 Axes>"
            ],
            "image/png": "[encoded data removed]"
          },
          "metadata": {
            "needs_background": "light"
          }
        }
      ]
    },
    {
      "cell_type": "markdown",
      "source": [
        "Pada visualisasi di atas, secara keseluruhan diketahui bahwa perbandingan antara seseorang baik yang mempunyai darah tinggi atau tidak cenderung lebih banyak yang tidak meninggal dibandingkan dengan yang meninggal. Sedangkan untuk frekuensi seseorang yang meninggal lebih banyak yang tidak mempunyai darah tinggi, begitupun untuk frekuensi seseorang yang tidak meninggal lebih banyak yang tidak mempunyai darah tinggi."
      ],
      "metadata": {
        "id": "7z-RwagDsUbJ"
      }
    },
    {
      "cell_type": "markdown",
      "source": [
        "### d. Kolom sex"
      ],
      "metadata": {
        "id": "kapZ9oqKom0Y"
      }
    },
    {
      "cell_type": "code",
      "source": [
        "sns.countplot(x ='DEATH_EVENT', hue = \"sex\", data = df, palette = \"Set2\")\n",
        "plt.title('Frecquency values of sex')\n",
        "plt.show()"
      ],
      "metadata": {
        "id": "FNuRV6jrowwV",
        "colab": {
          "base_uri": "https://localhost:8080/",
          "height": 296
        },
        "outputId": "d1073e7c-a935-4066-eae7-32ffdc3bea7c"
      },
      "execution_count": null,
      "outputs": [
        {
          "output_type": "display_data",
          "data": {
            "text/plain": [
              "<Figure size 432x288 with 1 Axes>"
            ],
            "image/png": "[encoded data removed]"
          },
          "metadata": {
            "needs_background": "light"
          }
        }
      ]
    },
    {
      "cell_type": "markdown",
      "source": [
        "Pada visualisasi di atas, frekuensi seseorang yang meninggal lebih banyak berjenis kelamin wanita dibandingkan pria, begitupun dengan frekuensi seseorang yang tidak meninggal lebih banyak yang berjenis kelamin wanita."
      ],
      "metadata": {
        "id": "9LN8uEUnstF8"
      }
    },
    {
      "cell_type": "markdown",
      "source": [
        "e. Kolom smoking"
      ],
      "metadata": {
        "id": "-hZdNmdKoxBr"
      }
    },
    {
      "cell_type": "code",
      "source": [
        "sns.countplot(x ='DEATH_EVENT', hue = \"smoking\", data = df, palette = \"Set2\")\n",
        "plt.title('Frecquency values of smoking')\n",
        "plt.show()"
      ],
      "metadata": {
        "id": "-K5zESJ2o74N",
        "colab": {
          "base_uri": "https://localhost:8080/",
          "height": 296
        },
        "outputId": "0f28b0c5-2fdf-41d6-9325-30340747425d"
      },
      "execution_count": null,
      "outputs": [
        {
          "output_type": "display_data",
          "data": {
            "text/plain": [
              "<Figure size 432x288 with 1 Axes>"
            ],
            "image/png": "[encoded data removed]"
          },
          "metadata": {
            "needs_background": "light"
          }
        }
      ]
    },
    {
      "cell_type": "markdown",
      "source": [
        "Pada visualisasi di atas, secara keseluruhan diketahui bahwa perbandingan antara seseorang baik yang merokok atau tidak cenderung lebih banyak yang tidak meninggal dibandingkan dengan yang meninggal. Sedangkan untuk frekuensi seseorang yang meninggal lebih banyak yang tidak merokok, begitupun untuk frekuensi seseorang yang tidak meninggal lebih banyak yang tidak merokok."
      ],
      "metadata": {
        "id": "0nerf_B-tRLM"
      }
    },
    {
      "cell_type": "markdown",
      "source": [
        "### f. Kolom DEATH_EVENT"
      ],
      "metadata": {
        "id": "h8VpCAn6pGLQ"
      }
    },
    {
      "cell_type": "code",
      "source": [
        "sns.countplot(x = 'DEATH_EVENT', data = df, palette = 'Set2')\n",
        "plt.title('Frecquency values of DEATH_EVENT')\n",
        "plt.show()"
      ],
      "metadata": {
        "id": "o5HNnkVgQGqT",
        "colab": {
          "base_uri": "https://localhost:8080/",
          "height": 296
        },
        "outputId": "30f69c36-a289-49f0-b2a3-abfa3ae718e9"
      },
      "execution_count": null,
      "outputs": [
        {
          "output_type": "display_data",
          "data": {
            "text/plain": [
              "<Figure size 432x288 with 1 Axes>"
            ],
            "image/png": "[encoded data removed]"
          },
          "metadata": {
            "needs_background": "light"
          }
        }
      ]
    },
    {
      "cell_type": "markdown",
      "source": [
        "Pada visualisasi di atas, dapat terlihat bahwa kolom DEATH_EVENT menunjukan data yang imbalanced. Imbalnaced sendiri merupakan suatu keadaan dimana distribusi kelas data tidak seimbang, jumlah kelas data (instance) yang satu lebih sedikit atau lebih banyak dibanding dengan jumlah kelas data lainnya. Selanjutnya akan kami lakukan penanganan agar data menjadi seimbang."
      ],
      "metadata": {
        "id": "vpbsyhOtT-Lv"
      }
    },
    {
      "cell_type": "markdown",
      "source": [
        "# 6. Data Preprocessing"
      ],
      "metadata": {
        "id": "wLkg4geS4B1n"
      }
    },
    {
      "cell_type": "code",
      "source": [
        "data = df.copy()"
      ],
      "metadata": {
        "id": "DDb0hPK94GrR"
      },
      "execution_count": null,
      "outputs": []
    },
    {
      "cell_type": "markdown",
      "source": [
        "### a. Handling Outlier"
      ],
      "metadata": {
        "id": "OEziwvCYUvDa"
      }
    },
    {
      "cell_type": "code",
      "source": [
        "features_with_outliers = ['creatinine_phosphokinase','ejection_fraction','platelets','serum_creatinine','serum_sodium']\n",
        "for feature in features_with_outliers:\n",
        "    q1 = data[feature].quantile(0.25)\n",
        "    q3 = data[feature].quantile(0.75)\n",
        "    IQR = q3-q1\n",
        "    lower_limit = q1 - (IQR*1.5)\n",
        "    upper_limit = q3 + (IQR*1.5)\n",
        "    data.loc[data[feature]<lower_limit,feature] = lower_limit\n",
        "    data.loc[data[feature]>upper_limit,feature] = upper_limit"
      ],
      "metadata": {
        "id": "P7Lxp-GIUkNT"
      },
      "execution_count": null,
      "outputs": []
    },
    {
      "cell_type": "code",
      "source": [
        "num_col = [\"age\",\"creatinine_phosphokinase\",\"ejection_fraction\",\"platelets\",\"serum_creatinine\",\"serum_sodium\", \"time\"]\n",
        "\n",
        "for i in num_col:\n",
        "   \n",
        "    fig, axs = plt.subplots(1,2,figsize=(15, 3))\n",
        "\n",
        "    sns.histplot(data[i],bins=20, kde=True,ax=axs[0]);\n",
        "    sns.boxplot(data[i], ax = axs[1], color='#99befd', fliersize=1);"
      ],
      "metadata": {
        "id": "NIwg4HZyXgpw",
        "colab": {
          "base_uri": "https://localhost:8080/",
          "height": 1000
        },
        "outputId": "0199e43b-badd-417a-b38f-d83b5af6bdae"
      },
      "execution_count": null,
      "outputs": [
        {
          "output_type": "stream",
          "name": "stderr",
          "text": [
            "/usr/local/lib/python3.7/dist-packages/seaborn/_decorators.py:43: FutureWarning: Pass the following variable as a keyword arg: x. From version 0.12, the only valid positional argument will be `data`, and passing other arguments without an explicit keyword will result in an error or misinterpretation.\n",
            "  FutureWarning\n",
            "/usr/local/lib/python3.7/dist-packages/seaborn/_decorators.py:43: FutureWarning: Pass the following variable as a keyword arg: x. From version 0.12, the only valid positional argument will be `data`, and passing other arguments without an explicit keyword will result in an error or misinterpretation.\n",
            "  FutureWarning\n",
            "/usr/local/lib/python3.7/dist-packages/seaborn/_decorators.py:43: FutureWarning: Pass the following variable as a keyword arg: x. From version 0.12, the only valid positional argument will be `data`, and passing other arguments without an explicit keyword will result in an error or misinterpretation.\n",
            "  FutureWarning\n",
            "/usr/local/lib/python3.7/dist-packages/seaborn/_decorators.py:43: FutureWarning: Pass the following variable as a keyword arg: x. From version 0.12, the only valid positional argument will be `data`, and passing other arguments without an explicit keyword will result in an error or misinterpretation.\n",
            "  FutureWarning\n",
            "/usr/local/lib/python3.7/dist-packages/seaborn/_decorators.py:43: FutureWarning: Pass the following variable as a keyword arg: x. From version 0.12, the only valid positional argument will be `data`, and passing other arguments without an explicit keyword will result in an error or misinterpretation.\n",
            "  FutureWarning\n",
            "/usr/local/lib/python3.7/dist-packages/seaborn/_decorators.py:43: FutureWarning: Pass the following variable as a keyword arg: x. From version 0.12, the only valid positional argument will be `data`, and passing other arguments without an explicit keyword will result in an error or misinterpretation.\n",
            "  FutureWarning\n",
            "/usr/local/lib/python3.7/dist-packages/seaborn/_decorators.py:43: FutureWarning: Pass the following variable as a keyword arg: x. From version 0.12, the only valid positional argument will be `data`, and passing other arguments without an explicit keyword will result in an error or misinterpretation.\n",
            "  FutureWarning\n"
          ]
        },
        {
          "output_type": "display_data",
          "data": {
            "text/plain": [
              "<Figure size 1080x216 with 2 Axes>"
            ],
            "image/png": "[encoded data removed]"
          },
          "metadata": {
            "needs_background": "light"
          }
        },
        {
          "output_type": "display_data",
          "data": {
            "text/plain": [
              "<Figure size 1080x216 with 2 Axes>"
            ],
            "image/png": "[encoded data removed]"
          },
          "metadata": {
            "needs_background": "light"
          }
        },
        {
          "output_type": "display_data",
          "data": {
            "text/plain": [
              "<Figure size 1080x216 with 2 Axes>"
            ],
            "image/png": "[encoded data removed]"
          },
          "metadata": {
            "needs_background": "light"
          }
        },
        {
          "output_type": "display_data",
          "data": {
            "text/plain": [
              "<Figure size 1080x216 with 2 Axes>"
            ],
            "image/png": "[encoded data removed]"
          },
          "metadata": {
            "needs_background": "light"
          }
        },
        {
          "output_type": "display_data",
          "data": {
            "text/plain": [
              "<Figure size 1080x216 with 2 Axes>"
            ],
            "image/png": "[encoded data removed]"
          },
          "metadata": {
            "needs_background": "light"
          }
        },
        {
          "output_type": "display_data",
          "data": {
            "text/plain": [
              "<Figure size 1080x216 with 2 Axes>"
            ],
            "image/png": "[encoded data removed]"
          },
          "metadata": {
            "needs_background": "light"
          }
        },
        {
          "output_type": "display_data",
          "data": {
            "text/plain": [
              "<Figure size 1080x216 with 2 Axes>"
            ],
            "image/png": "[encoded data removed]"
          },
          "metadata": {
            "needs_background": "light"
          }
        }
      ]
    },
    {
      "cell_type": "markdown",
      "source": [
        "Pada visualisasi di atas bahwa sudah tidak ada outliers dan data memiliki persebaran yang baik."
      ],
      "metadata": {
        "id": "0JFZUuUpXxnU"
      }
    },
    {
      "cell_type": "markdown",
      "source": [
        "## b. Splitting Dataset"
      ],
      "metadata": {
        "id": "V4synBgebUD9"
      }
    },
    {
      "cell_type": "code",
      "source": [
        "# spliting training and testing data\n",
        "from sklearn.model_selection import train_test_split\n",
        "\n",
        "X = data.drop(['DEATH_EVENT'], axis = 1)\n",
        "y = data['DEATH_EVENT']\n",
        "\n",
        "X_train, X_test, y_train, y_test = train_test_split(X,y,test_size=0.2,random_state=0)"
      ],
      "metadata": {
        "id": "FrtnAyeRbqIS"
      },
      "execution_count": null,
      "outputs": []
    },
    {
      "cell_type": "markdown",
      "source": [
        "## c. Handling Imbalanced"
      ],
      "metadata": {
        "id": "k8yEfIR5YAE9"
      }
    },
    {
      "cell_type": "markdown",
      "source": [
        "Teknik Penyeimbang dataset yang digunakan adalah :\n",
        "- SMOTE\n",
        "- Borderline SMOTE\n",
        "- ADASYN\n",
        "\n",
        "Parameter k_neighbors diatur menjadi 8 neighbors untuk setiap teknik"
      ],
      "metadata": {
        "id": "QgtM-A8wacmR"
      }
    },
    {
      "cell_type": "markdown",
      "source": [
        "### SMOTE"
      ],
      "metadata": {
        "id": "VIUcs46AGneO"
      }
    },
    {
      "cell_type": "code",
      "source": [
        "smote = SMOTE(k_neighbors=8)"
      ],
      "metadata": {
        "id": "1YgR9i9ubTqi"
      },
      "execution_count": null,
      "outputs": []
    },
    {
      "cell_type": "code",
      "source": [
        "X_train_smote, y_train_smote = smote.fit_resample(X_train.astype('float'), y_train)"
      ],
      "metadata": {
        "id": "rHGsyBvH6SuN"
      },
      "execution_count": null,
      "outputs": []
    },
    {
      "cell_type": "code",
      "source": [
        "from collections import Counter\n",
        "print('Before SMOTE : ', Counter(y_train))\n",
        "print('After SMOTE :', Counter(y_train_smote))"
      ],
      "metadata": {
        "id": "hiyNSiyx6v29",
        "colab": {
          "base_uri": "https://localhost:8080/"
        },
        "outputId": "2e9575bd-688e-47cb-d940-d8c803d1ed49"
      },
      "execution_count": null,
      "outputs": [
        {
          "output_type": "stream",
          "name": "stdout",
          "text": [
            "Before SMOTE :  Counter({0: 166, 1: 73})\n",
            "After SMOTE : Counter({0: 166, 1: 166})\n"
          ]
        }
      ]
    },
    {
      "cell_type": "markdown",
      "source": [
        "### Borderline SMOTE"
      ],
      "metadata": {
        "id": "KrOLl2npGqcb"
      }
    },
    {
      "cell_type": "code",
      "source": [
        "b_smote = BorderlineSMOTE(k_neighbors=8)"
      ],
      "metadata": {
        "id": "0QX6UIdmGtqU"
      },
      "execution_count": null,
      "outputs": []
    },
    {
      "cell_type": "code",
      "source": [
        "X_train_bsmote, y_train_bsmote = b_smote.fit_resample(X_train.astype('float'), y_train)"
      ],
      "metadata": {
        "id": "kQ_dWO1oHJRv"
      },
      "execution_count": null,
      "outputs": []
    },
    {
      "cell_type": "code",
      "source": [
        "from collections import Counter\n",
        "print('Before BSMOTE : ', Counter(y_train))\n",
        "print('After BSMOTE :', Counter(y_train_bsmote))"
      ],
      "metadata": {
        "id": "Yz1cdamrHQOU",
        "colab": {
          "base_uri": "https://localhost:8080/"
        },
        "outputId": "d5f8428c-4392-4c46-beef-fccc538710c7"
      },
      "execution_count": null,
      "outputs": [
        {
          "output_type": "stream",
          "name": "stdout",
          "text": [
            "Before BSMOTE :  Counter({0: 166, 1: 73})\n",
            "After BSMOTE : Counter({0: 166, 1: 166})\n"
          ]
        }
      ]
    },
    {
      "cell_type": "markdown",
      "source": [
        "### ADASYN"
      ],
      "metadata": {
        "id": "JX7ysmAYLK2k"
      }
    },
    {
      "cell_type": "code",
      "source": [
        "ada = ADASYN(n_neighbors=8)"
      ],
      "metadata": {
        "id": "Qxzu4Tl_LM0F"
      },
      "execution_count": null,
      "outputs": []
    },
    {
      "cell_type": "code",
      "source": [
        "X_train_ada, y_train_ada = ada.fit_resample(X_train.astype('float'), y_train)"
      ],
      "metadata": {
        "id": "LkgnJNhULgvc"
      },
      "execution_count": null,
      "outputs": []
    },
    {
      "cell_type": "code",
      "source": [
        "from collections import Counter\n",
        "print('Before ADASYN : ', Counter(y_train))\n",
        "print('After ADASYN :', Counter(y_train_bsmote))"
      ],
      "metadata": {
        "id": "DF7elc5ALqJS",
        "colab": {
          "base_uri": "https://localhost:8080/"
        },
        "outputId": "bfca2942-600d-44b2-bb36-5708833dda63"
      },
      "execution_count": null,
      "outputs": [
        {
          "output_type": "stream",
          "name": "stdout",
          "text": [
            "Before ADASYN :  Counter({0: 166, 1: 73})\n",
            "After ADASYN : Counter({0: 166, 1: 166})\n"
          ]
        }
      ]
    },
    {
      "cell_type": "markdown",
      "source": [
        "# 7. Modeling & Evaluation"
      ],
      "metadata": {
        "id": "ozQw4Ljz4Qvk"
      }
    },
    {
      "cell_type": "markdown",
      "source": [
        "Algoritma Yang digunakan adalah Random Forest, terdapat 4 model yang akan dilatih dengan teknik penyeimbang datasetnya masing-masing. \n",
        "\n",
        "Berikut Modelnya : \n",
        "- model_unbalanced : Model yang menggunakan data yang belum seimbang\n",
        "- model_smote : Model yang menggunakan teknik smote sebagai penyeimbang jumlah data kelas dataset\n",
        "- mode_bsmote : Model yang menggunakan teknik borderline smote sebagai penyeimbang jumlah data kelas dataset\n",
        "- mode_ada : Model yang menggunakan teknik adasyn sebagai penyeimbang jumlah data kelas dataset"
      ],
      "metadata": {
        "id": "DOJk2uwYa9QS"
      }
    },
    {
      "cell_type": "markdown",
      "source": [
        "## a. Modeling Random Forest"
      ],
      "metadata": {
        "id": "CuBKN1-hdu-P"
      }
    },
    {
      "cell_type": "code",
      "source": [
        "model_unbalanced = RandomForestClassifier(max_depth=150, random_state=42)\n",
        "model_smote = RandomForestClassifier(max_depth=150, random_state=42)\n",
        "model_bsmote = RandomForestClassifier(max_depth=150, random_state=42)\n",
        "model_ada = RandomForestClassifier(max_depth=150, random_state=42)"
      ],
      "metadata": {
        "id": "gvSnW4r2kxqN"
      },
      "execution_count": null,
      "outputs": []
    },
    {
      "cell_type": "code",
      "source": [
        "model_unbalanced.fit(X_train, y_train)\n",
        "model_smote.fit(X_train_smote, y_train_smote)\n",
        "model_bsmote.fit(X_train_bsmote, y_train_bsmote)\n",
        "model_ada.fit(X_train_ada, y_train_ada)"
      ],
      "metadata": {
        "id": "m8zeYN4073ct",
        "colab": {
          "base_uri": "https://localhost:8080/"
        },
        "outputId": "5b200f32-a9af-4933-f3a9-ea0c1ba2c98a"
      },
      "execution_count": null,
      "outputs": [
        {
          "output_type": "execute_result",
          "data": {
            "text/plain": [
              "RandomForestClassifier(max_depth=150, random_state=42)"
            ]
          },
          "metadata": {},
          "execution_count": 116
        }
      ]
    },
    {
      "cell_type": "code",
      "source": [
        "y_unbalanced_pred = model_unbalanced.predict(X_test)\n",
        "y_smote_pred = model_smote.predict(X_test)\n",
        "y_bsmote_pred = model_bsmote.predict(X_test)\n",
        "y_ada_pred = model_ada.predict(X_test)"
      ],
      "metadata": {
        "id": "mKaZgmcJ8Jt8"
      },
      "execution_count": null,
      "outputs": []
    },
    {
      "cell_type": "markdown",
      "source": [
        "## b. Evaluation"
      ],
      "metadata": {
        "id": "IdUqWJNcfiKk"
      }
    },
    {
      "cell_type": "markdown",
      "source": [
        "Pada Bagian Evaluation tiap classification report dan confusion matrix dari tiap model akan ditampilkan"
      ],
      "metadata": {
        "id": "CRd1R7wsbzNH"
      }
    },
    {
      "cell_type": "markdown",
      "source": [
        "### Unbalanced Data"
      ],
      "metadata": {
        "id": "mHkSH8bi8t5A"
      }
    },
    {
      "cell_type": "code",
      "source": [
        "from sklearn.metrics import classification_report,accuracy_score\n",
        "\n",
        " # set y_test to the expected output\n",
        "print(classification_report(y_test, y_unbalanced_pred))\n",
        "print(\"Accuracy of the Model:\",accuracy_score(y_test, y_unbalanced_pred)*100,\"%\")"
      ],
      "metadata": {
        "id": "H-CNtRZZ92Y3",
        "colab": {
          "base_uri": "https://localhost:8080/"
        },
        "outputId": "146a886f-92b1-412e-8e5c-475d0e1a87ff"
      },
      "execution_count": null,
      "outputs": [
        {
          "output_type": "stream",
          "name": "stdout",
          "text": [
            "              precision    recall  f1-score   support\n",
            "\n",
            "           0       0.83      0.95      0.89        37\n",
            "           1       0.89      0.70      0.78        23\n",
            "\n",
            "    accuracy                           0.85        60\n",
            "   macro avg       0.86      0.82      0.83        60\n",
            "weighted avg       0.85      0.85      0.85        60\n",
            "\n",
            "Accuracy of the Model: 85.0 %\n"
          ]
        }
      ]
    },
    {
      "cell_type": "code",
      "source": [
        "from sklearn.metrics import confusion_matrix, accuracy_score\n",
        "plt.figure(figsize = (10,5))\n",
        "cm1 = confusion_matrix(y_test, y_unbalanced_pred)\n",
        "sns.heatmap(cm1, annot=True, fmt = 'g')"
      ],
      "metadata": {
        "id": "nA2bkC0df4BT",
        "colab": {
          "base_uri": "https://localhost:8080/",
          "height": 341
        },
        "outputId": "d2eeff7f-263e-4b16-e73d-b3183a8c3181"
      },
      "execution_count": null,
      "outputs": [
        {
          "output_type": "execute_result",
          "data": {
            "text/plain": [
              "<matplotlib.axes._subplots.AxesSubplot at 0x7f7d779bfb10>"
            ]
          },
          "metadata": {},
          "execution_count": 119
        },
        {
          "output_type": "display_data",
          "data": {
            "text/plain": [
              "<Figure size 720x360 with 2 Axes>"
            ],
            "image/png": "[encoded data removed]"
          },
          "metadata": {
            "needs_background": "light"
          }
        }
      ]
    },
    {
      "cell_type": "markdown",
      "source": [
        "Pada visualisasi Confusion Matrix untuk model unbalanced data menunjukan bahwa terdapat 35 + 16 = 51 diprediksi benar (sesuai) dan 2 + 7 = 9 diprediksi tidak benar (tidak sesuai).\n",
        "\n",
        "Pada model unbalnaced data, dapat kita lihat bahwa terdapat\n",
        "*   True Positives (Actual Positive:1s and Predict Positive:1s) = 16\n",
        "*   True Negatives (Actual Negative:0s and Predict Negative:0s) = 35\n",
        "*   False Positives (Actual Negative:0s but Predict Positive:1s) = 7(Kesalahan tipe I)\n",
        "*   False Negatives (Actual Positive:1 but Predict Negative:0) = 2(Kesalahan tipe II)"
      ],
      "metadata": {
        "id": "AT3PUf02ygNA"
      }
    },
    {
      "cell_type": "markdown",
      "source": [
        "### SMOTE"
      ],
      "metadata": {
        "id": "loY95RN2806q"
      }
    },
    {
      "cell_type": "code",
      "source": [
        "from sklearn.metrics import classification_report,accuracy_score\n",
        "\n",
        " # set y_test to the expected output\n",
        "print(classification_report(y_test, y_smote_pred))\n",
        "print(\"Accuracy of the Model:\",accuracy_score(y_test, y_smote_pred)*100,\"%\")"
      ],
      "metadata": {
        "id": "L24WMHN5-0An",
        "colab": {
          "base_uri": "https://localhost:8080/"
        },
        "outputId": "78b5355a-a0f5-4e65-8cce-3157ccf3c5e8"
      },
      "execution_count": null,
      "outputs": [
        {
          "output_type": "stream",
          "name": "stdout",
          "text": [
            "              precision    recall  f1-score   support\n",
            "\n",
            "           0       0.85      0.92      0.88        37\n",
            "           1       0.85      0.74      0.79        23\n",
            "\n",
            "    accuracy                           0.85        60\n",
            "   macro avg       0.85      0.83      0.84        60\n",
            "weighted avg       0.85      0.85      0.85        60\n",
            "\n",
            "Accuracy of the Model: 85.0 %\n"
          ]
        }
      ]
    },
    {
      "cell_type": "code",
      "source": [
        "from sklearn.metrics import confusion_matrix, accuracy_score\n",
        "plt.figure(figsize = (10,5))\n",
        "cm2 = confusion_matrix(y_test, y_smote_pred)\n",
        "sns.heatmap(cm2, annot=True, fmt = 'g')"
      ],
      "metadata": {
        "id": "PAm8gG-v83-h",
        "colab": {
          "base_uri": "https://localhost:8080/",
          "height": 337
        },
        "outputId": "06ce37d0-84a4-4bf7-b558-e3505c958db5"
      },
      "execution_count": null,
      "outputs": [
        {
          "output_type": "execute_result",
          "data": {
            "text/plain": [
              "<matplotlib.axes._subplots.AxesSubplot at 0x7f7d789064d0>"
            ]
          },
          "metadata": {},
          "execution_count": 121
        },
        {
          "output_type": "display_data",
          "data": {
            "text/plain": [
              "<Figure size 720x360 with 2 Axes>"
            ],
            "image/png": "[encoded data removed]"
          },
          "metadata": {
            "needs_background": "light"
          }
        }
      ]
    },
    {
      "cell_type": "markdown",
      "source": [
        "Pada visualisasi Confusion Matrix untuk model unbalanced data menunjukan bahwa terdapat 35 + 18 = 53 diprediksi benar (sesuai) dan 2 + 5 = 7 diprediksi tidak benar (tidak sesuai).\n",
        "\n",
        "Pada model SMOTE, dapat kita lihat bahwa terdapat\n",
        "*   True Positives (Actual Positive:1s and Predict Positive:1s) = 18\n",
        "*   True Negatives (Actual Negative:0s and Predict Negative:0s) = 35\n",
        "*   False Positives (Actual Negative:0s but Predict Positive:1s) = 5(Kesalahan tipe I)\n",
        "*   False Negatives (Actual Positive:1 but Predict Negative:0) = 2(Kesalahan tipe II)"
      ],
      "metadata": {
        "id": "O6cAy99Oy_3l"
      }
    },
    {
      "cell_type": "markdown",
      "source": [
        "### Borderline SMOTE"
      ],
      "metadata": {
        "id": "JkNA9yV8IErL"
      }
    },
    {
      "cell_type": "code",
      "source": [
        "from sklearn.metrics import classification_report,accuracy_score\n",
        "\n",
        " # set y_test to the expected output\n",
        "print(classification_report(y_test, y_bsmote_pred))\n",
        "print(\"Accuracy of the Model:\",accuracy_score(y_test, y_bsmote_pred)*100,\"%\")"
      ],
      "metadata": {
        "id": "CkvzyPMcIPZB",
        "colab": {
          "base_uri": "https://localhost:8080/"
        },
        "outputId": "f29aa8ed-3339-48e7-daf9-8ea684d13194"
      },
      "execution_count": null,
      "outputs": [
        {
          "output_type": "stream",
          "name": "stdout",
          "text": [
            "              precision    recall  f1-score   support\n",
            "\n",
            "           0       0.83      0.95      0.89        37\n",
            "           1       0.89      0.70      0.78        23\n",
            "\n",
            "    accuracy                           0.85        60\n",
            "   macro avg       0.86      0.82      0.83        60\n",
            "weighted avg       0.85      0.85      0.85        60\n",
            "\n",
            "Accuracy of the Model: 85.0 %\n"
          ]
        }
      ]
    },
    {
      "cell_type": "code",
      "source": [
        "from sklearn.metrics import confusion_matrix, accuracy_score\n",
        "plt.figure(figsize = (10,5))\n",
        "cm3 = confusion_matrix(y_test, y_bsmote_pred)\n",
        "sns.heatmap(cm3, annot=True, fmt = 'g')"
      ],
      "metadata": {
        "id": "VmmxHgR1JnRi",
        "colab": {
          "base_uri": "https://localhost:8080/",
          "height": 341
        },
        "outputId": "3264bb71-e3cb-45a9-e5cf-77caa5bf00e6"
      },
      "execution_count": null,
      "outputs": [
        {
          "output_type": "execute_result",
          "data": {
            "text/plain": [
              "<matplotlib.axes._subplots.AxesSubplot at 0x7f7d77b90890>"
            ]
          },
          "metadata": {},
          "execution_count": 123
        },
        {
          "output_type": "display_data",
          "data": {
            "text/plain": [
              "<Figure size 720x360 with 2 Axes>"
            ],
            "image/png": "[encoded data removed]"
          },
          "metadata": {
            "needs_background": "light"
          }
        }
      ]
    },
    {
      "cell_type": "markdown",
      "source": [
        "Pada visualisasi Confusion Matrix untuk model unbalanced data menunjukan bahwa terdapat 36 + 17 = 53 diprediksi benar (sesuai) dan 1 + 6 = 7 diprediksi tidak benar (tidak sesuai).\n",
        "\n",
        "Pada model Borderline SMOTE, dapat kita lihat bahwa terdapat\n",
        "*   True Positives (Actual Positive:1s and Predict Positive:1s) = 17\n",
        "*   True Negatives (Actual Negative:0s and Predict Negative:0s) = 36\n",
        "*   False Positives (Actual Negative:0s but Predict Positive:1s) = 6(Kesalahan tipe I)\n",
        "*   False Negatives (Actual Positive:1 but Predict Negative:0) = 1(Kesalahan tipe II)"
      ],
      "metadata": {
        "id": "p5FbG5PpzULq"
      }
    },
    {
      "cell_type": "markdown",
      "source": [
        "### ADASYN"
      ],
      "metadata": {
        "id": "ZGFSdXNsMHjN"
      }
    },
    {
      "cell_type": "code",
      "source": [
        "from sklearn.metrics import classification_report,accuracy_score\n",
        "\n",
        " # set y_test to the expected output\n",
        "print(classification_report(y_test, y_ada_pred))\n",
        "print(\"Accuracy of the Model:\",accuracy_score(y_test, y_ada_pred)*100,\"%\")"
      ],
      "metadata": {
        "id": "d4fjRwJGMLVs",
        "colab": {
          "base_uri": "https://localhost:8080/"
        },
        "outputId": "4aa5dcce-1e95-4464-c085-9f48bf2d6960"
      },
      "execution_count": null,
      "outputs": [
        {
          "output_type": "stream",
          "name": "stdout",
          "text": [
            "              precision    recall  f1-score   support\n",
            "\n",
            "           0       0.83      0.95      0.89        37\n",
            "           1       0.89      0.70      0.78        23\n",
            "\n",
            "    accuracy                           0.85        60\n",
            "   macro avg       0.86      0.82      0.83        60\n",
            "weighted avg       0.85      0.85      0.85        60\n",
            "\n",
            "Accuracy of the Model: 85.0 %\n"
          ]
        }
      ]
    },
    {
      "cell_type": "code",
      "source": [
        "from sklearn.metrics import confusion_matrix, accuracy_score\n",
        "plt.figure(figsize = (10,5))\n",
        "cm4 = confusion_matrix(y_test, y_ada_pred)\n",
        "sns.heatmap(cm4, annot=True, fmt = 'g')"
      ],
      "metadata": {
        "id": "ECbOGahZMRXb",
        "colab": {
          "base_uri": "https://localhost:8080/",
          "height": 341
        },
        "outputId": "086c3839-b884-4606-abd7-393136f04dc3"
      },
      "execution_count": null,
      "outputs": [
        {
          "output_type": "execute_result",
          "data": {
            "text/plain": [
              "<matplotlib.axes._subplots.AxesSubplot at 0x7f7d788fcf90>"
            ]
          },
          "metadata": {},
          "execution_count": 125
        },
        {
          "output_type": "display_data",
          "data": {
            "text/plain": [
              "<Figure size 720x360 with 2 Axes>"
            ],
            "image/png": "[encoded data removed]"
          },
          "metadata": {
            "needs_background": "light"
          }
        }
      ]
    },
    {
      "cell_type": "markdown",
      "source": [
        "Pada visualisasi Confusion Matrix untuk model unbalanced data menunjukan bahwa terdapat 34 + 17 = 51 diprediksi benar (sesuai) dan 3 + 6 = 9 diprediksi tidak benar (tidak sesuai).\n",
        "\n",
        "Pada model ADASYN, dapat kita lihat bahwa terdapat\n",
        "*   True Positives (Actual Positive:1s and Predict Positive:1s) = 17\n",
        "*   True Negatives (Actual Negative:0s and Predict Negative:0s) = 34\n",
        "*   False Positives (Actual Negative:0s but Predict Positive:1s) = 6(Kesalahan tipe I)\n",
        "*   False Negatives (Actual Positive:1 but Predict Negative:0) = 3(Kesalahan tipe II)"
      ],
      "metadata": {
        "id": "9qjsOEoXzl1A"
      }
    },
    {
      "cell_type": "markdown",
      "source": [
        "## c. Comparison"
      ],
      "metadata": {
        "id": "95Xvn7719Dfe"
      }
    },
    {
      "cell_type": "markdown",
      "source": [
        "Pada bagian ini akan ditampilkan perbandingan nilai evaluasi (Akurasi, Recall, Precision) pada setiap model"
      ],
      "metadata": {
        "id": "HNwEFK9ob72E"
      }
    },
    {
      "cell_type": "code",
      "source": [
        "from sklearn.metrics import accuracy_score, recall_score, precision_score, f1_score\n",
        "\n",
        "hasil1 = [(accuracy_score(y_test, y_unbalanced_pred) * 100), (recall_score(y_test, y_unbalanced_pred,  pos_label=1) * 100), (precision_score(y_test, y_unbalanced_pred,  pos_label=1) * 100)]\n",
        "hasil2 = [(accuracy_score(y_test, y_smote_pred) * 100), (recall_score(y_test, y_smote_pred,  pos_label=1) * 100), (precision_score(y_test, y_smote_pred,  pos_label=1) * 100)]\n",
        "hasil3 = [(accuracy_score(y_test, y_bsmote_pred) * 100), (recall_score(y_test, y_bsmote_pred,  pos_label=1) * 100), (precision_score(y_test, y_bsmote_pred,  pos_label=1) * 100)]\n",
        "hasil4 = [(accuracy_score(y_test, y_ada_pred) * 100), (recall_score(y_test, y_ada_pred,  pos_label=1) * 100), (precision_score(y_test, y_ada_pred,  pos_label=1) * 100)]\n",
        "\n",
        "dic = {'Unbalanced' : [str(round((hasil1[0]))) + '%', str(round((hasil1[1]))) + '%', str(round((hasil1[2]))) + '%'], \n",
        "       'SMOTE' : [str(round((hasil2[0]))) + '%', str(round((hasil2[1]))) + '%', str(round((hasil2[2]))) + '%'],\n",
        "       'Borderline_SMOTE' : [str(round((hasil3[0]))) + '%', str(round((hasil3[1]))) + '%', str(round((hasil3[2]))) + '%'],\n",
        "       'ADASYN' : [str(round((hasil4[0]))) + '%', str(round((hasil4[1]))) + '%', str(round((hasil4[2]))) + '%']}\n",
        "\n",
        "df_hasil = pd.DataFrame(data = dic, index=['Accuracy', 'Recall', 'Precision'])\n",
        "df_hasil"
      ],
      "metadata": {
        "id": "iv_d7xm49GpL",
        "colab": {
          "base_uri": "https://localhost:8080/",
          "height": 143
        },
        "outputId": "79657099-2883-4744-9524-19c0e40e168b"
      },
      "execution_count": null,
      "outputs": [
        {
          "output_type": "execute_result",
          "data": {
            "text/plain": [
              "          Unbalanced SMOTE Borderline_SMOTE ADASYN\n",
              "Accuracy         85%   85%              85%    85%\n",
              "Recall           70%   74%              70%    70%\n",
              "Precision        89%   85%              89%    89%"
            ],
            "text/html": [
              "\n",
              "  <div id=\"df-8266b467-b9d6-425d-a4db-1d36ffe9de57\">\n",
              "    <div class=\"colab-df-container\">\n",
              "      <div>\n",
              "<style scoped>\n",
              "    .dataframe tbody tr th:only-of-type {\n",
              "        vertical-align: middle;\n",
              "    }\n",
              "\n",
              "    .dataframe tbody tr th {\n",
              "        vertical-align: top;\n",
              "    }\n",
              "\n",
              "    .dataframe thead th {\n",
              "        text-align: right;\n",
              "    }\n",
              "</style>\n",
              "<table border=\"1\" class=\"dataframe\">\n",
              "  <thead>\n",
              "    <tr style=\"text-align: right;\">\n",
              "      <th></th>\n",
              "      <th>Unbalanced</th>\n",
              "      <th>SMOTE</th>\n",
              "      <th>Borderline_SMOTE</th>\n",
              "      <th>ADASYN</th>\n",
              "    </tr>\n",
              "  </thead>\n",
              "  <tbody>\n",
              "    <tr>\n",
              "      <th>Accuracy</th>\n",
              "      <td>85%</td>\n",
              "      <td>85%</td>\n",
              "      <td>85%</td>\n",
              "      <td>85%</td>\n",
              "    </tr>\n",
              "    <tr>\n",
              "      <th>Recall</th>\n",
              "      <td>70%</td>\n",
              "      <td>74%</td>\n",
              "      <td>70%</td>\n",
              "      <td>70%</td>\n",
              "    </tr>\n",
              "    <tr>\n",
              "      <th>Precision</th>\n",
              "      <td>89%</td>\n",
              "      <td>85%</td>\n",
              "      <td>89%</td>\n",
              "      <td>89%</td>\n",
              "    </tr>\n",
              "  </tbody>\n",
              "</table>\n",
              "</div>\n",
              "      <button class=\"colab-df-convert\" onclick=\"convertToInteractive('df-8266b467-b9d6-425d-a4db-1d36ffe9de57')\"\n",
              "              title=\"Convert this dataframe to an interactive table.\"\n",
              "              style=\"display:none;\">\n",
              "        \n",
              "  <svg xmlns=\"http://www.w3.org/2000/svg\" height=\"24px\"viewBox=\"0 0 24 24\"\n",
              "       width=\"24px\">\n",
              "    <path d=\"M0 0h24v24H0V0z\" fill=\"none\"/>\n",
              "    <path d=\"M18.56 5.44l.94 2.06.94-2.06 2.06-.94-2.06-.94-.94-2.06-.94 2.06-2.06.94zm-11 1L8.5 8.5l.94-2.06 2.06-.94-2.06-.94L8.5 2.5l-.94 2.06-2.06.94zm10 10l.94 2.06.94-2.06 2.06-.94-2.06-.94-.94-2.06-.94 2.06-2.06.94z\"/><path d=\"M17.41 7.96l-1.37-1.37c-.4-.4-.92-.59-1.43-.59-.52 0-1.04.2-1.43.59L10.3 9.45l-7.72 7.72c-.78.78-.78 2.05 0 2.83L4 21.41c.39.39.9.59 1.41.59.51 0 1.02-.2 1.41-.59l7.78-7.78 2.81-2.81c.8-.78.8-2.07 0-2.86zM5.41 20L4 18.59l7.72-7.72 1.47 1.35L5.41 20z\"/>\n",
              "  </svg>\n",
              "      </button>\n",
              "      \n",
              "  <style>\n",
              "    .colab-df-container {\n",
              "      display:flex;\n",
              "      flex-wrap:wrap;\n",
              "      gap: 12px;\n",
              "    }\n",
              "\n",
              "    .colab-df-convert {\n",
              "      background-color: #E8F0FE;\n",
              "      border: none;\n",
              "      border-radius: 50%;\n",
              "      cursor: pointer;\n",
              "      display: none;\n",
              "      fill: #1967D2;\n",
              "      height: 32px;\n",
              "      padding: 0 0 0 0;\n",
              "      width: 32px;\n",
              "    }\n",
              "\n",
              "    .colab-df-convert:hover {\n",
              "      background-color: #E2EBFA;\n",
              "      box-shadow: 0px 1px 2px rgba(60, 64, 67, 0.3), 0px 1px 3px 1px rgba(60, 64, 67, 0.15);\n",
              "      fill: #174EA6;\n",
              "    }\n",
              "\n",
              "    [theme=dark] .colab-df-convert {\n",
              "      background-color: #3B4455;\n",
              "      fill: #D2E3FC;\n",
              "    }\n",
              "\n",
              "    [theme=dark] .colab-df-convert:hover {\n",
              "      background-color: #434B5C;\n",
              "      box-shadow: 0px 1px 3px 1px rgba(0, 0, 0, 0.15);\n",
              "      filter: drop-shadow(0px 1px 2px rgba(0, 0, 0, 0.3));\n",
              "      fill: #FFFFFF;\n",
              "    }\n",
              "  </style>\n",
              "\n",
              "      <script>\n",
              "        const buttonEl =\n",
              "          document.querySelector('#df-8266b467-b9d6-425d-a4db-1d36ffe9de57 button.colab-df-convert');\n",
              "        buttonEl.style.display =\n",
              "          google.colab.kernel.accessAllowed ? 'block' : 'none';\n",
              "\n",
              "        async function convertToInteractive(key) {\n",
              "          const element = document.querySelector('#df-8266b467-b9d6-425d-a4db-1d36ffe9de57');\n",
              "          const dataTable =\n",
              "            await google.colab.kernel.invokeFunction('convertToInteractive',\n",
              "                                                     [key], {});\n",
              "          if (!dataTable) return;\n",
              "\n",
              "          const docLinkHtml = 'Like what you see? Visit the ' +\n",
              "            '<a target=\"_blank\" href=https://colab.research.google.com/notebooks/data_table.ipynb>data table notebook</a>'\n",
              "            + ' to learn more about interactive tables.';\n",
              "          element.innerHTML = '';\n",
              "          dataTable['output_type'] = 'display_data';\n",
              "          await google.colab.output.renderOutput(dataTable, element);\n",
              "          const docLink = document.createElement('div');\n",
              "          docLink.innerHTML = docLinkHtml;\n",
              "          element.appendChild(docLink);\n",
              "        }\n",
              "      </script>\n",
              "    </div>\n",
              "  </div>\n",
              "  "
            ]
          },
          "metadata": {},
          "execution_count": 126
        }
      ]
    },
    {
      "cell_type": "markdown",
      "source": [
        "# Kesimpulan"
      ],
      "metadata": {
        "id": "x5DCMq7PdZUy"
      }
    },
    {
      "cell_type": "markdown",
      "source": [
        "Setiap Nilai evaluasi pada bagian perbandingan model memiliki nilai yang hampir sama.\n",
        "\n",
        "- Untuk nilai akurasi berada di rentang nilai 80 - 88\n",
        "- Untuk nilai recall berada di rentang nilai 70 - 75\n",
        "- Untuk nilai Precision berada di rentang nilai 89 - 94\n",
        "\n",
        "Nilai evaluasi terutama untuk nilai akurasi tidak bisa mencapai nilai 95 persen yang merupakan nilai optimal untuk model klasifikasi, hal ini dikarenakan beberapa faktor : \n",
        "\n",
        "1. Kolerasi setiap kolom terhadap variabel dependen(Death Event) terlalu kecil, kolom atau variabel independen dengan nilai korelasi tertinggi dengan variabel dependen hanya berada direntang nilai 0.2\n",
        "2. Jumlah Dataset yang terlalu sedikit, yaitu hanya berjumlah 300 data, dan data tersebut nantinya akan dibagi ke dalam data training data testing"
      ],
      "metadata": {
        "id": "u6JP0stTddwk"
      }
    },
    {
      "cell_type": "markdown",
      "source": [
        "                                                                          --- Selesai ---"
      ],
      "metadata": {
        "id": "7giExW4Jdex5"
      }
    }
  ]
}