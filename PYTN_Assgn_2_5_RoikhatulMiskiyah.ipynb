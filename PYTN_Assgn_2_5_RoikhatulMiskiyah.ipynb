{
 "cells": [
  {
   "cell_type": "markdown",
   "metadata": {},
   "source": [
    "```\n",
    "Nama          : Roikhatul Miskiyah\n",
    "Kode Peserta  : PYTN-KS05-010\n",
    "Batch         : 5\n",
    "Assignment    : 2\n",
    "```"
   ]
  },
  {
   "cell_type": "markdown",
   "metadata": {},
   "source": [
    "\n",
    "**Outline:**\n",
    "```\n",
    "A. Measure of Central Tendency: Mean     (P/N/S)\n",
    "B. Measure of Central Tendency: Median   (P/N/S)\n",
    "C. Measure of Central Tendency: Modus    (P/N/S)\n",
    "D. Measure of Spread: Range              (P/N/S)\n",
    "E. Measure of Spread: Variance           (P/N/S)\n",
    "F. Measure of Spread: Standard Deviation (P/N/S)\n",
    "G. Probability Distribution              (+C)\n",
    "H. Confidence Intervals\n",
    "I. Hypothesis Testing                    (+C)\n",
    "\n",
    "*for each (A - I):\n",
    "- Question/what data we want to look up\n",
    "- Pre-processing if needed\n",
    "\n",
    "===\n",
    "Keterangan:\n",
    "(P/N/S) : Pandas / NumPy / Scipy\n",
    "(+C)    : +Conclusion (menarik informasi/kesimpulan)\n",
    "\n",
    "===\n",
    "```"
   ]
  },
  {
   "cell_type": "code",
   "execution_count": 67,
   "metadata": {},
   "outputs": [],
   "source": [
    "# Import Dataset\n",
    "import math\n",
    "import statistics\n",
    "import numpy as np\n",
    "import scipy.stats\n",
    "import pandas as pd\n",
    "import matplotlib.pyplot as plt"
   ]
  },
  {
   "cell_type": "code",
   "execution_count": 68,
   "metadata": {},
   "outputs": [],
   "source": [
    "dt_nyc = pd.read_csv(\"nyc-rolling-sales.csv\")"
   ]
  },
  {
   "cell_type": "code",
   "execution_count": 69,
   "metadata": {},
   "outputs": [
    {
     "data": {
      "text/html": [
       "<div>\n",
       "<style scoped>\n",
       "    .dataframe tbody tr th:only-of-type {\n",
       "        vertical-align: middle;\n",
       "    }\n",
       "\n",
       "    .dataframe tbody tr th {\n",
       "        vertical-align: top;\n",
       "    }\n",
       "\n",
       "    .dataframe thead th {\n",
       "        text-align: right;\n",
       "    }\n",
       "</style>\n",
       "<table border=\"1\" class=\"dataframe\">\n",
       "  <thead>\n",
       "    <tr style=\"text-align: right;\">\n",
       "      <th></th>\n",
       "      <th>Unnamed: 0</th>\n",
       "      <th>BOROUGH</th>\n",
       "      <th>NEIGHBORHOOD</th>\n",
       "      <th>BUILDING CLASS CATEGORY</th>\n",
       "      <th>TAX CLASS AT PRESENT</th>\n",
       "      <th>BLOCK</th>\n",
       "      <th>LOT</th>\n",
       "      <th>EASE-MENT</th>\n",
       "      <th>BUILDING CLASS AT PRESENT</th>\n",
       "      <th>ADDRESS</th>\n",
       "      <th>...</th>\n",
       "      <th>RESIDENTIAL UNITS</th>\n",
       "      <th>COMMERCIAL UNITS</th>\n",
       "      <th>TOTAL UNITS</th>\n",
       "      <th>LAND SQUARE FEET</th>\n",
       "      <th>GROSS SQUARE FEET</th>\n",
       "      <th>YEAR BUILT</th>\n",
       "      <th>TAX CLASS AT TIME OF SALE</th>\n",
       "      <th>BUILDING CLASS AT TIME OF SALE</th>\n",
       "      <th>SALE PRICE</th>\n",
       "      <th>SALE DATE</th>\n",
       "    </tr>\n",
       "  </thead>\n",
       "  <tbody>\n",
       "    <tr>\n",
       "      <th>0</th>\n",
       "      <td>4</td>\n",
       "      <td>1</td>\n",
       "      <td>ALPHABET CITY</td>\n",
       "      <td>07 RENTALS - WALKUP APARTMENTS</td>\n",
       "      <td>2A</td>\n",
       "      <td>392</td>\n",
       "      <td>6</td>\n",
       "      <td></td>\n",
       "      <td>C2</td>\n",
       "      <td>153 AVENUE B</td>\n",
       "      <td>...</td>\n",
       "      <td>5</td>\n",
       "      <td>0</td>\n",
       "      <td>5</td>\n",
       "      <td>1633</td>\n",
       "      <td>6440</td>\n",
       "      <td>1900</td>\n",
       "      <td>2</td>\n",
       "      <td>C2</td>\n",
       "      <td>6625000</td>\n",
       "      <td>2017-07-19 00:00:00</td>\n",
       "    </tr>\n",
       "    <tr>\n",
       "      <th>1</th>\n",
       "      <td>5</td>\n",
       "      <td>1</td>\n",
       "      <td>ALPHABET CITY</td>\n",
       "      <td>07 RENTALS - WALKUP APARTMENTS</td>\n",
       "      <td>2</td>\n",
       "      <td>399</td>\n",
       "      <td>26</td>\n",
       "      <td></td>\n",
       "      <td>C7</td>\n",
       "      <td>234 EAST 4TH   STREET</td>\n",
       "      <td>...</td>\n",
       "      <td>28</td>\n",
       "      <td>3</td>\n",
       "      <td>31</td>\n",
       "      <td>4616</td>\n",
       "      <td>18690</td>\n",
       "      <td>1900</td>\n",
       "      <td>2</td>\n",
       "      <td>C7</td>\n",
       "      <td>-</td>\n",
       "      <td>2016-12-14 00:00:00</td>\n",
       "    </tr>\n",
       "    <tr>\n",
       "      <th>2</th>\n",
       "      <td>6</td>\n",
       "      <td>1</td>\n",
       "      <td>ALPHABET CITY</td>\n",
       "      <td>07 RENTALS - WALKUP APARTMENTS</td>\n",
       "      <td>2</td>\n",
       "      <td>399</td>\n",
       "      <td>39</td>\n",
       "      <td></td>\n",
       "      <td>C7</td>\n",
       "      <td>197 EAST 3RD   STREET</td>\n",
       "      <td>...</td>\n",
       "      <td>16</td>\n",
       "      <td>1</td>\n",
       "      <td>17</td>\n",
       "      <td>2212</td>\n",
       "      <td>7803</td>\n",
       "      <td>1900</td>\n",
       "      <td>2</td>\n",
       "      <td>C7</td>\n",
       "      <td>-</td>\n",
       "      <td>2016-12-09 00:00:00</td>\n",
       "    </tr>\n",
       "    <tr>\n",
       "      <th>3</th>\n",
       "      <td>7</td>\n",
       "      <td>1</td>\n",
       "      <td>ALPHABET CITY</td>\n",
       "      <td>07 RENTALS - WALKUP APARTMENTS</td>\n",
       "      <td>2B</td>\n",
       "      <td>402</td>\n",
       "      <td>21</td>\n",
       "      <td></td>\n",
       "      <td>C4</td>\n",
       "      <td>154 EAST 7TH STREET</td>\n",
       "      <td>...</td>\n",
       "      <td>10</td>\n",
       "      <td>0</td>\n",
       "      <td>10</td>\n",
       "      <td>2272</td>\n",
       "      <td>6794</td>\n",
       "      <td>1913</td>\n",
       "      <td>2</td>\n",
       "      <td>C4</td>\n",
       "      <td>3936272</td>\n",
       "      <td>2016-09-23 00:00:00</td>\n",
       "    </tr>\n",
       "    <tr>\n",
       "      <th>4</th>\n",
       "      <td>8</td>\n",
       "      <td>1</td>\n",
       "      <td>ALPHABET CITY</td>\n",
       "      <td>07 RENTALS - WALKUP APARTMENTS</td>\n",
       "      <td>2A</td>\n",
       "      <td>404</td>\n",
       "      <td>55</td>\n",
       "      <td></td>\n",
       "      <td>C2</td>\n",
       "      <td>301 EAST 10TH   STREET</td>\n",
       "      <td>...</td>\n",
       "      <td>6</td>\n",
       "      <td>0</td>\n",
       "      <td>6</td>\n",
       "      <td>2369</td>\n",
       "      <td>4615</td>\n",
       "      <td>1900</td>\n",
       "      <td>2</td>\n",
       "      <td>C2</td>\n",
       "      <td>8000000</td>\n",
       "      <td>2016-11-17 00:00:00</td>\n",
       "    </tr>\n",
       "  </tbody>\n",
       "</table>\n",
       "<p>5 rows × 22 columns</p>\n",
       "</div>"
      ],
      "text/plain": [
       "   Unnamed: 0  BOROUGH   NEIGHBORHOOD  \\\n",
       "0           4        1  ALPHABET CITY   \n",
       "1           5        1  ALPHABET CITY   \n",
       "2           6        1  ALPHABET CITY   \n",
       "3           7        1  ALPHABET CITY   \n",
       "4           8        1  ALPHABET CITY   \n",
       "\n",
       "                       BUILDING CLASS CATEGORY TAX CLASS AT PRESENT  BLOCK  \\\n",
       "0  07 RENTALS - WALKUP APARTMENTS                                2A    392   \n",
       "1  07 RENTALS - WALKUP APARTMENTS                                 2    399   \n",
       "2  07 RENTALS - WALKUP APARTMENTS                                 2    399   \n",
       "3  07 RENTALS - WALKUP APARTMENTS                                2B    402   \n",
       "4  07 RENTALS - WALKUP APARTMENTS                                2A    404   \n",
       "\n",
       "   LOT EASE-MENT BUILDING CLASS AT PRESENT                 ADDRESS  ...  \\\n",
       "0    6                                  C2            153 AVENUE B  ...   \n",
       "1   26                                  C7   234 EAST 4TH   STREET  ...   \n",
       "2   39                                  C7   197 EAST 3RD   STREET  ...   \n",
       "3   21                                  C4     154 EAST 7TH STREET  ...   \n",
       "4   55                                  C2  301 EAST 10TH   STREET  ...   \n",
       "\n",
       "  RESIDENTIAL UNITS  COMMERCIAL UNITS  TOTAL UNITS  LAND SQUARE FEET  \\\n",
       "0                 5                 0            5              1633   \n",
       "1                28                 3           31              4616   \n",
       "2                16                 1           17              2212   \n",
       "3                10                 0           10              2272   \n",
       "4                 6                 0            6              2369   \n",
       "\n",
       "   GROSS SQUARE FEET YEAR BUILT TAX CLASS AT TIME OF SALE  \\\n",
       "0               6440       1900                         2   \n",
       "1              18690       1900                         2   \n",
       "2               7803       1900                         2   \n",
       "3               6794       1913                         2   \n",
       "4               4615       1900                         2   \n",
       "\n",
       "   BUILDING CLASS AT TIME OF SALE  SALE PRICE            SALE DATE  \n",
       "0                              C2     6625000  2017-07-19 00:00:00  \n",
       "1                              C7         -    2016-12-14 00:00:00  \n",
       "2                              C7         -    2016-12-09 00:00:00  \n",
       "3                              C4     3936272  2016-09-23 00:00:00  \n",
       "4                              C2     8000000  2016-11-17 00:00:00  \n",
       "\n",
       "[5 rows x 22 columns]"
      ]
     },
     "execution_count": 69,
     "metadata": {},
     "output_type": "execute_result"
    }
   ],
   "source": [
    "dt_nyc.head()"
   ]
  },
  {
   "cell_type": "code",
   "execution_count": 70,
   "metadata": {},
   "outputs": [
    {
     "name": "stdout",
     "output_type": "stream",
     "text": [
      "<class 'pandas.core.frame.DataFrame'>\n",
      "RangeIndex: 84548 entries, 0 to 84547\n",
      "Data columns (total 22 columns):\n",
      " #   Column                          Non-Null Count  Dtype \n",
      "---  ------                          --------------  ----- \n",
      " 0   Unnamed: 0                      84548 non-null  int64 \n",
      " 1   BOROUGH                         84548 non-null  int64 \n",
      " 2   NEIGHBORHOOD                    84548 non-null  object\n",
      " 3   BUILDING CLASS CATEGORY         84548 non-null  object\n",
      " 4   TAX CLASS AT PRESENT            84548 non-null  object\n",
      " 5   BLOCK                           84548 non-null  int64 \n",
      " 6   LOT                             84548 non-null  int64 \n",
      " 7   EASE-MENT                       84548 non-null  object\n",
      " 8   BUILDING CLASS AT PRESENT       84548 non-null  object\n",
      " 9   ADDRESS                         84548 non-null  object\n",
      " 10  APARTMENT NUMBER                84548 non-null  object\n",
      " 11  ZIP CODE                        84548 non-null  int64 \n",
      " 12  RESIDENTIAL UNITS               84548 non-null  int64 \n",
      " 13  COMMERCIAL UNITS                84548 non-null  int64 \n",
      " 14  TOTAL UNITS                     84548 non-null  int64 \n",
      " 15  LAND SQUARE FEET                84548 non-null  object\n",
      " 16  GROSS SQUARE FEET               84548 non-null  object\n",
      " 17  YEAR BUILT                      84548 non-null  int64 \n",
      " 18  TAX CLASS AT TIME OF SALE       84548 non-null  int64 \n",
      " 19  BUILDING CLASS AT TIME OF SALE  84548 non-null  object\n",
      " 20  SALE PRICE                      84548 non-null  object\n",
      " 21  SALE DATE                       84548 non-null  object\n",
      "dtypes: int64(10), object(12)\n",
      "memory usage: 14.2+ MB\n"
     ]
    }
   ],
   "source": [
    "dt_nyc.info()"
   ]
  },
  {
   "cell_type": "code",
   "execution_count": 71,
   "metadata": {},
   "outputs": [
    {
     "data": {
      "text/plain": [
       "(84548, 22)"
      ]
     },
     "execution_count": 71,
     "metadata": {},
     "output_type": "execute_result"
    }
   ],
   "source": [
    "dt_nyc.shape"
   ]
  },
  {
   "cell_type": "code",
   "execution_count": 72,
   "metadata": {},
   "outputs": [
    {
     "data": {
      "text/html": [
       "<div>\n",
       "<style scoped>\n",
       "    .dataframe tbody tr th:only-of-type {\n",
       "        vertical-align: middle;\n",
       "    }\n",
       "\n",
       "    .dataframe tbody tr th {\n",
       "        vertical-align: top;\n",
       "    }\n",
       "\n",
       "    .dataframe thead th {\n",
       "        text-align: right;\n",
       "    }\n",
       "</style>\n",
       "<table border=\"1\" class=\"dataframe\">\n",
       "  <thead>\n",
       "    <tr style=\"text-align: right;\">\n",
       "      <th></th>\n",
       "      <th>Unnamed: 0</th>\n",
       "      <th>BOROUGH</th>\n",
       "      <th>NEIGHBORHOOD</th>\n",
       "      <th>BUILDING CLASS CATEGORY</th>\n",
       "      <th>TAX CLASS AT PRESENT</th>\n",
       "      <th>BLOCK</th>\n",
       "      <th>LOT</th>\n",
       "      <th>EASE-MENT</th>\n",
       "      <th>BUILDING CLASS AT PRESENT</th>\n",
       "      <th>ADDRESS</th>\n",
       "      <th>...</th>\n",
       "      <th>RESIDENTIAL UNITS</th>\n",
       "      <th>COMMERCIAL UNITS</th>\n",
       "      <th>TOTAL UNITS</th>\n",
       "      <th>LAND SQUARE FEET</th>\n",
       "      <th>GROSS SQUARE FEET</th>\n",
       "      <th>YEAR BUILT</th>\n",
       "      <th>TAX CLASS AT TIME OF SALE</th>\n",
       "      <th>BUILDING CLASS AT TIME OF SALE</th>\n",
       "      <th>SALE PRICE</th>\n",
       "      <th>SALE DATE</th>\n",
       "    </tr>\n",
       "  </thead>\n",
       "  <tbody>\n",
       "    <tr>\n",
       "      <th>0</th>\n",
       "      <td>False</td>\n",
       "      <td>False</td>\n",
       "      <td>False</td>\n",
       "      <td>False</td>\n",
       "      <td>False</td>\n",
       "      <td>False</td>\n",
       "      <td>False</td>\n",
       "      <td>False</td>\n",
       "      <td>False</td>\n",
       "      <td>False</td>\n",
       "      <td>...</td>\n",
       "      <td>False</td>\n",
       "      <td>False</td>\n",
       "      <td>False</td>\n",
       "      <td>False</td>\n",
       "      <td>False</td>\n",
       "      <td>False</td>\n",
       "      <td>False</td>\n",
       "      <td>False</td>\n",
       "      <td>False</td>\n",
       "      <td>False</td>\n",
       "    </tr>\n",
       "    <tr>\n",
       "      <th>1</th>\n",
       "      <td>False</td>\n",
       "      <td>False</td>\n",
       "      <td>False</td>\n",
       "      <td>False</td>\n",
       "      <td>False</td>\n",
       "      <td>False</td>\n",
       "      <td>False</td>\n",
       "      <td>False</td>\n",
       "      <td>False</td>\n",
       "      <td>False</td>\n",
       "      <td>...</td>\n",
       "      <td>False</td>\n",
       "      <td>False</td>\n",
       "      <td>False</td>\n",
       "      <td>False</td>\n",
       "      <td>False</td>\n",
       "      <td>False</td>\n",
       "      <td>False</td>\n",
       "      <td>False</td>\n",
       "      <td>False</td>\n",
       "      <td>False</td>\n",
       "    </tr>\n",
       "    <tr>\n",
       "      <th>2</th>\n",
       "      <td>False</td>\n",
       "      <td>False</td>\n",
       "      <td>False</td>\n",
       "      <td>False</td>\n",
       "      <td>False</td>\n",
       "      <td>False</td>\n",
       "      <td>False</td>\n",
       "      <td>False</td>\n",
       "      <td>False</td>\n",
       "      <td>False</td>\n",
       "      <td>...</td>\n",
       "      <td>False</td>\n",
       "      <td>False</td>\n",
       "      <td>False</td>\n",
       "      <td>False</td>\n",
       "      <td>False</td>\n",
       "      <td>False</td>\n",
       "      <td>False</td>\n",
       "      <td>False</td>\n",
       "      <td>False</td>\n",
       "      <td>False</td>\n",
       "    </tr>\n",
       "    <tr>\n",
       "      <th>3</th>\n",
       "      <td>False</td>\n",
       "      <td>False</td>\n",
       "      <td>False</td>\n",
       "      <td>False</td>\n",
       "      <td>False</td>\n",
       "      <td>False</td>\n",
       "      <td>False</td>\n",
       "      <td>False</td>\n",
       "      <td>False</td>\n",
       "      <td>False</td>\n",
       "      <td>...</td>\n",
       "      <td>False</td>\n",
       "      <td>False</td>\n",
       "      <td>False</td>\n",
       "      <td>False</td>\n",
       "      <td>False</td>\n",
       "      <td>False</td>\n",
       "      <td>False</td>\n",
       "      <td>False</td>\n",
       "      <td>False</td>\n",
       "      <td>False</td>\n",
       "    </tr>\n",
       "    <tr>\n",
       "      <th>4</th>\n",
       "      <td>False</td>\n",
       "      <td>False</td>\n",
       "      <td>False</td>\n",
       "      <td>False</td>\n",
       "      <td>False</td>\n",
       "      <td>False</td>\n",
       "      <td>False</td>\n",
       "      <td>False</td>\n",
       "      <td>False</td>\n",
       "      <td>False</td>\n",
       "      <td>...</td>\n",
       "      <td>False</td>\n",
       "      <td>False</td>\n",
       "      <td>False</td>\n",
       "      <td>False</td>\n",
       "      <td>False</td>\n",
       "      <td>False</td>\n",
       "      <td>False</td>\n",
       "      <td>False</td>\n",
       "      <td>False</td>\n",
       "      <td>False</td>\n",
       "    </tr>\n",
       "    <tr>\n",
       "      <th>...</th>\n",
       "      <td>...</td>\n",
       "      <td>...</td>\n",
       "      <td>...</td>\n",
       "      <td>...</td>\n",
       "      <td>...</td>\n",
       "      <td>...</td>\n",
       "      <td>...</td>\n",
       "      <td>...</td>\n",
       "      <td>...</td>\n",
       "      <td>...</td>\n",
       "      <td>...</td>\n",
       "      <td>...</td>\n",
       "      <td>...</td>\n",
       "      <td>...</td>\n",
       "      <td>...</td>\n",
       "      <td>...</td>\n",
       "      <td>...</td>\n",
       "      <td>...</td>\n",
       "      <td>...</td>\n",
       "      <td>...</td>\n",
       "      <td>...</td>\n",
       "    </tr>\n",
       "    <tr>\n",
       "      <th>84543</th>\n",
       "      <td>False</td>\n",
       "      <td>False</td>\n",
       "      <td>False</td>\n",
       "      <td>False</td>\n",
       "      <td>False</td>\n",
       "      <td>False</td>\n",
       "      <td>False</td>\n",
       "      <td>False</td>\n",
       "      <td>False</td>\n",
       "      <td>False</td>\n",
       "      <td>...</td>\n",
       "      <td>False</td>\n",
       "      <td>False</td>\n",
       "      <td>False</td>\n",
       "      <td>False</td>\n",
       "      <td>False</td>\n",
       "      <td>False</td>\n",
       "      <td>False</td>\n",
       "      <td>False</td>\n",
       "      <td>False</td>\n",
       "      <td>False</td>\n",
       "    </tr>\n",
       "    <tr>\n",
       "      <th>84544</th>\n",
       "      <td>False</td>\n",
       "      <td>False</td>\n",
       "      <td>False</td>\n",
       "      <td>False</td>\n",
       "      <td>False</td>\n",
       "      <td>False</td>\n",
       "      <td>False</td>\n",
       "      <td>False</td>\n",
       "      <td>False</td>\n",
       "      <td>False</td>\n",
       "      <td>...</td>\n",
       "      <td>False</td>\n",
       "      <td>False</td>\n",
       "      <td>False</td>\n",
       "      <td>False</td>\n",
       "      <td>False</td>\n",
       "      <td>False</td>\n",
       "      <td>False</td>\n",
       "      <td>False</td>\n",
       "      <td>False</td>\n",
       "      <td>False</td>\n",
       "    </tr>\n",
       "    <tr>\n",
       "      <th>84545</th>\n",
       "      <td>False</td>\n",
       "      <td>False</td>\n",
       "      <td>False</td>\n",
       "      <td>False</td>\n",
       "      <td>False</td>\n",
       "      <td>False</td>\n",
       "      <td>False</td>\n",
       "      <td>False</td>\n",
       "      <td>False</td>\n",
       "      <td>False</td>\n",
       "      <td>...</td>\n",
       "      <td>False</td>\n",
       "      <td>False</td>\n",
       "      <td>False</td>\n",
       "      <td>False</td>\n",
       "      <td>False</td>\n",
       "      <td>False</td>\n",
       "      <td>False</td>\n",
       "      <td>False</td>\n",
       "      <td>False</td>\n",
       "      <td>False</td>\n",
       "    </tr>\n",
       "    <tr>\n",
       "      <th>84546</th>\n",
       "      <td>False</td>\n",
       "      <td>False</td>\n",
       "      <td>False</td>\n",
       "      <td>False</td>\n",
       "      <td>False</td>\n",
       "      <td>False</td>\n",
       "      <td>False</td>\n",
       "      <td>False</td>\n",
       "      <td>False</td>\n",
       "      <td>False</td>\n",
       "      <td>...</td>\n",
       "      <td>False</td>\n",
       "      <td>False</td>\n",
       "      <td>False</td>\n",
       "      <td>False</td>\n",
       "      <td>False</td>\n",
       "      <td>False</td>\n",
       "      <td>False</td>\n",
       "      <td>False</td>\n",
       "      <td>False</td>\n",
       "      <td>False</td>\n",
       "    </tr>\n",
       "    <tr>\n",
       "      <th>84547</th>\n",
       "      <td>False</td>\n",
       "      <td>False</td>\n",
       "      <td>False</td>\n",
       "      <td>False</td>\n",
       "      <td>False</td>\n",
       "      <td>False</td>\n",
       "      <td>False</td>\n",
       "      <td>False</td>\n",
       "      <td>False</td>\n",
       "      <td>False</td>\n",
       "      <td>...</td>\n",
       "      <td>False</td>\n",
       "      <td>False</td>\n",
       "      <td>False</td>\n",
       "      <td>False</td>\n",
       "      <td>False</td>\n",
       "      <td>False</td>\n",
       "      <td>False</td>\n",
       "      <td>False</td>\n",
       "      <td>False</td>\n",
       "      <td>False</td>\n",
       "    </tr>\n",
       "  </tbody>\n",
       "</table>\n",
       "<p>84548 rows × 22 columns</p>\n",
       "</div>"
      ],
      "text/plain": [
       "       Unnamed: 0  BOROUGH  NEIGHBORHOOD  BUILDING CLASS CATEGORY  \\\n",
       "0           False    False         False                    False   \n",
       "1           False    False         False                    False   \n",
       "2           False    False         False                    False   \n",
       "3           False    False         False                    False   \n",
       "4           False    False         False                    False   \n",
       "...           ...      ...           ...                      ...   \n",
       "84543       False    False         False                    False   \n",
       "84544       False    False         False                    False   \n",
       "84545       False    False         False                    False   \n",
       "84546       False    False         False                    False   \n",
       "84547       False    False         False                    False   \n",
       "\n",
       "       TAX CLASS AT PRESENT  BLOCK    LOT  EASE-MENT  \\\n",
       "0                     False  False  False      False   \n",
       "1                     False  False  False      False   \n",
       "2                     False  False  False      False   \n",
       "3                     False  False  False      False   \n",
       "4                     False  False  False      False   \n",
       "...                     ...    ...    ...        ...   \n",
       "84543                 False  False  False      False   \n",
       "84544                 False  False  False      False   \n",
       "84545                 False  False  False      False   \n",
       "84546                 False  False  False      False   \n",
       "84547                 False  False  False      False   \n",
       "\n",
       "       BUILDING CLASS AT PRESENT  ADDRESS  ...  RESIDENTIAL UNITS  \\\n",
       "0                          False    False  ...              False   \n",
       "1                          False    False  ...              False   \n",
       "2                          False    False  ...              False   \n",
       "3                          False    False  ...              False   \n",
       "4                          False    False  ...              False   \n",
       "...                          ...      ...  ...                ...   \n",
       "84543                      False    False  ...              False   \n",
       "84544                      False    False  ...              False   \n",
       "84545                      False    False  ...              False   \n",
       "84546                      False    False  ...              False   \n",
       "84547                      False    False  ...              False   \n",
       "\n",
       "       COMMERCIAL UNITS  TOTAL UNITS  LAND SQUARE FEET  GROSS SQUARE FEET  \\\n",
       "0                 False        False             False              False   \n",
       "1                 False        False             False              False   \n",
       "2                 False        False             False              False   \n",
       "3                 False        False             False              False   \n",
       "4                 False        False             False              False   \n",
       "...                 ...          ...               ...                ...   \n",
       "84543             False        False             False              False   \n",
       "84544             False        False             False              False   \n",
       "84545             False        False             False              False   \n",
       "84546             False        False             False              False   \n",
       "84547             False        False             False              False   \n",
       "\n",
       "       YEAR BUILT  TAX CLASS AT TIME OF SALE  BUILDING CLASS AT TIME OF SALE  \\\n",
       "0           False                      False                           False   \n",
       "1           False                      False                           False   \n",
       "2           False                      False                           False   \n",
       "3           False                      False                           False   \n",
       "4           False                      False                           False   \n",
       "...           ...                        ...                             ...   \n",
       "84543       False                      False                           False   \n",
       "84544       False                      False                           False   \n",
       "84545       False                      False                           False   \n",
       "84546       False                      False                           False   \n",
       "84547       False                      False                           False   \n",
       "\n",
       "       SALE PRICE  SALE DATE  \n",
       "0           False      False  \n",
       "1           False      False  \n",
       "2           False      False  \n",
       "3           False      False  \n",
       "4           False      False  \n",
       "...           ...        ...  \n",
       "84543       False      False  \n",
       "84544       False      False  \n",
       "84545       False      False  \n",
       "84546       False      False  \n",
       "84547       False      False  \n",
       "\n",
       "[84548 rows x 22 columns]"
      ]
     },
     "execution_count": 72,
     "metadata": {},
     "output_type": "execute_result"
    }
   ],
   "source": [
    "dt_nyc.isnull()"
   ]
  },
  {
   "cell_type": "code",
   "execution_count": 73,
   "metadata": {
    "scrolled": true
   },
   "outputs": [
    {
     "data": {
      "text/plain": [
       "Unnamed: 0                        0\n",
       "BOROUGH                           0\n",
       "NEIGHBORHOOD                      0\n",
       "BUILDING CLASS CATEGORY           0\n",
       "TAX CLASS AT PRESENT              0\n",
       "BLOCK                             0\n",
       "LOT                               0\n",
       "EASE-MENT                         0\n",
       "BUILDING CLASS AT PRESENT         0\n",
       "ADDRESS                           0\n",
       "APARTMENT NUMBER                  0\n",
       "ZIP CODE                          0\n",
       "RESIDENTIAL UNITS                 0\n",
       "COMMERCIAL UNITS                  0\n",
       "TOTAL UNITS                       0\n",
       "LAND SQUARE FEET                  0\n",
       "GROSS SQUARE FEET                 0\n",
       "YEAR BUILT                        0\n",
       "TAX CLASS AT TIME OF SALE         0\n",
       "BUILDING CLASS AT TIME OF SALE    0\n",
       "SALE PRICE                        0\n",
       "SALE DATE                         0\n",
       "dtype: int64"
      ]
     },
     "execution_count": 73,
     "metadata": {},
     "output_type": "execute_result"
    }
   ],
   "source": [
    "dt_nyc.isnull().sum()"
   ]
  },
  {
   "cell_type": "code",
   "execution_count": 74,
   "metadata": {},
   "outputs": [
    {
     "data": {
      "text/plain": [
       "0        False\n",
       "1        False\n",
       "2        False\n",
       "3        False\n",
       "4        False\n",
       "         ...  \n",
       "84543    False\n",
       "84544    False\n",
       "84545    False\n",
       "84546    False\n",
       "84547    False\n",
       "Length: 84548, dtype: bool"
      ]
     },
     "execution_count": 74,
     "metadata": {},
     "output_type": "execute_result"
    }
   ],
   "source": [
    "# identifikasi duplikat data\n",
    "dup = dt_nyc.duplicated()\n",
    "dup"
   ]
  },
  {
   "cell_type": "code",
   "execution_count": 75,
   "metadata": {},
   "outputs": [
    {
     "data": {
      "text/plain": [
       "False"
      ]
     },
     "execution_count": 75,
     "metadata": {},
     "output_type": "execute_result"
    }
   ],
   "source": [
    "dup.any()"
   ]
  },
  {
   "cell_type": "code",
   "execution_count": 76,
   "metadata": {},
   "outputs": [],
   "source": [
    "# ubah variable tipe object --> category\n",
    "dt_nyc['BUILDING CLASS AT PRESENT'] = dt_nyc['BUILDING CLASS AT PRESENT'].astype('category')\n",
    "dt_nyc['NEIGHBORHOOD'] = dt_nyc['NEIGHBORHOOD'].astype('category')\n",
    "dt_nyc['BUILDING CLASS CATEGORY'] = dt_nyc['BUILDING CLASS CATEGORY'].astype('category')\n",
    "dt_nyc['TAX CLASS AT PRESENT'] = dt_nyc['TAX CLASS AT PRESENT'].astype('category')\n",
    "dt_nyc['ADDRESS'] = dt_nyc['ADDRESS'].astype('category')\n",
    "dt_nyc['BUILDING CLASS AT TIME OF SALE'] = dt_nyc['BUILDING CLASS AT TIME OF SALE'].astype('category')"
   ]
  },
  {
   "cell_type": "code",
   "execution_count": 77,
   "metadata": {},
   "outputs": [],
   "source": [
    "dt_nyc['BUILDING CLASS AT PRESENT_new'] = pd.core.arrays.categorical.Categorical(dt_nyc['BUILDING CLASS AT PRESENT']).codes\n",
    "dt_nyc['NEIGHBORHOOD_new'] = pd.core.arrays.categorical.Categorical(dt_nyc['NEIGHBORHOOD']).codes\n",
    "dt_nyc['BUILDING CLASS CATEGORY_new'] = pd.core.arrays.categorical.Categorical(dt_nyc['BUILDING CLASS CATEGORY']).codes\n",
    "dt_nyc['TAX CLASS AT PRESENT_new'] =pd.core.arrays.categorical.Categorical(dt_nyc['TAX CLASS AT PRESENT']).codes\n",
    "dt_nyc['ADDRESS_new'] = pd.core.arrays.categorical.Categorical(dt_nyc['ADDRESS']).codes\n",
    "dt_nyc['BUILDING CLASS AT TIME OF SALE_new'] = pd.core.arrays.categorical.Categorical(dt_nyc['BUILDING CLASS AT TIME OF SALE']).codes"
   ]
  },
  {
   "cell_type": "code",
   "execution_count": 78,
   "metadata": {},
   "outputs": [],
   "source": [
    "# menghapus kolom yang tidak digunakan \n",
    "dt_nyc.drop(['EASE-MENT','APARTMENT NUMBER','Unnamed: 0','ZIP CODE'],axis=1, inplace=True)"
   ]
  },
  {
   "cell_type": "code",
   "execution_count": 79,
   "metadata": {},
   "outputs": [
    {
     "data": {
      "text/html": [
       "<div>\n",
       "<style scoped>\n",
       "    .dataframe tbody tr th:only-of-type {\n",
       "        vertical-align: middle;\n",
       "    }\n",
       "\n",
       "    .dataframe tbody tr th {\n",
       "        vertical-align: top;\n",
       "    }\n",
       "\n",
       "    .dataframe thead th {\n",
       "        text-align: right;\n",
       "    }\n",
       "</style>\n",
       "<table border=\"1\" class=\"dataframe\">\n",
       "  <thead>\n",
       "    <tr style=\"text-align: right;\">\n",
       "      <th></th>\n",
       "      <th>BOROUGH</th>\n",
       "      <th>NEIGHBORHOOD</th>\n",
       "      <th>BUILDING CLASS CATEGORY</th>\n",
       "      <th>TAX CLASS AT PRESENT</th>\n",
       "      <th>BLOCK</th>\n",
       "      <th>LOT</th>\n",
       "      <th>BUILDING CLASS AT PRESENT</th>\n",
       "      <th>ADDRESS</th>\n",
       "      <th>RESIDENTIAL UNITS</th>\n",
       "      <th>COMMERCIAL UNITS</th>\n",
       "      <th>...</th>\n",
       "      <th>TAX CLASS AT TIME OF SALE</th>\n",
       "      <th>BUILDING CLASS AT TIME OF SALE</th>\n",
       "      <th>SALE PRICE</th>\n",
       "      <th>SALE DATE</th>\n",
       "      <th>BUILDING CLASS AT PRESENT_new</th>\n",
       "      <th>NEIGHBORHOOD_new</th>\n",
       "      <th>BUILDING CLASS CATEGORY_new</th>\n",
       "      <th>TAX CLASS AT PRESENT_new</th>\n",
       "      <th>ADDRESS_new</th>\n",
       "      <th>BUILDING CLASS AT TIME OF SALE_new</th>\n",
       "    </tr>\n",
       "  </thead>\n",
       "  <tbody>\n",
       "    <tr>\n",
       "      <th>0</th>\n",
       "      <td>1</td>\n",
       "      <td>ALPHABET CITY</td>\n",
       "      <td>07 RENTALS - WALKUP APARTMENTS</td>\n",
       "      <td>2A</td>\n",
       "      <td>392</td>\n",
       "      <td>6</td>\n",
       "      <td>C2</td>\n",
       "      <td>153 AVENUE B</td>\n",
       "      <td>5</td>\n",
       "      <td>0</td>\n",
       "      <td>...</td>\n",
       "      <td>2</td>\n",
       "      <td>C2</td>\n",
       "      <td>6625000</td>\n",
       "      <td>2017-07-19 00:00:00</td>\n",
       "      <td>16</td>\n",
       "      <td>1</td>\n",
       "      <td>6</td>\n",
       "      <td>6</td>\n",
       "      <td>14889</td>\n",
       "      <td>15</td>\n",
       "    </tr>\n",
       "    <tr>\n",
       "      <th>1</th>\n",
       "      <td>1</td>\n",
       "      <td>ALPHABET CITY</td>\n",
       "      <td>07 RENTALS - WALKUP APARTMENTS</td>\n",
       "      <td>2</td>\n",
       "      <td>399</td>\n",
       "      <td>26</td>\n",
       "      <td>C7</td>\n",
       "      <td>234 EAST 4TH   STREET</td>\n",
       "      <td>28</td>\n",
       "      <td>3</td>\n",
       "      <td>...</td>\n",
       "      <td>2</td>\n",
       "      <td>C7</td>\n",
       "      <td>-</td>\n",
       "      <td>2016-12-14 00:00:00</td>\n",
       "      <td>21</td>\n",
       "      <td>1</td>\n",
       "      <td>6</td>\n",
       "      <td>5</td>\n",
       "      <td>28592</td>\n",
       "      <td>20</td>\n",
       "    </tr>\n",
       "    <tr>\n",
       "      <th>2</th>\n",
       "      <td>1</td>\n",
       "      <td>ALPHABET CITY</td>\n",
       "      <td>07 RENTALS - WALKUP APARTMENTS</td>\n",
       "      <td>2</td>\n",
       "      <td>399</td>\n",
       "      <td>39</td>\n",
       "      <td>C7</td>\n",
       "      <td>197 EAST 3RD   STREET</td>\n",
       "      <td>16</td>\n",
       "      <td>1</td>\n",
       "      <td>...</td>\n",
       "      <td>2</td>\n",
       "      <td>C7</td>\n",
       "      <td>-</td>\n",
       "      <td>2016-12-09 00:00:00</td>\n",
       "      <td>21</td>\n",
       "      <td>1</td>\n",
       "      <td>6</td>\n",
       "      <td>5</td>\n",
       "      <td>22192</td>\n",
       "      <td>20</td>\n",
       "    </tr>\n",
       "    <tr>\n",
       "      <th>3</th>\n",
       "      <td>1</td>\n",
       "      <td>ALPHABET CITY</td>\n",
       "      <td>07 RENTALS - WALKUP APARTMENTS</td>\n",
       "      <td>2B</td>\n",
       "      <td>402</td>\n",
       "      <td>21</td>\n",
       "      <td>C4</td>\n",
       "      <td>154 EAST 7TH STREET</td>\n",
       "      <td>10</td>\n",
       "      <td>0</td>\n",
       "      <td>...</td>\n",
       "      <td>2</td>\n",
       "      <td>C4</td>\n",
       "      <td>3936272</td>\n",
       "      <td>2016-09-23 00:00:00</td>\n",
       "      <td>18</td>\n",
       "      <td>1</td>\n",
       "      <td>6</td>\n",
       "      <td>7</td>\n",
       "      <td>15090</td>\n",
       "      <td>17</td>\n",
       "    </tr>\n",
       "    <tr>\n",
       "      <th>4</th>\n",
       "      <td>1</td>\n",
       "      <td>ALPHABET CITY</td>\n",
       "      <td>07 RENTALS - WALKUP APARTMENTS</td>\n",
       "      <td>2A</td>\n",
       "      <td>404</td>\n",
       "      <td>55</td>\n",
       "      <td>C2</td>\n",
       "      <td>301 EAST 10TH   STREET</td>\n",
       "      <td>6</td>\n",
       "      <td>0</td>\n",
       "      <td>...</td>\n",
       "      <td>2</td>\n",
       "      <td>C2</td>\n",
       "      <td>8000000</td>\n",
       "      <td>2016-11-17 00:00:00</td>\n",
       "      <td>16</td>\n",
       "      <td>1</td>\n",
       "      <td>6</td>\n",
       "      <td>6</td>\n",
       "      <td>35431</td>\n",
       "      <td>15</td>\n",
       "    </tr>\n",
       "  </tbody>\n",
       "</table>\n",
       "<p>5 rows × 24 columns</p>\n",
       "</div>"
      ],
      "text/plain": [
       "   BOROUGH   NEIGHBORHOOD                      BUILDING CLASS CATEGORY  \\\n",
       "0        1  ALPHABET CITY  07 RENTALS - WALKUP APARTMENTS                \n",
       "1        1  ALPHABET CITY  07 RENTALS - WALKUP APARTMENTS                \n",
       "2        1  ALPHABET CITY  07 RENTALS - WALKUP APARTMENTS                \n",
       "3        1  ALPHABET CITY  07 RENTALS - WALKUP APARTMENTS                \n",
       "4        1  ALPHABET CITY  07 RENTALS - WALKUP APARTMENTS                \n",
       "\n",
       "  TAX CLASS AT PRESENT  BLOCK  LOT BUILDING CLASS AT PRESENT  \\\n",
       "0                   2A    392    6                        C2   \n",
       "1                    2    399   26                        C7   \n",
       "2                    2    399   39                        C7   \n",
       "3                   2B    402   21                        C4   \n",
       "4                   2A    404   55                        C2   \n",
       "\n",
       "                  ADDRESS  RESIDENTIAL UNITS  COMMERCIAL UNITS  ...  \\\n",
       "0            153 AVENUE B                  5                 0  ...   \n",
       "1   234 EAST 4TH   STREET                 28                 3  ...   \n",
       "2   197 EAST 3RD   STREET                 16                 1  ...   \n",
       "3     154 EAST 7TH STREET                 10                 0  ...   \n",
       "4  301 EAST 10TH   STREET                  6                 0  ...   \n",
       "\n",
       "   TAX CLASS AT TIME OF SALE BUILDING CLASS AT TIME OF SALE SALE PRICE  \\\n",
       "0                          2                             C2    6625000   \n",
       "1                          2                             C7        -     \n",
       "2                          2                             C7        -     \n",
       "3                          2                             C4    3936272   \n",
       "4                          2                             C2    8000000   \n",
       "\n",
       "             SALE DATE  BUILDING CLASS AT PRESENT_new NEIGHBORHOOD_new  \\\n",
       "0  2017-07-19 00:00:00                             16                1   \n",
       "1  2016-12-14 00:00:00                             21                1   \n",
       "2  2016-12-09 00:00:00                             21                1   \n",
       "3  2016-09-23 00:00:00                             18                1   \n",
       "4  2016-11-17 00:00:00                             16                1   \n",
       "\n",
       "  BUILDING CLASS CATEGORY_new TAX CLASS AT PRESENT_new  ADDRESS_new  \\\n",
       "0                           6                        6        14889   \n",
       "1                           6                        5        28592   \n",
       "2                           6                        5        22192   \n",
       "3                           6                        7        15090   \n",
       "4                           6                        6        35431   \n",
       "\n",
       "   BUILDING CLASS AT TIME OF SALE_new  \n",
       "0                                  15  \n",
       "1                                  20  \n",
       "2                                  20  \n",
       "3                                  17  \n",
       "4                                  15  \n",
       "\n",
       "[5 rows x 24 columns]"
      ]
     },
     "execution_count": 79,
     "metadata": {},
     "output_type": "execute_result"
    }
   ],
   "source": [
    "dt_nyc.head()"
   ]
  },
  {
   "cell_type": "markdown",
   "metadata": {},
   "source": [
    "---\n",
    "# A. Measure of Central Tendency : Mean"
   ]
  },
  {
   "cell_type": "markdown",
   "metadata": {},
   "source": [
    "**Question**  // *Deskripsi dari informasi apa yang ingin dicari/dihitung di step 2*"
   ]
  },
  {
   "cell_type": "markdown",
   "metadata": {},
   "source": [
    "1. Berapa rata-rata tertinggi dan terendah dari dataset NYC Rolling Sales?"
   ]
  },
  {
   "cell_type": "markdown",
   "metadata": {},
   "source": [
    "**Pre-processing if needed** // *Student melakukan preproses dataset sebelum melakukan Proses Statistik*"
   ]
  },
  {
   "cell_type": "code",
   "execution_count": 80,
   "metadata": {},
   "outputs": [],
   "source": [
    "# 1. pre-processing if needed\n",
    "# menggunakan librrary Statistics\n",
    "mean = dt_nyc.mean()"
   ]
  },
  {
   "cell_type": "markdown",
   "metadata": {},
   "source": [
    "**Implement statistical method** // *Mengimplementaskan Mean dari kolom/data spesifik menggunakan Pandas, NumPy, atau Scipy*"
   ]
  },
  {
   "cell_type": "code",
   "execution_count": 81,
   "metadata": {
    "scrolled": true
   },
   "outputs": [
    {
     "name": "stdout",
     "output_type": "stream",
     "text": [
      "BOROUGH                                   2.998758\n",
      "BLOCK                                  4237.218976\n",
      "LOT                                     376.224015\n",
      "RESIDENTIAL UNITS                         2.025264\n",
      "COMMERCIAL UNITS                          0.193559\n",
      "TOTAL UNITS                               2.249184\n",
      "YEAR BUILT                             1789.322976\n",
      "TAX CLASS AT TIME OF SALE                 1.657485\n",
      "BUILDING CLASS AT PRESENT_new            47.573284\n",
      "NEIGHBORHOOD_new                        127.367708\n",
      "BUILDING CLASS CATEGORY_new               7.455043\n",
      "TAX CLASS AT PRESENT_new                  3.526305\n",
      "ADDRESS_new                           33608.317062\n",
      "BUILDING CLASS AT TIME OF SALE_new       47.657106\n",
      "dtype: float64\n"
     ]
    }
   ],
   "source": [
    "# 2. pemanggilan hasil mean\n",
    "print(mean)"
   ]
  },
  {
   "cell_type": "markdown",
   "metadata": {},
   "source": [
    "**Conclusion:**\n",
    "    1. Berdasarkan hasil di atas menunjukkan bahwa rata-rata tertinggi diperoleh dari kolom BLOCK dengan nilai rata-rata 4237.218976, dan terendah diperoleh kolom COMMERCIAL UNITS  dengan nilai rata-rata 0.193559. "
   ]
  },
  {
   "cell_type": "markdown",
   "metadata": {},
   "source": [
    "---\n",
    "# B. Measure of Central Tendency : Median"
   ]
  },
  {
   "cell_type": "markdown",
   "metadata": {},
   "source": [
    "**Question**  // *Deskripsi dari informasi apa yang ingin dicari/dihitung di step 2*"
   ]
  },
  {
   "cell_type": "markdown",
   "metadata": {},
   "source": [
    "1. Berapa nilai tengah atau median tertinggi dan terendah dari dataset NYC Rolling Sales?"
   ]
  },
  {
   "cell_type": "markdown",
   "metadata": {},
   "source": [
    "**Pre-processing if needed** // *Student melakukan preproses dataset sebelum melakukan Proses Statistik*"
   ]
  },
  {
   "cell_type": "code",
   "execution_count": 89,
   "metadata": {},
   "outputs": [],
   "source": [
    "# 1. pre-processing if needed\n",
    "# menggunakan librrary Statistics\n",
    "median = dt_nyc.median()"
   ]
  },
  {
   "cell_type": "markdown",
   "metadata": {},
   "source": [
    "**Implement statistical method** // *Mengimplementaskan Mean dari kolom/data spesifik menggunakan Pandas, NumPy, atau Scipy*"
   ]
  },
  {
   "cell_type": "code",
   "execution_count": 90,
   "metadata": {},
   "outputs": [
    {
     "name": "stdout",
     "output_type": "stream",
     "text": [
      "BOROUGH                                   3.0\n",
      "BLOCK                                  3311.0\n",
      "LOT                                      50.0\n",
      "RESIDENTIAL UNITS                         1.0\n",
      "COMMERCIAL UNITS                          0.0\n",
      "TOTAL UNITS                               1.0\n",
      "YEAR BUILT                             1940.0\n",
      "TAX CLASS AT TIME OF SALE                 2.0\n",
      "BUILDING CLASS AT PRESENT_new            20.0\n",
      "NEIGHBORHOOD_new                        122.0\n",
      "BUILDING CLASS CATEGORY_new               6.0\n",
      "TAX CLASS AT PRESENT_new                  5.0\n",
      "ADDRESS_new                           33806.5\n",
      "BUILDING CLASS AT TIME OF SALE_new       19.0\n",
      "dtype: float64\n"
     ]
    }
   ],
   "source": [
    "# 2. Implement/try-to-use statistical method here ..\n",
    "print(median)"
   ]
  },
  {
   "cell_type": "markdown",
   "metadata": {},
   "source": [
    "**Conclusion:**\n",
    "    1. Berdasarkan hasil di atas menunjukkan bahwa median tertinggi diperoleh dari kolom ADDRESS_new dengan nilai rata-rata 33806.5 dan median terendah diperoleh kolom COMMERCIAL UNITS  dengan nilai median 0.0. "
   ]
  },
  {
   "cell_type": "markdown",
   "metadata": {},
   "source": [
    "---\n",
    "# C. Measure of Central Tendency : Modus"
   ]
  },
  {
   "cell_type": "markdown",
   "metadata": {},
   "source": [
    "**Question**  // *Deskripsi dari informasi apa yang ingin dicari/dihitung di step 2*"
   ]
  },
  {
   "cell_type": "markdown",
   "metadata": {},
   "source": [
    "1. Berapa nilai modus tertinggi dan terendah dari dataset NYC Rolling Sales?"
   ]
  },
  {
   "cell_type": "markdown",
   "metadata": {},
   "source": [
    "**Pre-processing if needed** // *Student melakukan preproses dataset sebelum melakukan Proses Statistik*"
   ]
  },
  {
   "cell_type": "code",
   "execution_count": 91,
   "metadata": {},
   "outputs": [],
   "source": [
    "# 1. pre-processing if needed\n",
    "# menggunakan librrary Statistics\n",
    "modus = dt_nyc.mode()"
   ]
  },
  {
   "cell_type": "markdown",
   "metadata": {},
   "source": [
    "**Implement statistical method** // *Mengimplementaskan Mean dari kolom/data spesifik menggunakan Pandas, NumPy, atau Scipy*"
   ]
  },
  {
   "cell_type": "code",
   "execution_count": 92,
   "metadata": {
    "scrolled": true
   },
   "outputs": [
    {
     "data": {
      "text/html": [
       "<div>\n",
       "<style scoped>\n",
       "    .dataframe tbody tr th:only-of-type {\n",
       "        vertical-align: middle;\n",
       "    }\n",
       "\n",
       "    .dataframe tbody tr th {\n",
       "        vertical-align: top;\n",
       "    }\n",
       "\n",
       "    .dataframe thead th {\n",
       "        text-align: right;\n",
       "    }\n",
       "</style>\n",
       "<table border=\"1\" class=\"dataframe\">\n",
       "  <thead>\n",
       "    <tr style=\"text-align: right;\">\n",
       "      <th></th>\n",
       "      <th>BOROUGH</th>\n",
       "      <th>NEIGHBORHOOD</th>\n",
       "      <th>BUILDING CLASS CATEGORY</th>\n",
       "      <th>TAX CLASS AT PRESENT</th>\n",
       "      <th>BLOCK</th>\n",
       "      <th>LOT</th>\n",
       "      <th>BUILDING CLASS AT PRESENT</th>\n",
       "      <th>ADDRESS</th>\n",
       "      <th>RESIDENTIAL UNITS</th>\n",
       "      <th>COMMERCIAL UNITS</th>\n",
       "      <th>...</th>\n",
       "      <th>TAX CLASS AT TIME OF SALE</th>\n",
       "      <th>BUILDING CLASS AT TIME OF SALE</th>\n",
       "      <th>SALE PRICE</th>\n",
       "      <th>SALE DATE</th>\n",
       "      <th>BUILDING CLASS AT PRESENT_new</th>\n",
       "      <th>NEIGHBORHOOD_new</th>\n",
       "      <th>BUILDING CLASS CATEGORY_new</th>\n",
       "      <th>TAX CLASS AT PRESENT_new</th>\n",
       "      <th>ADDRESS_new</th>\n",
       "      <th>BUILDING CLASS AT TIME OF SALE_new</th>\n",
       "    </tr>\n",
       "  </thead>\n",
       "  <tbody>\n",
       "    <tr>\n",
       "      <th>0</th>\n",
       "      <td>4</td>\n",
       "      <td>FLUSHING-NORTH</td>\n",
       "      <td>01 ONE FAMILY DWELLINGS</td>\n",
       "      <td>1</td>\n",
       "      <td>5066</td>\n",
       "      <td>1</td>\n",
       "      <td>D4</td>\n",
       "      <td>131-05 40TH   ROAD</td>\n",
       "      <td>1</td>\n",
       "      <td>0</td>\n",
       "      <td>...</td>\n",
       "      <td>1</td>\n",
       "      <td>R4</td>\n",
       "      <td>-</td>\n",
       "      <td>2017-06-29 00:00:00</td>\n",
       "      <td>29</td>\n",
       "      <td>87</td>\n",
       "      <td>0</td>\n",
       "      <td>1</td>\n",
       "      <td>8984</td>\n",
       "      <td>120</td>\n",
       "    </tr>\n",
       "  </tbody>\n",
       "</table>\n",
       "<p>1 rows × 24 columns</p>\n",
       "</div>"
      ],
      "text/plain": [
       "   BOROUGH    NEIGHBORHOOD                      BUILDING CLASS CATEGORY  \\\n",
       "0        4  FLUSHING-NORTH  01 ONE FAMILY DWELLINGS                       \n",
       "\n",
       "  TAX CLASS AT PRESENT  BLOCK  LOT BUILDING CLASS AT PRESENT  \\\n",
       "0                    1   5066    1                        D4   \n",
       "\n",
       "              ADDRESS  RESIDENTIAL UNITS  COMMERCIAL UNITS  ...  \\\n",
       "0  131-05 40TH   ROAD                  1                 0  ...   \n",
       "\n",
       "   TAX CLASS AT TIME OF SALE BUILDING CLASS AT TIME OF SALE SALE PRICE  \\\n",
       "0                          1                             R4        -     \n",
       "\n",
       "             SALE DATE  BUILDING CLASS AT PRESENT_new NEIGHBORHOOD_new  \\\n",
       "0  2017-06-29 00:00:00                             29               87   \n",
       "\n",
       "  BUILDING CLASS CATEGORY_new TAX CLASS AT PRESENT_new  ADDRESS_new  \\\n",
       "0                           0                        1         8984   \n",
       "\n",
       "   BUILDING CLASS AT TIME OF SALE_new  \n",
       "0                                 120  \n",
       "\n",
       "[1 rows x 24 columns]"
      ]
     },
     "execution_count": 92,
     "metadata": {},
     "output_type": "execute_result"
    }
   ],
   "source": [
    "# 2. Implement/try-to-use statistical method here ..\n",
    "modus"
   ]
  },
  {
   "cell_type": "markdown",
   "metadata": {},
   "source": [
    "**Conclusion:**\n",
    "    1. Berdasarkan hasil di atas menunjukkan bahwa modus yang sering muncul dari dataset NYC Rolling Sales adalah ADDRESS_new dengan total modus 8984."
   ]
  },
  {
   "cell_type": "markdown",
   "metadata": {},
   "source": [
    "---\n",
    "# D. Measure of Spread: Range"
   ]
  },
  {
   "cell_type": "markdown",
   "metadata": {},
   "source": [
    "**Question**  // *Deskripsi dari informasi apa yang ingin dicari/dihitung di step 2*"
   ]
  },
  {
   "cell_type": "markdown",
   "metadata": {},
   "source": [
    "1. Berapa nilai range data BOROUGH dari dataset NYC Rolling Sales?"
   ]
  },
  {
   "cell_type": "markdown",
   "metadata": {},
   "source": [
    "**Pre-processing if needed** // *Student melakukan preproses dataset sebelum melakukan Proses Statistik*"
   ]
  },
  {
   "cell_type": "code",
   "execution_count": 177,
   "metadata": {
    "scrolled": true
   },
   "outputs": [
    {
     "name": "stdout",
     "output_type": "stream",
     "text": [
      "<class 'pandas.core.frame.DataFrame'>\n",
      "RangeIndex: 84548 entries, 0 to 84547\n",
      "Data columns (total 24 columns):\n",
      " #   Column                              Non-Null Count  Dtype   \n",
      "---  ------                              --------------  -----   \n",
      " 0   BOROUGH                             84548 non-null  int64   \n",
      " 1   NEIGHBORHOOD                        84548 non-null  category\n",
      " 2   BUILDING CLASS CATEGORY             84548 non-null  category\n",
      " 3   TAX CLASS AT PRESENT                84548 non-null  category\n",
      " 4   BLOCK                               84548 non-null  int64   \n",
      " 5   LOT                                 84548 non-null  int64   \n",
      " 6   BUILDING CLASS AT PRESENT           84548 non-null  category\n",
      " 7   ADDRESS                             84548 non-null  category\n",
      " 8   RESIDENTIAL UNITS                   84548 non-null  int64   \n",
      " 9   COMMERCIAL UNITS                    84548 non-null  int64   \n",
      " 10  TOTAL UNITS                         84548 non-null  int64   \n",
      " 11  LAND SQUARE FEET                    84548 non-null  object  \n",
      " 12  GROSS SQUARE FEET                   84548 non-null  object  \n",
      " 13  YEAR BUILT                          84548 non-null  int64   \n",
      " 14  TAX CLASS AT TIME OF SALE           84548 non-null  int64   \n",
      " 15  BUILDING CLASS AT TIME OF SALE      84548 non-null  category\n",
      " 16  SALE PRICE                          84548 non-null  object  \n",
      " 17  SALE DATE                           84548 non-null  object  \n",
      " 18  BUILDING CLASS AT PRESENT_new       84548 non-null  int16   \n",
      " 19  NEIGHBORHOOD_new                    84548 non-null  int16   \n",
      " 20  BUILDING CLASS CATEGORY_new         84548 non-null  int8    \n",
      " 21  TAX CLASS AT PRESENT_new            84548 non-null  int8    \n",
      " 22  ADDRESS_new                         84548 non-null  int32   \n",
      " 23  BUILDING CLASS AT TIME OF SALE_new  84548 non-null  int16   \n",
      "dtypes: category(6), int16(3), int32(1), int64(8), int8(2), object(4)\n",
      "memory usage: 12.7+ MB\n"
     ]
    }
   ],
   "source": [
    "dt_nyc.info()"
   ]
  },
  {
   "cell_type": "code",
   "execution_count": 178,
   "metadata": {
    "scrolled": true
   },
   "outputs": [
    {
     "data": {
      "text/plain": [
       "5"
      ]
     },
     "execution_count": 178,
     "metadata": {},
     "output_type": "execute_result"
    }
   ],
   "source": [
    "# 1. pre-processing if needed\n",
    "# menggunakan librrary Statistics\n",
    "# mencari nilai maksimum\n",
    "maks = dt_nyc[\"BOROUGH\"].max()\n",
    "maks"
   ]
  },
  {
   "cell_type": "code",
   "execution_count": 179,
   "metadata": {},
   "outputs": [
    {
     "data": {
      "text/plain": [
       "1"
      ]
     },
     "execution_count": 179,
     "metadata": {},
     "output_type": "execute_result"
    }
   ],
   "source": [
    "# mencari nilai maksimum\n",
    "minm = dt_nyc[\"BOROUGH\"].min()\n",
    "minm"
   ]
  },
  {
   "cell_type": "markdown",
   "metadata": {},
   "source": [
    "**Implement statistical method** // *Mengimplementaskan Mean dari kolom/data spesifik menggunakan Pandas, NumPy, atau Scipy*"
   ]
  },
  {
   "cell_type": "code",
   "execution_count": 180,
   "metadata": {},
   "outputs": [
    {
     "data": {
      "text/plain": [
       "4"
      ]
     },
     "execution_count": 180,
     "metadata": {},
     "output_type": "execute_result"
    }
   ],
   "source": [
    "# 2. Implement/try-to-use statistical method here ..\n",
    "Jarak = maks - minm\n",
    "Jarak"
   ]
  },
  {
   "cell_type": "markdown",
   "metadata": {},
   "source": [
    "**Conclusion:**\n",
    "    1. Berdasarkan hasil di atas menunjukkan bahwa nilai range dari data BOROUGH berdasarkan dataset NYC ROlling Sales yang diambil dari nilai maksimal - nilai minimum mendapatkan hasil yaitu 4. "
   ]
  },
  {
   "cell_type": "markdown",
   "metadata": {},
   "source": [
    "---\n",
    "# E. Measure of Spread: Variance"
   ]
  },
  {
   "cell_type": "markdown",
   "metadata": {},
   "source": [
    "**Question**  // *Deskripsi dari informasi apa yang ingin dicari/dihitung di step 2*"
   ]
  },
  {
   "cell_type": "markdown",
   "metadata": {},
   "source": [
    "1. Berapa nilai varians atau jumlah kuadrat tertinggi dari nilai standar deviasi pada dataset NYC Rolling Sales?"
   ]
  },
  {
   "cell_type": "markdown",
   "metadata": {},
   "source": [
    "**Pre-processing if needed** // *Student melakukan preproses dataset sebelum melakukan Proses Statistik*"
   ]
  },
  {
   "cell_type": "code",
   "execution_count": 97,
   "metadata": {},
   "outputs": [],
   "source": [
    "# 1. pre-processing if needed\n",
    "# menggunakan librrary Statistics\n",
    "varians = dt_nyc.var()"
   ]
  },
  {
   "cell_type": "markdown",
   "metadata": {},
   "source": [
    "**Implement statistical method** // *Mengimplementaskan Mean dari kolom/data spesifik menggunakan Pandas, NumPy, atau Scipy*"
   ]
  },
  {
   "cell_type": "code",
   "execution_count": 98,
   "metadata": {
    "scrolled": true
   },
   "outputs": [
    {
     "data": {
      "text/plain": [
       "BOROUGH                               1.663558e+00\n",
       "BLOCK                                 1.273250e+07\n",
       "LOT                                   4.331441e+05\n",
       "RESIDENTIAL UNITS                     2.795931e+02\n",
       "COMMERCIAL UNITS                      7.591956e+01\n",
       "TOTAL UNITS                           3.599590e+02\n",
       "YEAR BUILT                            2.887396e+05\n",
       "TAX CLASS AT TIME OF SALE             6.713200e-01\n",
       "BUILDING CLASS AT PRESENT_new         2.626808e+03\n",
       "NEIGHBORHOOD_new                      5.622463e+03\n",
       "BUILDING CLASS CATEGORY_new           8.141408e+01\n",
       "TAX CLASS AT PRESENT_new              7.660266e+00\n",
       "ADDRESS_new                           3.748610e+08\n",
       "BUILDING CLASS AT TIME OF SALE_new    2.656259e+03\n",
       "dtype: float64"
      ]
     },
     "execution_count": 98,
     "metadata": {},
     "output_type": "execute_result"
    }
   ],
   "source": [
    "# 2. Implement/try-to-use statistical method here ..\n",
    "varians"
   ]
  },
  {
   "cell_type": "markdown",
   "metadata": {},
   "source": [
    "**Conclusion:**\n",
    "    1. Berdasarkan hasil di atas menunjukkan bahwa variance tertinggi diperoleh dari kolom BUILDING CLASS CATEGORY_new dengan nilai variance sebesar 8.141408e+01.as_integer_ratio."
   ]
  },
  {
   "cell_type": "markdown",
   "metadata": {},
   "source": [
    "---\n",
    "# F. Measure of Spread: Standard Deviation"
   ]
  },
  {
   "cell_type": "markdown",
   "metadata": {},
   "source": [
    "**Question**  // *Deskripsi dari informasi apa yang ingin dicari/dihitung di step 2*"
   ]
  },
  {
   "cell_type": "markdown",
   "metadata": {},
   "source": [
    "1. Berapa nilai standar deviasi atau simpangan baku terendah dari dataset NYC Rolling Sales?"
   ]
  },
  {
   "cell_type": "markdown",
   "metadata": {},
   "source": [
    "**Pre-processing if needed** // *Student melakukan preproses dataset sebelum melakukan Proses Statistik*"
   ]
  },
  {
   "cell_type": "code",
   "execution_count": 99,
   "metadata": {},
   "outputs": [],
   "source": [
    "# 1. pre-processing if needed\n",
    "# menggunakan librrary Statistics\n",
    "st_dev = dt_nyc.std()"
   ]
  },
  {
   "cell_type": "markdown",
   "metadata": {},
   "source": [
    "**Implement statistical method** // *Mengimplementaskan Mean dari kolom/data spesifik menggunakan Pandas, NumPy, atau Scipy*"
   ]
  },
  {
   "cell_type": "code",
   "execution_count": 100,
   "metadata": {
    "scrolled": true
   },
   "outputs": [
    {
     "data": {
      "text/plain": [
       "BOROUGH                                   1.289790\n",
       "BLOCK                                  3568.263407\n",
       "LOT                                     658.136814\n",
       "RESIDENTIAL UNITS                        16.721037\n",
       "COMMERCIAL UNITS                          8.713183\n",
       "TOTAL UNITS                              18.972584\n",
       "YEAR BUILT                              537.344993\n",
       "TAX CLASS AT TIME OF SALE                 0.819341\n",
       "BUILDING CLASS AT PRESENT_new            51.252398\n",
       "NEIGHBORHOOD_new                         74.983088\n",
       "BUILDING CLASS CATEGORY_new               9.022975\n",
       "TAX CLASS AT PRESENT_new                  2.767719\n",
       "ADDRESS_new                           19361.328170\n",
       "BUILDING CLASS AT TIME OF SALE_new       51.538907\n",
       "dtype: float64"
      ]
     },
     "execution_count": 100,
     "metadata": {},
     "output_type": "execute_result"
    }
   ],
   "source": [
    "# 2. Implement/try-to-use statistical method here ..\n",
    "st_dev"
   ]
  },
  {
   "cell_type": "markdown",
   "metadata": {},
   "source": [
    "**Conclusion:**\n",
    "    1. Berdasarkan hasil di atas menunjukkan bahwa nilai standar deviasi terendah diperoleh kolom TAX CLASS AT TIME OF SALE dengan nilai standar deviasi sebesar 0.819341. "
   ]
  },
  {
   "cell_type": "markdown",
   "metadata": {},
   "source": [
    "---\n",
    "# G. Probability Distribution"
   ]
  },
  {
   "cell_type": "markdown",
   "metadata": {},
   "source": [
    "**Question**  // *Deskripsi dari informasi apa yang ingin dicari*"
   ]
  },
  {
   "cell_type": "markdown",
   "metadata": {},
   "source": [
    "1.  Bagaimana distribusi probabilitas dari suatu dataset NYC Rolling Sales berdasarkan kolom BLOCK?"
   ]
  },
  {
   "cell_type": "markdown",
   "metadata": {},
   "source": [
    "**Pre-processing if needed** // *Student melakukan preproses dataset sebelum menerapkan visualisasi*"
   ]
  },
  {
   "cell_type": "code",
   "execution_count": 101,
   "metadata": {},
   "outputs": [],
   "source": [
    "# 1. pre-processing if needed\n",
    "# import seaborn\n",
    "import seaborn as sns\n",
    "# settings for seaborn plotting style\n",
    "sns.set(color_codes=True)\n",
    "# settings for seaborn plot sizes\n",
    "sns.set(rc={'figure.figsize':(5,5)})"
   ]
  },
  {
   "cell_type": "code",
   "execution_count": 102,
   "metadata": {},
   "outputs": [],
   "source": [
    "# for inline plots in jupyter\n",
    "%matplotlib inline\n",
    "# import matplotlib\n",
    "import matplotlib.pyplot as plt\n",
    "# for latex equations\n",
    "from IPython.display import Math, Latex\n",
    "# for displaying images\n",
    "from IPython.core.display import Image"
   ]
  },
  {
   "cell_type": "markdown",
   "metadata": {},
   "source": [
    "**Create data visualization** // *Mengimplementasikan area plot menggunakan matplotlib dengan data yang relevan dan sesuai dengan kegunaan plot/grafik*"
   ]
  },
  {
   "cell_type": "code",
   "execution_count": 105,
   "metadata": {
    "scrolled": true
   },
   "outputs": [
    {
     "data": {
      "text/plain": [
       "<matplotlib.axes._subplots.AxesSubplot at 0x21ddae231f0>"
      ]
     },
     "execution_count": 105,
     "metadata": {},
     "output_type": "execute_result"
    },
    {
     "data": {
      "image/png": "[encoded data removed]",
      "text/plain": [
       "<Figure size 432x288 with 1 Axes>"
      ]
     },
     "metadata": {
      "needs_background": "light"
     },
     "output_type": "display_data"
    }
   ],
   "source": [
    "# 2. Implement/try-to-use statistical method here ..\n",
    "sns.distplot(dt_nyc['BLOCK'],\n",
    "            color='#FF7F00')"
   ]
  },
  {
   "cell_type": "markdown",
   "metadata": {},
   "source": [
    "**Conclusion** // *Menarik informasi/kesimpulan berdasarkan area plot yang telah student buat*"
   ]
  },
  {
   "cell_type": "markdown",
   "metadata": {},
   "source": [
    "1. Dari gambar di atas ditampilkan bahwasanya kurva distribusi probabilitas jarak nilai maksimal dan nilai nimimalnya sangat rentan jauh. Dan kondisi peluang  tersebut semakin banyak block semakin rendah hingga mencapai nilai 0. "
   ]
  },
  {
   "cell_type": "markdown",
   "metadata": {},
   "source": [
    "---\n",
    "# H. Confidence Intervals"
   ]
  },
  {
   "cell_type": "markdown",
   "metadata": {},
   "source": [
    "**Pre-processing if needed** // *Student melakukan preproses dataset sebelum menerapkan visualisasi*"
   ]
  },
  {
   "cell_type": "code",
   "execution_count": 106,
   "metadata": {},
   "outputs": [],
   "source": [
    "# 1. pre-processing if needed\n",
    "import pandas as pd\n",
    "import seaborn as sns\n",
    "import scipy.stats as stats\n",
    "import numpy as np\n",
    "import random\n",
    "import warnings\n",
    "import matplotlib.pyplot as plt\n",
    "%matplotlib inline"
   ]
  },
  {
   "cell_type": "markdown",
   "metadata": {},
   "source": [
    "**Create data visualization** // *Mengimplementasikan area plot menggunakan matplotlib dengan data yang relevan dan sesuai dengan kegunaan plot/grafik*"
   ]
  },
  {
   "cell_type": "code",
   "execution_count": 107,
   "metadata": {
    "scrolled": false
   },
   "outputs": [
    {
     "data": {
      "text/plain": [
       "<matplotlib.axes._subplots.AxesSubplot at 0x21ddaed2fa0>"
      ]
     },
     "execution_count": 107,
     "metadata": {},
     "output_type": "execute_result"
    },
    {
     "data": {
      "image/png": "[encoded data removed]",
      "text/plain": [
       "<Figure size 432x288 with 1 Axes>"
      ]
     },
     "metadata": {
      "needs_background": "light"
     },
     "output_type": "display_data"
    }
   ],
   "source": [
    "# 2. Implement/try-to-use statistical method here ..\n",
    "# Melihat confidence interval berdasarkan BUILDING CLASS AT TIME OF SALE_new\n",
    "sns.distplot(dt_nyc['BUILDING CLASS AT TIME OF SALE_new'],\n",
    "            color='#808000')"
   ]
  },
  {
   "cell_type": "code",
   "execution_count": 108,
   "metadata": {},
   "outputs": [],
   "source": [
    "CI = dt_nyc['BUILDING CLASS AT TIME OF SALE_new'].groupby(dt_nyc['BUILDING CLASS AT TIME OF SALE_new']).value_counts()"
   ]
  },
  {
   "cell_type": "code",
   "execution_count": 111,
   "metadata": {},
   "outputs": [
    {
     "data": {
      "text/plain": [
       "[Text(0, 0.5, 'Density'), Text(0.5, 0, 'BUILDING CLASS AT TIME OF SALE_new')]"
      ]
     },
     "execution_count": 111,
     "metadata": {},
     "output_type": "execute_result"
    },
    {
     "data": {
      "image/png": "[encoded data removed]",
      "text/plain": [
       "<Figure size 432x288 with 1 Axes>"
      ]
     },
     "metadata": {
      "needs_background": "light"
     },
     "output_type": "display_data"
    }
   ],
   "source": [
    "ax = sns.distplot(CI,\n",
    "                  bins=5,\n",
    "                  kde=True,\n",
    "                  color='#8F00FF',\n",
    "                  hist_kws={\"linewidth\": 15,'alpha':1})\n",
    "ax.set(xlabel='BUILDING CLASS AT TIME OF SALE_new', ylabel='Density')"
   ]
  },
  {
   "cell_type": "code",
   "execution_count": 112,
   "metadata": {},
   "outputs": [
    {
     "data": {
      "text/plain": [
       "47.65710602261437"
      ]
     },
     "execution_count": 112,
     "metadata": {},
     "output_type": "execute_result"
    }
   ],
   "source": [
    "# analisis distribusi statistik berdasarkan data di atas\n",
    "# Calculation Population Mean\n",
    "pop_mean = dt_nyc['BUILDING CLASS AT TIME OF SALE_new'].mean()\n",
    "pop_mean"
   ]
  },
  {
   "cell_type": "code",
   "execution_count": 113,
   "metadata": {},
   "outputs": [
    {
     "data": {
      "text/plain": [
       "51.53890677096752"
      ]
     },
     "execution_count": 113,
     "metadata": {},
     "output_type": "execute_result"
    }
   ],
   "source": [
    "# Calculate Population Standard Deviation\n",
    "pop_std_dev= dt_nyc['BUILDING CLASS AT TIME OF SALE_new'].std()\n",
    "pop_std_dev"
   ]
  },
  {
   "cell_type": "code",
   "execution_count": 114,
   "metadata": {},
   "outputs": [],
   "source": [
    "sample_means = []\n",
    "n = 25\n",
    "for sample in range(0, 300):\n",
    "    # random sampling done with replacement\n",
    "    sample_values = np.random.choice(a=dt_nyc['BUILDING CLASS AT TIME OF SALE_new'], size=n)    \n",
    "    sample_mean = np.mean(sample_values)\n",
    "    sample_means.append(sample_mean)"
   ]
  },
  {
   "cell_type": "code",
   "execution_count": 115,
   "metadata": {},
   "outputs": [
    {
     "data": {
      "image/png": "[encoded data removed]",
      "text/plain": [
       "<Figure size 432x288 with 1 Axes>"
      ]
     },
     "metadata": {
      "needs_background": "light"
     },
     "output_type": "display_data"
    }
   ],
   "source": [
    "# View Distribution of Sample Means (Otherwise Called Sampling Distribution)\n",
    "sns.distplot(sample_means)\n",
    "plt.title(\"Distribution of Sample Means ($n=25$) of BUILDING CLASS AT TIME OF SALE_new\", y=1.015, fontsize=10)\n",
    "plt.xlabel(\"sample mean [pounds]\", labelpad=14)\n",
    "plt.ylabel(\"frequency of occurence\", labelpad=14);"
   ]
  },
  {
   "cell_type": "markdown",
   "metadata": {},
   "source": [
    "## Kalkulasi Sample Distribusi (n=25)"
   ]
  },
  {
   "cell_type": "code",
   "execution_count": 116,
   "metadata": {},
   "outputs": [
    {
     "data": {
      "text/plain": [
       "48.49933333333333"
      ]
     },
     "execution_count": 116,
     "metadata": {},
     "output_type": "execute_result"
    }
   ],
   "source": [
    "# Calculate Mean of Sample Means\n",
    "mean_of_sample_means = np.mean(sample_means)\n",
    "mean_of_sample_means"
   ]
  },
  {
   "cell_type": "code",
   "execution_count": 117,
   "metadata": {},
   "outputs": [
    {
     "data": {
      "text/plain": [
       "47.34"
      ]
     },
     "execution_count": 117,
     "metadata": {},
     "output_type": "execute_result"
    }
   ],
   "source": [
    "# Calculate Median of Sample Means\n",
    "median_of_sample_means = np.median(sample_means)\n",
    "median_of_sample_means"
   ]
  },
  {
   "cell_type": "code",
   "execution_count": 118,
   "metadata": {
    "scrolled": true
   },
   "outputs": [
    {
     "data": {
      "text/plain": [
       "119.55314622222222"
      ]
     },
     "execution_count": 118,
     "metadata": {},
     "output_type": "execute_result"
    }
   ],
   "source": [
    "# Calculate Varians of Sample Means\n",
    "var_of_sample_means = np.var(sample_means)\n",
    "var_of_sample_means"
   ]
  },
  {
   "cell_type": "code",
   "execution_count": 119,
   "metadata": {},
   "outputs": [
    {
     "data": {
      "text/plain": [
       "10.934036135948254"
      ]
     },
     "execution_count": 119,
     "metadata": {},
     "output_type": "execute_result"
    }
   ],
   "source": [
    "# Calculate Standard Deviation of Sample Means\n",
    "std_dev_of_sample_means = np.std(sample_means)\n",
    "std_dev_of_sample_means"
   ]
  },
  {
   "cell_type": "code",
   "execution_count": 120,
   "metadata": {},
   "outputs": [
    {
     "data": {
      "text/plain": [
       "10.307781354193505"
      ]
     },
     "execution_count": 120,
     "metadata": {},
     "output_type": "execute_result"
    }
   ],
   "source": [
    "# Calculate Standard Error\n",
    "standard_error = pop_std_dev/np.sqrt(n)\n",
    "standard_error"
   ]
  },
  {
   "cell_type": "code",
   "execution_count": 121,
   "metadata": {},
   "outputs": [
    {
     "data": {
      "text/plain": [
       "0.024997895148220484"
      ]
     },
     "execution_count": 121,
     "metadata": {},
     "output_type": "execute_result"
    }
   ],
   "source": [
    "# Calculate Critical Z-Scores\n",
    "tail = 1 - stats.norm.cdf(1.96)\n",
    "tail"
   ]
  },
  {
   "cell_type": "code",
   "execution_count": 122,
   "metadata": {},
   "outputs": [
    {
     "data": {
      "text/plain": [
       "0.950004209703559"
      ]
     },
     "execution_count": 122,
     "metadata": {},
     "output_type": "execute_result"
    }
   ],
   "source": [
    "# The area under the curve between the z-critcal scores is approximately 0.95\n",
    "1 - (tail * 2)"
   ]
  },
  {
   "cell_type": "code",
   "execution_count": 123,
   "metadata": {},
   "outputs": [
    {
     "data": {
      "text/plain": [
       "28.296081879114062"
      ]
     },
     "execution_count": 123,
     "metadata": {},
     "output_type": "execute_result"
    }
   ],
   "source": [
    "lower_95_perc_bound = mean_of_sample_means - 1.96*standard_error\n",
    "lower_95_perc_bound"
   ]
  },
  {
   "cell_type": "code",
   "execution_count": 124,
   "metadata": {},
   "outputs": [
    {
     "data": {
      "text/plain": [
       "68.70258478755261"
      ]
     },
     "execution_count": 124,
     "metadata": {},
     "output_type": "execute_result"
    }
   ],
   "source": [
    "upper_95_perc_bound = mean_of_sample_means + 1.96*standard_error\n",
    "upper_95_perc_bound"
   ]
  },
  {
   "cell_type": "code",
   "execution_count": 125,
   "metadata": {
    "scrolled": true
   },
   "outputs": [
    {
     "data": {
      "image/png": "[encoded data removed]",
      "text/plain": [
       "<Figure size 432x288 with 1 Axes>"
      ]
     },
     "metadata": {
      "needs_background": "light"
     },
     "output_type": "display_data"
    }
   ],
   "source": [
    "kde = stats.gaussian_kde(sample_means)\n",
    "pos = np.linspace(np.min(sample_means), np.max(sample_means), 1000)\n",
    "plt.plot(pos, kde(pos), color='teal')\n",
    "shade = np.linspace(lower_95_perc_bound, upper_95_perc_bound, 500)\n",
    "plt.fill_between(shade, kde(shade), alpha=0.45, color='blue',)\n",
    "plt.text(x=154, y=.01, horizontalalignment='center', fontsize=17, \n",
    "         s=\"95% of sample means fall within\\nthis shaded area of plus or minus\\n1.96 z-scores from the mean\", \n",
    "         bbox=dict(facecolor='whitesmoke', boxstyle=\"round, pad=5\"))\n",
    "plt.title(\"Distribution of Sample Means ($n=25$) of BUILDING CLASS AT TIME OF SALE_new\", y=1.015, fontsize=10)\n",
    "plt.xlabel(\"sample mean mass [BUILDING CLASS AT TIME OF SALE_new]\", labelpad=14)\n",
    "plt.ylabel(\"frequency of occurence\", labelpad=14);"
   ]
  },
  {
   "cell_type": "markdown",
   "metadata": {},
   "source": [
    "# I. Hypothesis Testing"
   ]
  },
  {
   "cell_type": "markdown",
   "metadata": {},
   "source": [
    "**Question**  // *Deskripsi dari informasi apa yang ingin dicari*\n",
    "\n",
    "Apakah terdapat perbedaan unit yang terjual berdasarkan kategori bangunan pada dataset NYC ROlling Sales?\n",
    "\n",
    "- alpha : 0.05\n",
    "> Hipotesis\n",
    "- H0 : Terdapat Perbedaan unit yang terjual berdasarkan kategori bangunan\n",
    "- H1 : Tidak Terdapat Perbedaan unit yang terjual berdasarkan kategori bangunan\n",
    "> Kriteria Uji\n",
    "- Data memiliki korelasi apabila angka korelasi yang dihasilkan =! 0"
   ]
  },
  {
   "cell_type": "markdown",
   "metadata": {},
   "source": [
    "**Pre-processing if needed** // *Student melakukan preproses dataset sebelum menerapkan visualisasi*"
   ]
  },
  {
   "cell_type": "code",
   "execution_count": 126,
   "metadata": {},
   "outputs": [],
   "source": [
    "# 1. pre-processing if needed\n",
    "import statsmodels.api as sm\n",
    "import numpy as np\n",
    "import matplotlib.pyplot as plt\n",
    "import pandas as pd"
   ]
  },
  {
   "cell_type": "code",
   "execution_count": 127,
   "metadata": {
    "scrolled": true
   },
   "outputs": [
    {
     "name": "stdout",
     "output_type": "stream",
     "text": [
      "<class 'pandas.core.frame.DataFrame'>\n",
      "RangeIndex: 84548 entries, 0 to 84547\n",
      "Data columns (total 24 columns):\n",
      " #   Column                              Non-Null Count  Dtype   \n",
      "---  ------                              --------------  -----   \n",
      " 0   BOROUGH                             84548 non-null  int64   \n",
      " 1   NEIGHBORHOOD                        84548 non-null  category\n",
      " 2   BUILDING CLASS CATEGORY             84548 non-null  category\n",
      " 3   TAX CLASS AT PRESENT                84548 non-null  category\n",
      " 4   BLOCK                               84548 non-null  int64   \n",
      " 5   LOT                                 84548 non-null  int64   \n",
      " 6   BUILDING CLASS AT PRESENT           84548 non-null  category\n",
      " 7   ADDRESS                             84548 non-null  category\n",
      " 8   RESIDENTIAL UNITS                   84548 non-null  int64   \n",
      " 9   COMMERCIAL UNITS                    84548 non-null  int64   \n",
      " 10  TOTAL UNITS                         84548 non-null  int64   \n",
      " 11  LAND SQUARE FEET                    84548 non-null  object  \n",
      " 12  GROSS SQUARE FEET                   84548 non-null  object  \n",
      " 13  YEAR BUILT                          84548 non-null  int64   \n",
      " 14  TAX CLASS AT TIME OF SALE           84548 non-null  int64   \n",
      " 15  BUILDING CLASS AT TIME OF SALE      84548 non-null  category\n",
      " 16  SALE PRICE                          84548 non-null  object  \n",
      " 17  SALE DATE                           84548 non-null  object  \n",
      " 18  BUILDING CLASS AT PRESENT_new       84548 non-null  int16   \n",
      " 19  NEIGHBORHOOD_new                    84548 non-null  int16   \n",
      " 20  BUILDING CLASS CATEGORY_new         84548 non-null  int8    \n",
      " 21  TAX CLASS AT PRESENT_new            84548 non-null  int8    \n",
      " 22  ADDRESS_new                         84548 non-null  int32   \n",
      " 23  BUILDING CLASS AT TIME OF SALE_new  84548 non-null  int16   \n",
      "dtypes: category(6), int16(3), int32(1), int64(8), int8(2), object(4)\n",
      "memory usage: 12.7+ MB\n"
     ]
    }
   ],
   "source": [
    "dt_nyc.info()"
   ]
  },
  {
   "cell_type": "code",
   "execution_count": 128,
   "metadata": {},
   "outputs": [
    {
     "data": {
      "text/html": [
       "<div>\n",
       "<style scoped>\n",
       "    .dataframe tbody tr th:only-of-type {\n",
       "        vertical-align: middle;\n",
       "    }\n",
       "\n",
       "    .dataframe tbody tr th {\n",
       "        vertical-align: top;\n",
       "    }\n",
       "\n",
       "    .dataframe thead th {\n",
       "        text-align: right;\n",
       "    }\n",
       "</style>\n",
       "<table border=\"1\" class=\"dataframe\">\n",
       "  <thead>\n",
       "    <tr style=\"text-align: right;\">\n",
       "      <th></th>\n",
       "      <th>BOROUGH</th>\n",
       "      <th>BLOCK</th>\n",
       "      <th>LOT</th>\n",
       "      <th>RESIDENTIAL UNITS</th>\n",
       "      <th>COMMERCIAL UNITS</th>\n",
       "      <th>TOTAL UNITS</th>\n",
       "      <th>YEAR BUILT</th>\n",
       "      <th>TAX CLASS AT TIME OF SALE</th>\n",
       "      <th>BUILDING CLASS AT PRESENT_new</th>\n",
       "      <th>NEIGHBORHOOD_new</th>\n",
       "      <th>BUILDING CLASS CATEGORY_new</th>\n",
       "      <th>TAX CLASS AT PRESENT_new</th>\n",
       "      <th>ADDRESS_new</th>\n",
       "      <th>BUILDING CLASS AT TIME OF SALE_new</th>\n",
       "    </tr>\n",
       "  </thead>\n",
       "  <tbody>\n",
       "    <tr>\n",
       "      <th>BOROUGH</th>\n",
       "      <td>1.000000</td>\n",
       "      <td>0.417001</td>\n",
       "      <td>-0.277848</td>\n",
       "      <td>-0.023229</td>\n",
       "      <td>-0.005503</td>\n",
       "      <td>-0.023346</td>\n",
       "      <td>0.108303</td>\n",
       "      <td>-0.315163</td>\n",
       "      <td>-0.303971</td>\n",
       "      <td>-0.144981</td>\n",
       "      <td>-0.317936</td>\n",
       "      <td>-0.361609</td>\n",
       "      <td>0.040622</td>\n",
       "      <td>-0.311548</td>\n",
       "    </tr>\n",
       "    <tr>\n",
       "      <th>BLOCK</th>\n",
       "      <td>0.417001</td>\n",
       "      <td>1.000000</td>\n",
       "      <td>-0.229118</td>\n",
       "      <td>-0.015628</td>\n",
       "      <td>-0.003517</td>\n",
       "      <td>-0.015888</td>\n",
       "      <td>0.071262</td>\n",
       "      <td>-0.287300</td>\n",
       "      <td>-0.296627</td>\n",
       "      <td>-0.015612</td>\n",
       "      <td>-0.292885</td>\n",
       "      <td>-0.336206</td>\n",
       "      <td>-0.121320</td>\n",
       "      <td>-0.300279</td>\n",
       "    </tr>\n",
       "    <tr>\n",
       "      <th>LOT</th>\n",
       "      <td>-0.277848</td>\n",
       "      <td>-0.229118</td>\n",
       "      <td>1.000000</td>\n",
       "      <td>-0.034303</td>\n",
       "      <td>-0.010953</td>\n",
       "      <td>-0.033169</td>\n",
       "      <td>-0.289463</td>\n",
       "      <td>0.296680</td>\n",
       "      <td>0.657077</td>\n",
       "      <td>0.064599</td>\n",
       "      <td>0.450135</td>\n",
       "      <td>0.319449</td>\n",
       "      <td>-0.041106</td>\n",
       "      <td>0.681074</td>\n",
       "    </tr>\n",
       "    <tr>\n",
       "      <th>RESIDENTIAL UNITS</th>\n",
       "      <td>-0.023229</td>\n",
       "      <td>-0.015628</td>\n",
       "      <td>-0.034303</td>\n",
       "      <td>1.000000</td>\n",
       "      <td>0.015653</td>\n",
       "      <td>0.888309</td>\n",
       "      <td>0.025380</td>\n",
       "      <td>-0.001074</td>\n",
       "      <td>-0.033562</td>\n",
       "      <td>-0.008771</td>\n",
       "      <td>-0.024709</td>\n",
       "      <td>0.009022</td>\n",
       "      <td>0.003751</td>\n",
       "      <td>-0.035447</td>\n",
       "    </tr>\n",
       "    <tr>\n",
       "      <th>COMMERCIAL UNITS</th>\n",
       "      <td>-0.005503</td>\n",
       "      <td>-0.003517</td>\n",
       "      <td>-0.010953</td>\n",
       "      <td>0.015653</td>\n",
       "      <td>1.000000</td>\n",
       "      <td>0.472998</td>\n",
       "      <td>0.006428</td>\n",
       "      <td>0.049586</td>\n",
       "      <td>0.019020</td>\n",
       "      <td>-0.003299</td>\n",
       "      <td>0.030697</td>\n",
       "      <td>0.041650</td>\n",
       "      <td>0.003258</td>\n",
       "      <td>0.019494</td>\n",
       "    </tr>\n",
       "    <tr>\n",
       "      <th>TOTAL UNITS</th>\n",
       "      <td>-0.023346</td>\n",
       "      <td>-0.015888</td>\n",
       "      <td>-0.033169</td>\n",
       "      <td>0.888309</td>\n",
       "      <td>0.472998</td>\n",
       "      <td>1.000000</td>\n",
       "      <td>0.024568</td>\n",
       "      <td>0.026429</td>\n",
       "      <td>-0.018224</td>\n",
       "      <td>-0.009389</td>\n",
       "      <td>-0.001565</td>\n",
       "      <td>0.030853</td>\n",
       "      <td>0.004766</td>\n",
       "      <td>-0.019723</td>\n",
       "    </tr>\n",
       "    <tr>\n",
       "      <th>YEAR BUILT</th>\n",
       "      <td>0.108303</td>\n",
       "      <td>0.071262</td>\n",
       "      <td>-0.289463</td>\n",
       "      <td>0.025380</td>\n",
       "      <td>0.006428</td>\n",
       "      <td>0.024568</td>\n",
       "      <td>1.000000</td>\n",
       "      <td>-0.187609</td>\n",
       "      <td>-0.359724</td>\n",
       "      <td>-0.034196</td>\n",
       "      <td>-0.258683</td>\n",
       "      <td>-0.152360</td>\n",
       "      <td>-0.034959</td>\n",
       "      <td>-0.425983</td>\n",
       "    </tr>\n",
       "    <tr>\n",
       "      <th>TAX CLASS AT TIME OF SALE</th>\n",
       "      <td>-0.315163</td>\n",
       "      <td>-0.287300</td>\n",
       "      <td>0.296680</td>\n",
       "      <td>-0.001074</td>\n",
       "      <td>0.049586</td>\n",
       "      <td>0.026429</td>\n",
       "      <td>-0.187609</td>\n",
       "      <td>1.000000</td>\n",
       "      <td>0.510355</td>\n",
       "      <td>0.036727</td>\n",
       "      <td>0.935198</td>\n",
       "      <td>0.932756</td>\n",
       "      <td>0.009978</td>\n",
       "      <td>0.525264</td>\n",
       "    </tr>\n",
       "    <tr>\n",
       "      <th>BUILDING CLASS AT PRESENT_new</th>\n",
       "      <td>-0.303971</td>\n",
       "      <td>-0.296627</td>\n",
       "      <td>0.657077</td>\n",
       "      <td>-0.033562</td>\n",
       "      <td>0.019020</td>\n",
       "      <td>-0.018224</td>\n",
       "      <td>-0.359724</td>\n",
       "      <td>0.510355</td>\n",
       "      <td>1.000000</td>\n",
       "      <td>0.022864</td>\n",
       "      <td>0.644088</td>\n",
       "      <td>0.586269</td>\n",
       "      <td>0.022476</td>\n",
       "      <td>0.973161</td>\n",
       "    </tr>\n",
       "    <tr>\n",
       "      <th>NEIGHBORHOOD_new</th>\n",
       "      <td>-0.144981</td>\n",
       "      <td>-0.015612</td>\n",
       "      <td>0.064599</td>\n",
       "      <td>-0.008771</td>\n",
       "      <td>-0.003299</td>\n",
       "      <td>-0.009389</td>\n",
       "      <td>-0.034196</td>\n",
       "      <td>0.036727</td>\n",
       "      <td>0.022864</td>\n",
       "      <td>1.000000</td>\n",
       "      <td>0.034504</td>\n",
       "      <td>0.040401</td>\n",
       "      <td>-0.037837</td>\n",
       "      <td>0.023519</td>\n",
       "    </tr>\n",
       "    <tr>\n",
       "      <th>BUILDING CLASS CATEGORY_new</th>\n",
       "      <td>-0.317936</td>\n",
       "      <td>-0.292885</td>\n",
       "      <td>0.450135</td>\n",
       "      <td>-0.024709</td>\n",
       "      <td>0.030697</td>\n",
       "      <td>-0.001565</td>\n",
       "      <td>-0.258683</td>\n",
       "      <td>0.935198</td>\n",
       "      <td>0.644088</td>\n",
       "      <td>0.034504</td>\n",
       "      <td>1.000000</td>\n",
       "      <td>0.863094</td>\n",
       "      <td>0.005826</td>\n",
       "      <td>0.666040</td>\n",
       "    </tr>\n",
       "    <tr>\n",
       "      <th>TAX CLASS AT PRESENT_new</th>\n",
       "      <td>-0.361609</td>\n",
       "      <td>-0.336206</td>\n",
       "      <td>0.319449</td>\n",
       "      <td>0.009022</td>\n",
       "      <td>0.041650</td>\n",
       "      <td>0.030853</td>\n",
       "      <td>-0.152360</td>\n",
       "      <td>0.932756</td>\n",
       "      <td>0.586269</td>\n",
       "      <td>0.040401</td>\n",
       "      <td>0.863094</td>\n",
       "      <td>1.000000</td>\n",
       "      <td>0.021864</td>\n",
       "      <td>0.556027</td>\n",
       "    </tr>\n",
       "    <tr>\n",
       "      <th>ADDRESS_new</th>\n",
       "      <td>0.040622</td>\n",
       "      <td>-0.121320</td>\n",
       "      <td>-0.041106</td>\n",
       "      <td>0.003751</td>\n",
       "      <td>0.003258</td>\n",
       "      <td>0.004766</td>\n",
       "      <td>-0.034959</td>\n",
       "      <td>0.009978</td>\n",
       "      <td>0.022476</td>\n",
       "      <td>-0.037837</td>\n",
       "      <td>0.005826</td>\n",
       "      <td>0.021864</td>\n",
       "      <td>1.000000</td>\n",
       "      <td>0.018563</td>\n",
       "    </tr>\n",
       "    <tr>\n",
       "      <th>BUILDING CLASS AT TIME OF SALE_new</th>\n",
       "      <td>-0.311548</td>\n",
       "      <td>-0.300279</td>\n",
       "      <td>0.681074</td>\n",
       "      <td>-0.035447</td>\n",
       "      <td>0.019494</td>\n",
       "      <td>-0.019723</td>\n",
       "      <td>-0.425983</td>\n",
       "      <td>0.525264</td>\n",
       "      <td>0.973161</td>\n",
       "      <td>0.023519</td>\n",
       "      <td>0.666040</td>\n",
       "      <td>0.556027</td>\n",
       "      <td>0.018563</td>\n",
       "      <td>1.000000</td>\n",
       "    </tr>\n",
       "  </tbody>\n",
       "</table>\n",
       "</div>"
      ],
      "text/plain": [
       "                                     BOROUGH     BLOCK       LOT  \\\n",
       "BOROUGH                             1.000000  0.417001 -0.277848   \n",
       "BLOCK                               0.417001  1.000000 -0.229118   \n",
       "LOT                                -0.277848 -0.229118  1.000000   \n",
       "RESIDENTIAL UNITS                  -0.023229 -0.015628 -0.034303   \n",
       "COMMERCIAL UNITS                   -0.005503 -0.003517 -0.010953   \n",
       "TOTAL UNITS                        -0.023346 -0.015888 -0.033169   \n",
       "YEAR BUILT                          0.108303  0.071262 -0.289463   \n",
       "TAX CLASS AT TIME OF SALE          -0.315163 -0.287300  0.296680   \n",
       "BUILDING CLASS AT PRESENT_new      -0.303971 -0.296627  0.657077   \n",
       "NEIGHBORHOOD_new                   -0.144981 -0.015612  0.064599   \n",
       "BUILDING CLASS CATEGORY_new        -0.317936 -0.292885  0.450135   \n",
       "TAX CLASS AT PRESENT_new           -0.361609 -0.336206  0.319449   \n",
       "ADDRESS_new                         0.040622 -0.121320 -0.041106   \n",
       "BUILDING CLASS AT TIME OF SALE_new -0.311548 -0.300279  0.681074   \n",
       "\n",
       "                                    RESIDENTIAL UNITS  COMMERCIAL UNITS  \\\n",
       "BOROUGH                                     -0.023229         -0.005503   \n",
       "BLOCK                                       -0.015628         -0.003517   \n",
       "LOT                                         -0.034303         -0.010953   \n",
       "RESIDENTIAL UNITS                            1.000000          0.015653   \n",
       "COMMERCIAL UNITS                             0.015653          1.000000   \n",
       "TOTAL UNITS                                  0.888309          0.472998   \n",
       "YEAR BUILT                                   0.025380          0.006428   \n",
       "TAX CLASS AT TIME OF SALE                   -0.001074          0.049586   \n",
       "BUILDING CLASS AT PRESENT_new               -0.033562          0.019020   \n",
       "NEIGHBORHOOD_new                            -0.008771         -0.003299   \n",
       "BUILDING CLASS CATEGORY_new                 -0.024709          0.030697   \n",
       "TAX CLASS AT PRESENT_new                     0.009022          0.041650   \n",
       "ADDRESS_new                                  0.003751          0.003258   \n",
       "BUILDING CLASS AT TIME OF SALE_new          -0.035447          0.019494   \n",
       "\n",
       "                                    TOTAL UNITS  YEAR BUILT  \\\n",
       "BOROUGH                               -0.023346    0.108303   \n",
       "BLOCK                                 -0.015888    0.071262   \n",
       "LOT                                   -0.033169   -0.289463   \n",
       "RESIDENTIAL UNITS                      0.888309    0.025380   \n",
       "COMMERCIAL UNITS                       0.472998    0.006428   \n",
       "TOTAL UNITS                            1.000000    0.024568   \n",
       "YEAR BUILT                             0.024568    1.000000   \n",
       "TAX CLASS AT TIME OF SALE              0.026429   -0.187609   \n",
       "BUILDING CLASS AT PRESENT_new         -0.018224   -0.359724   \n",
       "NEIGHBORHOOD_new                      -0.009389   -0.034196   \n",
       "BUILDING CLASS CATEGORY_new           -0.001565   -0.258683   \n",
       "TAX CLASS AT PRESENT_new               0.030853   -0.152360   \n",
       "ADDRESS_new                            0.004766   -0.034959   \n",
       "BUILDING CLASS AT TIME OF SALE_new    -0.019723   -0.425983   \n",
       "\n",
       "                                    TAX CLASS AT TIME OF SALE  \\\n",
       "BOROUGH                                             -0.315163   \n",
       "BLOCK                                               -0.287300   \n",
       "LOT                                                  0.296680   \n",
       "RESIDENTIAL UNITS                                   -0.001074   \n",
       "COMMERCIAL UNITS                                     0.049586   \n",
       "TOTAL UNITS                                          0.026429   \n",
       "YEAR BUILT                                          -0.187609   \n",
       "TAX CLASS AT TIME OF SALE                            1.000000   \n",
       "BUILDING CLASS AT PRESENT_new                        0.510355   \n",
       "NEIGHBORHOOD_new                                     0.036727   \n",
       "BUILDING CLASS CATEGORY_new                          0.935198   \n",
       "TAX CLASS AT PRESENT_new                             0.932756   \n",
       "ADDRESS_new                                          0.009978   \n",
       "BUILDING CLASS AT TIME OF SALE_new                   0.525264   \n",
       "\n",
       "                                    BUILDING CLASS AT PRESENT_new  \\\n",
       "BOROUGH                                                 -0.303971   \n",
       "BLOCK                                                   -0.296627   \n",
       "LOT                                                      0.657077   \n",
       "RESIDENTIAL UNITS                                       -0.033562   \n",
       "COMMERCIAL UNITS                                         0.019020   \n",
       "TOTAL UNITS                                             -0.018224   \n",
       "YEAR BUILT                                              -0.359724   \n",
       "TAX CLASS AT TIME OF SALE                                0.510355   \n",
       "BUILDING CLASS AT PRESENT_new                            1.000000   \n",
       "NEIGHBORHOOD_new                                         0.022864   \n",
       "BUILDING CLASS CATEGORY_new                              0.644088   \n",
       "TAX CLASS AT PRESENT_new                                 0.586269   \n",
       "ADDRESS_new                                              0.022476   \n",
       "BUILDING CLASS AT TIME OF SALE_new                       0.973161   \n",
       "\n",
       "                                    NEIGHBORHOOD_new  \\\n",
       "BOROUGH                                    -0.144981   \n",
       "BLOCK                                      -0.015612   \n",
       "LOT                                         0.064599   \n",
       "RESIDENTIAL UNITS                          -0.008771   \n",
       "COMMERCIAL UNITS                           -0.003299   \n",
       "TOTAL UNITS                                -0.009389   \n",
       "YEAR BUILT                                 -0.034196   \n",
       "TAX CLASS AT TIME OF SALE                   0.036727   \n",
       "BUILDING CLASS AT PRESENT_new               0.022864   \n",
       "NEIGHBORHOOD_new                            1.000000   \n",
       "BUILDING CLASS CATEGORY_new                 0.034504   \n",
       "TAX CLASS AT PRESENT_new                    0.040401   \n",
       "ADDRESS_new                                -0.037837   \n",
       "BUILDING CLASS AT TIME OF SALE_new          0.023519   \n",
       "\n",
       "                                    BUILDING CLASS CATEGORY_new  \\\n",
       "BOROUGH                                               -0.317936   \n",
       "BLOCK                                                 -0.292885   \n",
       "LOT                                                    0.450135   \n",
       "RESIDENTIAL UNITS                                     -0.024709   \n",
       "COMMERCIAL UNITS                                       0.030697   \n",
       "TOTAL UNITS                                           -0.001565   \n",
       "YEAR BUILT                                            -0.258683   \n",
       "TAX CLASS AT TIME OF SALE                              0.935198   \n",
       "BUILDING CLASS AT PRESENT_new                          0.644088   \n",
       "NEIGHBORHOOD_new                                       0.034504   \n",
       "BUILDING CLASS CATEGORY_new                            1.000000   \n",
       "TAX CLASS AT PRESENT_new                               0.863094   \n",
       "ADDRESS_new                                            0.005826   \n",
       "BUILDING CLASS AT TIME OF SALE_new                     0.666040   \n",
       "\n",
       "                                    TAX CLASS AT PRESENT_new  ADDRESS_new  \\\n",
       "BOROUGH                                            -0.361609     0.040622   \n",
       "BLOCK                                              -0.336206    -0.121320   \n",
       "LOT                                                 0.319449    -0.041106   \n",
       "RESIDENTIAL UNITS                                   0.009022     0.003751   \n",
       "COMMERCIAL UNITS                                    0.041650     0.003258   \n",
       "TOTAL UNITS                                         0.030853     0.004766   \n",
       "YEAR BUILT                                         -0.152360    -0.034959   \n",
       "TAX CLASS AT TIME OF SALE                           0.932756     0.009978   \n",
       "BUILDING CLASS AT PRESENT_new                       0.586269     0.022476   \n",
       "NEIGHBORHOOD_new                                    0.040401    -0.037837   \n",
       "BUILDING CLASS CATEGORY_new                         0.863094     0.005826   \n",
       "TAX CLASS AT PRESENT_new                            1.000000     0.021864   \n",
       "ADDRESS_new                                         0.021864     1.000000   \n",
       "BUILDING CLASS AT TIME OF SALE_new                  0.556027     0.018563   \n",
       "\n",
       "                                    BUILDING CLASS AT TIME OF SALE_new  \n",
       "BOROUGH                                                      -0.311548  \n",
       "BLOCK                                                        -0.300279  \n",
       "LOT                                                           0.681074  \n",
       "RESIDENTIAL UNITS                                            -0.035447  \n",
       "COMMERCIAL UNITS                                              0.019494  \n",
       "TOTAL UNITS                                                  -0.019723  \n",
       "YEAR BUILT                                                   -0.425983  \n",
       "TAX CLASS AT TIME OF SALE                                     0.525264  \n",
       "BUILDING CLASS AT PRESENT_new                                 0.973161  \n",
       "NEIGHBORHOOD_new                                              0.023519  \n",
       "BUILDING CLASS CATEGORY_new                                   0.666040  \n",
       "TAX CLASS AT PRESENT_new                                      0.556027  \n",
       "ADDRESS_new                                                   0.018563  \n",
       "BUILDING CLASS AT TIME OF SALE_new                            1.000000  "
      ]
     },
     "execution_count": 128,
     "metadata": {},
     "output_type": "execute_result"
    }
   ],
   "source": [
    "dt_nyc.corr()"
   ]
  },
  {
   "cell_type": "markdown",
   "metadata": {},
   "source": [
    "**Create data visualization** // *Mengimplementasikan area plot menggunakan matplotlib dengan data yang relevan dan sesuai dengan kegunaan plot/grafik*"
   ]
  },
  {
   "cell_type": "code",
   "execution_count": 190,
   "metadata": {
    "scrolled": true
   },
   "outputs": [
    {
     "data": {
      "text/plain": [
       "<matplotlib.axes._subplots.AxesSubplot at 0x21dd9559e80>"
      ]
     },
     "execution_count": 190,
     "metadata": {},
     "output_type": "execute_result"
    },
    {
     "data": {
      "image/png": "[encoded data removed]",
      "text/plain": [
       "<Figure size 432x288 with 1 Axes>"
      ]
     },
     "metadata": {
      "needs_background": "light"
     },
     "output_type": "display_data"
    }
   ],
   "source": [
    "# 2. Implement/try-to-use statistical method here ..\n",
    "# melihat analisis korelasi dataset NYC Rolling Sales antara data BUILDING CLASS CATEGORY dengan TAX CLASS AT PERSENT \n",
    "sns.scatterplot(x=dt_nyc[\"BUILDING CLASS CATEGORY_new\"], \n",
    "                y=dt_nyc[\"TAX CLASS AT PRESENT_new\"])"
   ]
  },
  {
   "cell_type": "markdown",
   "metadata": {},
   "source": [
    "Berdasar analisis scatter plot di atas dikatakan bahwa penyebaran data antara BUILDING CLASS CATEGORY dengan TAX CLASS AT PERSENT berkorelasi positif."
   ]
  },
  {
   "cell_type": "markdown",
   "metadata": {},
   "source": [
    "**Asumsi :**\n",
    "- Data berdistribusi Normal, id\n",
    "\n",
    "- alpha : 0.05\n",
    "\n",
    "**Hipotesis**\n",
    "- H0 : BUILDING CLASS CATEGORY_new dan TAX CLASS AT PRESENT_new independen\n",
    "- H1 : BUILDING CLASS CATEGORY_new dan TAX CLASS AT PRESENT_new dependen\n",
    "\n",
    "**Kriteria Uji**\n",
    "- Tolak H0 apabila p-value < alpha"
   ]
  },
  {
   "cell_type": "code",
   "execution_count": 191,
   "metadata": {},
   "outputs": [],
   "source": [
    "from scipy.stats import spearmanr"
   ]
  },
  {
   "cell_type": "code",
   "execution_count": 192,
   "metadata": {},
   "outputs": [
    {
     "data": {
      "text/plain": [
       "(0.8554041380404678, 0.0)"
      ]
     },
     "execution_count": 192,
     "metadata": {},
     "output_type": "execute_result"
    }
   ],
   "source": [
    "stat, p = spearmanr(dt_nyc[\"BUILDING CLASS CATEGORY_new\"], dt_nyc[\"TAX CLASS AT PRESENT_new\"])\n",
    "stat, p"
   ]
  },
  {
   "cell_type": "code",
   "execution_count": 193,
   "metadata": {},
   "outputs": [
    {
     "name": "stdout",
     "output_type": "stream",
     "text": [
      "stat=0.855, p=0.000\n",
      "Probably dependent\n"
     ]
    }
   ],
   "source": [
    "print('stat=%.3f, p=%.3f' % (stat, p))\n",
    "if p > 0.05:\n",
    "    print('Probably independent')\n",
    "else:\n",
    "    print('Probably dependent')"
   ]
  },
  {
   "cell_type": "markdown",
   "metadata": {},
   "source": [
    "**Kesimpulan**\n",
    "\n",
    "Berdasarkan hasil perhitungan di atas, didapatkan nilai p-value sebesar 0.00 < alpha = 0.05 yang berarti H0 ditolak atau BUILDING CLASS CATEGORY_new dan TAX CLASS AT PRESENT_new dependen (saling berhubungan).\n",
    "\n",
    "\n",
    "**Akan dilakukan analisis korelasi menggunakan z-test**\n",
    "\n",
    "**Asumsi :**\n",
    "- Data berdistribusi Normal, id\n",
    "\n",
    "- alpha : 0.05\n",
    "\n",
    "**Hipotesis**\n",
    "- H0 : sale price BOROUGH1 > BOROUGH2\n",
    "- H1 : sale price BOROUGH1 < BOROUGH2\n",
    "\n",
    "**Kriteria Uji**\n",
    "- Tolak H0 apabila p-value < alpha\n"
   ]
  },
  {
   "cell_type": "code",
   "execution_count": 197,
   "metadata": {},
   "outputs": [
    {
     "data": {
      "text/html": [
       "<div>\n",
       "<style scoped>\n",
       "    .dataframe tbody tr th:only-of-type {\n",
       "        vertical-align: middle;\n",
       "    }\n",
       "\n",
       "    .dataframe tbody tr th {\n",
       "        vertical-align: top;\n",
       "    }\n",
       "\n",
       "    .dataframe thead th {\n",
       "        text-align: right;\n",
       "    }\n",
       "</style>\n",
       "<table border=\"1\" class=\"dataframe\">\n",
       "  <thead>\n",
       "    <tr style=\"text-align: right;\">\n",
       "      <th></th>\n",
       "      <th>BOROUGH</th>\n",
       "      <th>NEIGHBORHOOD</th>\n",
       "      <th>BUILDING CLASS CATEGORY</th>\n",
       "      <th>TAX CLASS AT PRESENT</th>\n",
       "      <th>BLOCK</th>\n",
       "      <th>LOT</th>\n",
       "      <th>BUILDING CLASS AT PRESENT</th>\n",
       "      <th>ADDRESS</th>\n",
       "      <th>RESIDENTIAL UNITS</th>\n",
       "      <th>COMMERCIAL UNITS</th>\n",
       "      <th>...</th>\n",
       "      <th>TAX CLASS AT TIME OF SALE</th>\n",
       "      <th>BUILDING CLASS AT TIME OF SALE</th>\n",
       "      <th>SALE PRICE</th>\n",
       "      <th>SALE DATE</th>\n",
       "      <th>BUILDING CLASS AT PRESENT_new</th>\n",
       "      <th>NEIGHBORHOOD_new</th>\n",
       "      <th>BUILDING CLASS CATEGORY_new</th>\n",
       "      <th>TAX CLASS AT PRESENT_new</th>\n",
       "      <th>ADDRESS_new</th>\n",
       "      <th>BUILDING CLASS AT TIME OF SALE_new</th>\n",
       "    </tr>\n",
       "  </thead>\n",
       "  <tbody>\n",
       "    <tr>\n",
       "      <th>0</th>\n",
       "      <td>1</td>\n",
       "      <td>ALPHABET CITY</td>\n",
       "      <td>07 RENTALS - WALKUP APARTMENTS</td>\n",
       "      <td>2A</td>\n",
       "      <td>392</td>\n",
       "      <td>6</td>\n",
       "      <td>C2</td>\n",
       "      <td>153 AVENUE B</td>\n",
       "      <td>5</td>\n",
       "      <td>0</td>\n",
       "      <td>...</td>\n",
       "      <td>2</td>\n",
       "      <td>C2</td>\n",
       "      <td>6625000</td>\n",
       "      <td>2017-07-19 00:00:00</td>\n",
       "      <td>16</td>\n",
       "      <td>1</td>\n",
       "      <td>6</td>\n",
       "      <td>6</td>\n",
       "      <td>14889</td>\n",
       "      <td>15</td>\n",
       "    </tr>\n",
       "    <tr>\n",
       "      <th>1</th>\n",
       "      <td>1</td>\n",
       "      <td>ALPHABET CITY</td>\n",
       "      <td>07 RENTALS - WALKUP APARTMENTS</td>\n",
       "      <td>2</td>\n",
       "      <td>399</td>\n",
       "      <td>26</td>\n",
       "      <td>C7</td>\n",
       "      <td>234 EAST 4TH   STREET</td>\n",
       "      <td>28</td>\n",
       "      <td>3</td>\n",
       "      <td>...</td>\n",
       "      <td>2</td>\n",
       "      <td>C7</td>\n",
       "      <td>-</td>\n",
       "      <td>2016-12-14 00:00:00</td>\n",
       "      <td>21</td>\n",
       "      <td>1</td>\n",
       "      <td>6</td>\n",
       "      <td>5</td>\n",
       "      <td>28592</td>\n",
       "      <td>20</td>\n",
       "    </tr>\n",
       "    <tr>\n",
       "      <th>2</th>\n",
       "      <td>1</td>\n",
       "      <td>ALPHABET CITY</td>\n",
       "      <td>07 RENTALS - WALKUP APARTMENTS</td>\n",
       "      <td>2</td>\n",
       "      <td>399</td>\n",
       "      <td>39</td>\n",
       "      <td>C7</td>\n",
       "      <td>197 EAST 3RD   STREET</td>\n",
       "      <td>16</td>\n",
       "      <td>1</td>\n",
       "      <td>...</td>\n",
       "      <td>2</td>\n",
       "      <td>C7</td>\n",
       "      <td>-</td>\n",
       "      <td>2016-12-09 00:00:00</td>\n",
       "      <td>21</td>\n",
       "      <td>1</td>\n",
       "      <td>6</td>\n",
       "      <td>5</td>\n",
       "      <td>22192</td>\n",
       "      <td>20</td>\n",
       "    </tr>\n",
       "    <tr>\n",
       "      <th>3</th>\n",
       "      <td>1</td>\n",
       "      <td>ALPHABET CITY</td>\n",
       "      <td>07 RENTALS - WALKUP APARTMENTS</td>\n",
       "      <td>2B</td>\n",
       "      <td>402</td>\n",
       "      <td>21</td>\n",
       "      <td>C4</td>\n",
       "      <td>154 EAST 7TH STREET</td>\n",
       "      <td>10</td>\n",
       "      <td>0</td>\n",
       "      <td>...</td>\n",
       "      <td>2</td>\n",
       "      <td>C4</td>\n",
       "      <td>3936272</td>\n",
       "      <td>2016-09-23 00:00:00</td>\n",
       "      <td>18</td>\n",
       "      <td>1</td>\n",
       "      <td>6</td>\n",
       "      <td>7</td>\n",
       "      <td>15090</td>\n",
       "      <td>17</td>\n",
       "    </tr>\n",
       "    <tr>\n",
       "      <th>4</th>\n",
       "      <td>1</td>\n",
       "      <td>ALPHABET CITY</td>\n",
       "      <td>07 RENTALS - WALKUP APARTMENTS</td>\n",
       "      <td>2A</td>\n",
       "      <td>404</td>\n",
       "      <td>55</td>\n",
       "      <td>C2</td>\n",
       "      <td>301 EAST 10TH   STREET</td>\n",
       "      <td>6</td>\n",
       "      <td>0</td>\n",
       "      <td>...</td>\n",
       "      <td>2</td>\n",
       "      <td>C2</td>\n",
       "      <td>8000000</td>\n",
       "      <td>2016-11-17 00:00:00</td>\n",
       "      <td>16</td>\n",
       "      <td>1</td>\n",
       "      <td>6</td>\n",
       "      <td>6</td>\n",
       "      <td>35431</td>\n",
       "      <td>15</td>\n",
       "    </tr>\n",
       "  </tbody>\n",
       "</table>\n",
       "<p>5 rows × 24 columns</p>\n",
       "</div>"
      ],
      "text/plain": [
       "   BOROUGH   NEIGHBORHOOD                      BUILDING CLASS CATEGORY  \\\n",
       "0        1  ALPHABET CITY  07 RENTALS - WALKUP APARTMENTS                \n",
       "1        1  ALPHABET CITY  07 RENTALS - WALKUP APARTMENTS                \n",
       "2        1  ALPHABET CITY  07 RENTALS - WALKUP APARTMENTS                \n",
       "3        1  ALPHABET CITY  07 RENTALS - WALKUP APARTMENTS                \n",
       "4        1  ALPHABET CITY  07 RENTALS - WALKUP APARTMENTS                \n",
       "\n",
       "  TAX CLASS AT PRESENT  BLOCK  LOT BUILDING CLASS AT PRESENT  \\\n",
       "0                   2A    392    6                        C2   \n",
       "1                    2    399   26                        C7   \n",
       "2                    2    399   39                        C7   \n",
       "3                   2B    402   21                        C4   \n",
       "4                   2A    404   55                        C2   \n",
       "\n",
       "                  ADDRESS  RESIDENTIAL UNITS  COMMERCIAL UNITS  ...  \\\n",
       "0            153 AVENUE B                  5                 0  ...   \n",
       "1   234 EAST 4TH   STREET                 28                 3  ...   \n",
       "2   197 EAST 3RD   STREET                 16                 1  ...   \n",
       "3     154 EAST 7TH STREET                 10                 0  ...   \n",
       "4  301 EAST 10TH   STREET                  6                 0  ...   \n",
       "\n",
       "   TAX CLASS AT TIME OF SALE BUILDING CLASS AT TIME OF SALE SALE PRICE  \\\n",
       "0                          2                             C2    6625000   \n",
       "1                          2                             C7        -     \n",
       "2                          2                             C7        -     \n",
       "3                          2                             C4    3936272   \n",
       "4                          2                             C2    8000000   \n",
       "\n",
       "             SALE DATE  BUILDING CLASS AT PRESENT_new NEIGHBORHOOD_new  \\\n",
       "0  2017-07-19 00:00:00                             16                1   \n",
       "1  2016-12-14 00:00:00                             21                1   \n",
       "2  2016-12-09 00:00:00                             21                1   \n",
       "3  2016-09-23 00:00:00                             18                1   \n",
       "4  2016-11-17 00:00:00                             16                1   \n",
       "\n",
       "  BUILDING CLASS CATEGORY_new TAX CLASS AT PRESENT_new  ADDRESS_new  \\\n",
       "0                           6                        6        14889   \n",
       "1                           6                        5        28592   \n",
       "2                           6                        5        22192   \n",
       "3                           6                        7        15090   \n",
       "4                           6                        6        35431   \n",
       "\n",
       "   BUILDING CLASS AT TIME OF SALE_new  \n",
       "0                                  15  \n",
       "1                                  20  \n",
       "2                                  20  \n",
       "3                                  17  \n",
       "4                                  15  \n",
       "\n",
       "[5 rows x 24 columns]"
      ]
     },
     "execution_count": 197,
     "metadata": {},
     "output_type": "execute_result"
    }
   ],
   "source": [
    "dt_nyc.head()"
   ]
  },
  {
   "cell_type": "code",
   "execution_count": 206,
   "metadata": {},
   "outputs": [
    {
     "name": "stdout",
     "output_type": "stream",
     "text": [
      "18306 2.307494810444663 22.23843884683196\n"
     ]
    }
   ],
   "source": [
    "a = dt_nyc[dt_nyc['BOROUGH'] == 1]\n",
    "b = dt_nyc[dt_nyc['BOROUGH'] == 2]\n",
    "\n",
    "# Graded-Funtion\n",
    "n1 = len(a)\n",
    "mu1 = a[\"RESIDENTIAL UNITS\"].mean()\n",
    "sd1 = a[\"RESIDENTIAL UNITS\"].std()\n",
    "print(n1, mu1, sd1)"
   ]
  },
  {
   "cell_type": "code",
   "execution_count": 207,
   "metadata": {},
   "outputs": [
    {
     "name": "stdout",
     "output_type": "stream",
     "text": [
      "7049 3.4366576819407006 23.672951272949888\n"
     ]
    }
   ],
   "source": [
    "n2 = len(b)\n",
    "mu2 = b[\"RESIDENTIAL UNITS\"].mean()\n",
    "sd2 = b[\"RESIDENTIAL UNITS\"].std()\n",
    "\n",
    "print(n2, mu2, sd2)"
   ]
  },
  {
   "cell_type": "code",
   "execution_count": 209,
   "metadata": {},
   "outputs": [
    {
     "data": {
      "text/plain": [
       "(-3.557026602420361, 0.00037507618628452227)"
      ]
     },
     "execution_count": 209,
     "metadata": {},
     "output_type": "execute_result"
    }
   ],
   "source": [
    "sm.stats.ztest(a[\"RESIDENTIAL UNITS\"].dropna(), \n",
    "               b[\"RESIDENTIAL UNITS\"].dropna(), \n",
    "               alternative='two-sided')"
   ]
  },
  {
   "cell_type": "markdown",
   "metadata": {},
   "source": [
    "**Conclusion** // *Menarik informasi/kesimpulan berdasarkan area plot yang telah student buat*"
   ]
  },
  {
   "cell_type": "markdown",
   "metadata": {},
   "source": [
    "1. Berdasarkan hasil perhitungan di atas, didapatkan nilai p-value sebesar -3.557026602420361 < alpha = 0.05 yang berarti H0 ditolak atau RESIDENTIAL UNITS dari BOROUGH1 < BOROUGH2."
   ]
  },
  {
   "cell_type": "markdown",
   "metadata": {},
   "source": [
    "# J. Overall Analysis"
   ]
  },
  {
   "cell_type": "markdown",
   "metadata": {},
   "source": [
    "1. Berdasarkan hasil perhitungan mean menunjukkan bahwa rata-rata tertinggi diperoleh dari kolom BLOCK dengan nilai rata-rata 4237.218976, dan terendah diperoleh kolom COMMERCIAL UNITS  dengan nilai rata-rata 0.193559. \n",
    "2.  Berdasarkan hasil perhitungan median menunjukkan bahwa median tertinggi diperoleh dari kolom ADDRESS_new dengan nilai rata-rata 33806.5 dan median terendah diperoleh kolom COMMERCIAL UNITS  dengan nilai median 0.0. \n",
    "3. Berdasarkan hasil perhitungan modus menunjukkan bahwa modus yang sering muncul dari dataset NYC Rolling Sales adalah ADDRESS_new dengan total modus 8984.\n",
    "4. Berdasarkan hasil perhitungan range menunjukkan bahwa nilai range dari data BOROUGH berdasarkan dataset NYC ROlling Sales yang diambil dari nilai maksimal - nilai minimum mendapatkan hasil yaitu 4. \n",
    "5. Berdasarkan hasil perhitungan variance menunjukkan bahwa variance tertinggi diperoleh dari kolom BUILDING CLASS CATEGORY_new dengan nilai variance sebesar 8.141408e+01.as_integer_ratio.\n",
    "6. Berdasarkan hasil perhitungan standar deviasi menunjukkan bahwa nilai standar deviasi terendah diperoleh kolom TAX CLASS AT TIME OF SALE dengan nilai standar deviasi sebesar 0.819341.\n",
    "7. Dari gambar analisis distribusi probabilitas ditampilkan bahwasanya kurva distribusi probabilitas jarak nilai maksimal dan nilai nimimalnya sangat rentan jauh. Dan kondisi peluang  tersebut semakin banyak block semakin rendah hingga mencapai nilai 0. \n",
    "8. Berdasarkan hasil perhitungan di atas, didapatkan nilai p-value sebesar -3.557026602420361 < alpha = 0.05 yang berarti H0 ditolak atau RESIDENTIAL UNITS dari BOROUGH1 < BOROUGH2."
   ]
  },
  {
   "cell_type": "markdown",
   "metadata": {},
   "source": [
    "                                                                        --- Selesai ---"
   ]
  }
 ],
 "metadata": {
  "kernelspec": {
   "display_name": "Python 3",
   "language": "python",
   "name": "python3"
  },
  "language_info": {
   "codemirror_mode": {
    "name": "ipython",
    "version": 3
   },
   "file_extension": ".py",
   "mimetype": "text/x-python",
   "name": "python",
   "nbconvert_exporter": "python",
   "pygments_lexer": "ipython3",
   "version": "3.8.3"
  },
  "toc": {
   "base_numbering": 1,
   "nav_menu": {},
   "number_sections": true,
   "sideBar": true,
   "skip_h1_title": false,
   "title_cell": "Table of Contents",
   "title_sidebar": "Contents",
   "toc_cell": false,
   "toc_position": {
    "height": "calc(100% - 180px)",
    "left": "10px",
    "top": "150px",
    "width": "316px"
   },
   "toc_section_display": true,
   "toc_window_display": true
  }
 },
 "nbformat": 4,
 "nbformat_minor": 5
}
